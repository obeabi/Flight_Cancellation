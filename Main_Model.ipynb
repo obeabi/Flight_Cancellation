{
  "nbformat": 4,
  "nbformat_minor": 0,
  "metadata": {
    "colab": {
      "name": "Main-Model.ipynb",
      "provenance": [],
      "toc_visible": true,
      "authorship_tag": "ABX9TyMJlVhJIucix8XRcI9tDr6c",
      "include_colab_link": true
    },
    "kernelspec": {
      "name": "python3",
      "display_name": "Python 3"
    }
  },
  "cells": [
    {
      "cell_type": "markdown",
      "metadata": {
        "id": "view-in-github",
        "colab_type": "text"
      },
      "source": [
        "<a href=\"https://colab.research.google.com/github/obeabi/Flight_Cancellation/blob/main/Main_Model.ipynb\" target=\"_parent\"><img src=\"https://colab.research.google.com/assets/colab-badge.svg\" alt=\"Open In Colab\"/></a>"
      ]
    },
    {
      "cell_type": "markdown",
      "metadata": {
        "id": "bLC1CGWXFfS4"
      },
      "source": [
        "# Written by Abiola Obembe\r\n",
        "# SDS Challenge #1 - Flight Cancellations\r\n",
        "## 2020-12-19\r\n",
        "\r\n",
        "## Stage 2: Feature Engineering and Selection"
      ]
    },
    {
      "cell_type": "markdown",
      "metadata": {
        "id": "5ZpIh9XyFv1S"
      },
      "source": [
        "## Problem Statement\r\n",
        "I have been hired by the US Department of Transportation (DOT) to analyze data from multiple airline carriers in the United States. The DOT wants to help airline carriers reduce the number of flight cancellations and improve travelers' experiences. My job is to help the DOT predict whether or not a flight will be canceled based on the data provided."
      ]
    },
    {
      "cell_type": "code",
      "metadata": {
        "colab": {
          "base_uri": "https://localhost:8080/"
        },
        "id": "qy37wkJ0Ft1o",
        "outputId": "5a9c827a-846c-4951-ecf7-eedca1c9b58f"
      },
      "source": [
        "# Importing the libraries\r\n",
        "import numpy as np\r\n",
        "import matplotlib.pyplot as plt\r\n",
        "import pandas as pd\r\n",
        "import seaborn as sns\r\n",
        "!pip install imbalanced-learn\r\n",
        "!pip install category_encoders\r\n",
        "import category_encoders as ce\r\n",
        "\r\n",
        "%matplotlib inline\r\n",
        "plt.rcParams['figure.figsize'] = (5.0, 4.0) # set default size of plots\r\n",
        "plt.rcParams['image.interpolation'] = 'nearest'\r\n",
        "plt.rcParams['image.cmap'] = 'gray'\r\n",
        "\r\n",
        "print('Libraries installed successfully!')\r\n",
        "\r\n",
        "np.random.seed(0)"
      ],
      "execution_count": 49,
      "outputs": [
        {
          "output_type": "stream",
          "text": [
            "Requirement already satisfied: imbalanced-learn in /usr/local/lib/python3.6/dist-packages (0.4.3)\n",
            "Requirement already satisfied: scikit-learn>=0.20 in /usr/local/lib/python3.6/dist-packages (from imbalanced-learn) (0.22.2.post1)\n",
            "Requirement already satisfied: scipy>=0.13.3 in /usr/local/lib/python3.6/dist-packages (from imbalanced-learn) (1.4.1)\n",
            "Requirement already satisfied: numpy>=1.8.2 in /usr/local/lib/python3.6/dist-packages (from imbalanced-learn) (1.19.4)\n",
            "Requirement already satisfied: joblib>=0.11 in /usr/local/lib/python3.6/dist-packages (from scikit-learn>=0.20->imbalanced-learn) (1.0.0)\n",
            "Requirement already satisfied: category_encoders in /usr/local/lib/python3.6/dist-packages (2.2.2)\n",
            "Requirement already satisfied: scikit-learn>=0.20.0 in /usr/local/lib/python3.6/dist-packages (from category_encoders) (0.22.2.post1)\n",
            "Requirement already satisfied: scipy>=1.0.0 in /usr/local/lib/python3.6/dist-packages (from category_encoders) (1.4.1)\n",
            "Requirement already satisfied: pandas>=0.21.1 in /usr/local/lib/python3.6/dist-packages (from category_encoders) (1.1.5)\n",
            "Requirement already satisfied: statsmodels>=0.9.0 in /usr/local/lib/python3.6/dist-packages (from category_encoders) (0.10.2)\n",
            "Requirement already satisfied: numpy>=1.14.0 in /usr/local/lib/python3.6/dist-packages (from category_encoders) (1.19.4)\n",
            "Requirement already satisfied: patsy>=0.5.1 in /usr/local/lib/python3.6/dist-packages (from category_encoders) (0.5.1)\n",
            "Requirement already satisfied: joblib>=0.11 in /usr/local/lib/python3.6/dist-packages (from scikit-learn>=0.20.0->category_encoders) (1.0.0)\n",
            "Requirement already satisfied: python-dateutil>=2.7.3 in /usr/local/lib/python3.6/dist-packages (from pandas>=0.21.1->category_encoders) (2.8.1)\n",
            "Requirement already satisfied: pytz>=2017.2 in /usr/local/lib/python3.6/dist-packages (from pandas>=0.21.1->category_encoders) (2018.9)\n",
            "Requirement already satisfied: six in /usr/local/lib/python3.6/dist-packages (from patsy>=0.5.1->category_encoders) (1.15.0)\n",
            "Libraries installed successfully!\n"
          ],
          "name": "stdout"
        }
      ]
    },
    {
      "cell_type": "code",
      "metadata": {
        "colab": {
          "base_uri": "https://localhost:8080/",
          "height": 232
        },
        "id": "xVaYe7ICGG_y",
        "outputId": "6d6d5012-5247-44e9-e7f8-922389dbab6e"
      },
      "source": [
        "# Importing the dataset and check the shape and total number of missing values\r\n",
        "\r\n",
        "df_train = pd.read_csv('Clean_train.csv', engine= 'python', encoding= 'latin1')\r\n",
        "df_test = pd.read_csv('Clean_test.csv', engine = 'python', encoding ='latin1')\r\n",
        "\r\n",
        "df_train.head()"
      ],
      "execution_count": 50,
      "outputs": [
        {
          "output_type": "execute_result",
          "data": {
            "text/html": [
              "<div>\n",
              "<style scoped>\n",
              "    .dataframe tbody tr th:only-of-type {\n",
              "        vertical-align: middle;\n",
              "    }\n",
              "\n",
              "    .dataframe tbody tr th {\n",
              "        vertical-align: top;\n",
              "    }\n",
              "\n",
              "    .dataframe thead th {\n",
              "        text-align: right;\n",
              "    }\n",
              "</style>\n",
              "<table border=\"1\" class=\"dataframe\">\n",
              "  <thead>\n",
              "    <tr style=\"text-align: right;\">\n",
              "      <th></th>\n",
              "      <th>Unnamed: 0</th>\n",
              "      <th>YEAR</th>\n",
              "      <th>MONTH</th>\n",
              "      <th>DAY</th>\n",
              "      <th>DAY_OF_WEEK</th>\n",
              "      <th>AIRLINE</th>\n",
              "      <th>FLIGHT_NUMBER</th>\n",
              "      <th>TAIL_NUMBER</th>\n",
              "      <th>ORIGIN_AIRPORT</th>\n",
              "      <th>DESTINATION_AIRPORT</th>\n",
              "      <th>SCHEDULED_DEPARTURE</th>\n",
              "      <th>SCHEDULED_TIME</th>\n",
              "      <th>DISTANCE</th>\n",
              "      <th>SCHEDULED_ARRIVAL</th>\n",
              "      <th>CANCELLED</th>\n",
              "    </tr>\n",
              "  </thead>\n",
              "  <tbody>\n",
              "    <tr>\n",
              "      <th>0</th>\n",
              "      <td>0</td>\n",
              "      <td>2015</td>\n",
              "      <td>1</td>\n",
              "      <td>1</td>\n",
              "      <td>4</td>\n",
              "      <td>AS</td>\n",
              "      <td>98</td>\n",
              "      <td>N407AS</td>\n",
              "      <td>ANC</td>\n",
              "      <td>SEA</td>\n",
              "      <td>5</td>\n",
              "      <td>205.0</td>\n",
              "      <td>1448</td>\n",
              "      <td>430</td>\n",
              "      <td>0</td>\n",
              "    </tr>\n",
              "    <tr>\n",
              "      <th>1</th>\n",
              "      <td>1</td>\n",
              "      <td>2015</td>\n",
              "      <td>1</td>\n",
              "      <td>1</td>\n",
              "      <td>4</td>\n",
              "      <td>AA</td>\n",
              "      <td>2336</td>\n",
              "      <td>N3KUAA</td>\n",
              "      <td>LAX</td>\n",
              "      <td>PBI</td>\n",
              "      <td>10</td>\n",
              "      <td>280.0</td>\n",
              "      <td>2330</td>\n",
              "      <td>750</td>\n",
              "      <td>0</td>\n",
              "    </tr>\n",
              "    <tr>\n",
              "      <th>2</th>\n",
              "      <td>2</td>\n",
              "      <td>2015</td>\n",
              "      <td>1</td>\n",
              "      <td>1</td>\n",
              "      <td>4</td>\n",
              "      <td>US</td>\n",
              "      <td>840</td>\n",
              "      <td>N171US</td>\n",
              "      <td>SFO</td>\n",
              "      <td>CLT</td>\n",
              "      <td>20</td>\n",
              "      <td>286.0</td>\n",
              "      <td>2296</td>\n",
              "      <td>806</td>\n",
              "      <td>0</td>\n",
              "    </tr>\n",
              "    <tr>\n",
              "      <th>3</th>\n",
              "      <td>3</td>\n",
              "      <td>2015</td>\n",
              "      <td>1</td>\n",
              "      <td>1</td>\n",
              "      <td>4</td>\n",
              "      <td>AA</td>\n",
              "      <td>258</td>\n",
              "      <td>N3HYAA</td>\n",
              "      <td>LAX</td>\n",
              "      <td>MIA</td>\n",
              "      <td>20</td>\n",
              "      <td>285.0</td>\n",
              "      <td>2342</td>\n",
              "      <td>805</td>\n",
              "      <td>0</td>\n",
              "    </tr>\n",
              "    <tr>\n",
              "      <th>4</th>\n",
              "      <td>4</td>\n",
              "      <td>2015</td>\n",
              "      <td>1</td>\n",
              "      <td>1</td>\n",
              "      <td>4</td>\n",
              "      <td>AS</td>\n",
              "      <td>135</td>\n",
              "      <td>N527AS</td>\n",
              "      <td>SEA</td>\n",
              "      <td>ANC</td>\n",
              "      <td>25</td>\n",
              "      <td>235.0</td>\n",
              "      <td>1448</td>\n",
              "      <td>320</td>\n",
              "      <td>0</td>\n",
              "    </tr>\n",
              "  </tbody>\n",
              "</table>\n",
              "</div>"
            ],
            "text/plain": [
              "   Unnamed: 0  YEAR  MONTH  ...  DISTANCE  SCHEDULED_ARRIVAL CANCELLED\n",
              "0           0  2015      1  ...      1448                430         0\n",
              "1           1  2015      1  ...      2330                750         0\n",
              "2           2  2015      1  ...      2296                806         0\n",
              "3           3  2015      1  ...      2342                805         0\n",
              "4           4  2015      1  ...      1448                320         0\n",
              "\n",
              "[5 rows x 15 columns]"
            ]
          },
          "metadata": {
            "tags": []
          },
          "execution_count": 50
        }
      ]
    },
    {
      "cell_type": "code",
      "metadata": {
        "colab": {
          "base_uri": "https://localhost:8080/"
        },
        "id": "wq7RBJLzHvdm",
        "outputId": "194e2ff0-605c-47ea-b177-039e1352d3de"
      },
      "source": [
        "# print column names\r\n",
        "df_train.columns"
      ],
      "execution_count": 51,
      "outputs": [
        {
          "output_type": "execute_result",
          "data": {
            "text/plain": [
              "Index(['Unnamed: 0', 'YEAR', 'MONTH', 'DAY', 'DAY_OF_WEEK', 'AIRLINE',\n",
              "       'FLIGHT_NUMBER', 'TAIL_NUMBER', 'ORIGIN_AIRPORT', 'DESTINATION_AIRPORT',\n",
              "       'SCHEDULED_DEPARTURE', 'SCHEDULED_TIME', 'DISTANCE',\n",
              "       'SCHEDULED_ARRIVAL', 'CANCELLED'],\n",
              "      dtype='object')"
            ]
          },
          "metadata": {
            "tags": []
          },
          "execution_count": 51
        }
      ]
    },
    {
      "cell_type": "code",
      "metadata": {
        "colab": {
          "base_uri": "https://localhost:8080/",
          "height": 215
        },
        "id": "viLuAIRPH0sJ",
        "outputId": "119cb107-66ad-4455-a355-59cd146ed761"
      },
      "source": [
        "# drop column \"Unamed\"\r\n",
        "\r\n",
        "df_train.drop(columns= 'Unnamed: 0', axis = 1, inplace= True)\r\n",
        "\r\n",
        "df_train.head()"
      ],
      "execution_count": 52,
      "outputs": [
        {
          "output_type": "execute_result",
          "data": {
            "text/html": [
              "<div>\n",
              "<style scoped>\n",
              "    .dataframe tbody tr th:only-of-type {\n",
              "        vertical-align: middle;\n",
              "    }\n",
              "\n",
              "    .dataframe tbody tr th {\n",
              "        vertical-align: top;\n",
              "    }\n",
              "\n",
              "    .dataframe thead th {\n",
              "        text-align: right;\n",
              "    }\n",
              "</style>\n",
              "<table border=\"1\" class=\"dataframe\">\n",
              "  <thead>\n",
              "    <tr style=\"text-align: right;\">\n",
              "      <th></th>\n",
              "      <th>YEAR</th>\n",
              "      <th>MONTH</th>\n",
              "      <th>DAY</th>\n",
              "      <th>DAY_OF_WEEK</th>\n",
              "      <th>AIRLINE</th>\n",
              "      <th>FLIGHT_NUMBER</th>\n",
              "      <th>TAIL_NUMBER</th>\n",
              "      <th>ORIGIN_AIRPORT</th>\n",
              "      <th>DESTINATION_AIRPORT</th>\n",
              "      <th>SCHEDULED_DEPARTURE</th>\n",
              "      <th>SCHEDULED_TIME</th>\n",
              "      <th>DISTANCE</th>\n",
              "      <th>SCHEDULED_ARRIVAL</th>\n",
              "      <th>CANCELLED</th>\n",
              "    </tr>\n",
              "  </thead>\n",
              "  <tbody>\n",
              "    <tr>\n",
              "      <th>0</th>\n",
              "      <td>2015</td>\n",
              "      <td>1</td>\n",
              "      <td>1</td>\n",
              "      <td>4</td>\n",
              "      <td>AS</td>\n",
              "      <td>98</td>\n",
              "      <td>N407AS</td>\n",
              "      <td>ANC</td>\n",
              "      <td>SEA</td>\n",
              "      <td>5</td>\n",
              "      <td>205.0</td>\n",
              "      <td>1448</td>\n",
              "      <td>430</td>\n",
              "      <td>0</td>\n",
              "    </tr>\n",
              "    <tr>\n",
              "      <th>1</th>\n",
              "      <td>2015</td>\n",
              "      <td>1</td>\n",
              "      <td>1</td>\n",
              "      <td>4</td>\n",
              "      <td>AA</td>\n",
              "      <td>2336</td>\n",
              "      <td>N3KUAA</td>\n",
              "      <td>LAX</td>\n",
              "      <td>PBI</td>\n",
              "      <td>10</td>\n",
              "      <td>280.0</td>\n",
              "      <td>2330</td>\n",
              "      <td>750</td>\n",
              "      <td>0</td>\n",
              "    </tr>\n",
              "    <tr>\n",
              "      <th>2</th>\n",
              "      <td>2015</td>\n",
              "      <td>1</td>\n",
              "      <td>1</td>\n",
              "      <td>4</td>\n",
              "      <td>US</td>\n",
              "      <td>840</td>\n",
              "      <td>N171US</td>\n",
              "      <td>SFO</td>\n",
              "      <td>CLT</td>\n",
              "      <td>20</td>\n",
              "      <td>286.0</td>\n",
              "      <td>2296</td>\n",
              "      <td>806</td>\n",
              "      <td>0</td>\n",
              "    </tr>\n",
              "    <tr>\n",
              "      <th>3</th>\n",
              "      <td>2015</td>\n",
              "      <td>1</td>\n",
              "      <td>1</td>\n",
              "      <td>4</td>\n",
              "      <td>AA</td>\n",
              "      <td>258</td>\n",
              "      <td>N3HYAA</td>\n",
              "      <td>LAX</td>\n",
              "      <td>MIA</td>\n",
              "      <td>20</td>\n",
              "      <td>285.0</td>\n",
              "      <td>2342</td>\n",
              "      <td>805</td>\n",
              "      <td>0</td>\n",
              "    </tr>\n",
              "    <tr>\n",
              "      <th>4</th>\n",
              "      <td>2015</td>\n",
              "      <td>1</td>\n",
              "      <td>1</td>\n",
              "      <td>4</td>\n",
              "      <td>AS</td>\n",
              "      <td>135</td>\n",
              "      <td>N527AS</td>\n",
              "      <td>SEA</td>\n",
              "      <td>ANC</td>\n",
              "      <td>25</td>\n",
              "      <td>235.0</td>\n",
              "      <td>1448</td>\n",
              "      <td>320</td>\n",
              "      <td>0</td>\n",
              "    </tr>\n",
              "  </tbody>\n",
              "</table>\n",
              "</div>"
            ],
            "text/plain": [
              "   YEAR  MONTH  DAY  ...  DISTANCE SCHEDULED_ARRIVAL  CANCELLED\n",
              "0  2015      1    1  ...      1448               430          0\n",
              "1  2015      1    1  ...      2330               750          0\n",
              "2  2015      1    1  ...      2296               806          0\n",
              "3  2015      1    1  ...      2342               805          0\n",
              "4  2015      1    1  ...      1448               320          0\n",
              "\n",
              "[5 rows x 14 columns]"
            ]
          },
          "metadata": {
            "tags": []
          },
          "execution_count": 52
        }
      ]
    },
    {
      "cell_type": "code",
      "metadata": {
        "colab": {
          "base_uri": "https://localhost:8080/"
        },
        "id": "29N3zokTIORZ",
        "outputId": "3fe72a1a-32ea-4a30-9e62-149c9c8c0143"
      },
      "source": [
        "# Inspect test set dataframe\r\n",
        "df_test.columns\r\n"
      ],
      "execution_count": 53,
      "outputs": [
        {
          "output_type": "execute_result",
          "data": {
            "text/plain": [
              "Index(['Unnamed: 0', 'YEAR', 'MONTH', 'DAY', 'DAY_OF_WEEK', 'AIRLINE',\n",
              "       'FLIGHT_NUMBER', 'TAIL_NUMBER', 'ORIGIN_AIRPORT', 'DESTINATION_AIRPORT',\n",
              "       'SCHEDULED_DEPARTURE', 'SCHEDULED_TIME', 'DISTANCE',\n",
              "       'SCHEDULED_ARRIVAL'],\n",
              "      dtype='object')"
            ]
          },
          "metadata": {
            "tags": []
          },
          "execution_count": 53
        }
      ]
    },
    {
      "cell_type": "code",
      "metadata": {
        "colab": {
          "base_uri": "https://localhost:8080/",
          "height": 215
        },
        "id": "nutne2iJITOc",
        "outputId": "9b30e382-7d13-4300-aea5-b96982610edc"
      },
      "source": [
        "# drop column \"Unamed: 0\"\r\n",
        "\r\n",
        "df_test.drop(columns= 'Unnamed: 0', axis = 1, inplace= True)\r\n",
        "\r\n",
        "df_test.head()"
      ],
      "execution_count": 54,
      "outputs": [
        {
          "output_type": "execute_result",
          "data": {
            "text/html": [
              "<div>\n",
              "<style scoped>\n",
              "    .dataframe tbody tr th:only-of-type {\n",
              "        vertical-align: middle;\n",
              "    }\n",
              "\n",
              "    .dataframe tbody tr th {\n",
              "        vertical-align: top;\n",
              "    }\n",
              "\n",
              "    .dataframe thead th {\n",
              "        text-align: right;\n",
              "    }\n",
              "</style>\n",
              "<table border=\"1\" class=\"dataframe\">\n",
              "  <thead>\n",
              "    <tr style=\"text-align: right;\">\n",
              "      <th></th>\n",
              "      <th>YEAR</th>\n",
              "      <th>MONTH</th>\n",
              "      <th>DAY</th>\n",
              "      <th>DAY_OF_WEEK</th>\n",
              "      <th>AIRLINE</th>\n",
              "      <th>FLIGHT_NUMBER</th>\n",
              "      <th>TAIL_NUMBER</th>\n",
              "      <th>ORIGIN_AIRPORT</th>\n",
              "      <th>DESTINATION_AIRPORT</th>\n",
              "      <th>SCHEDULED_DEPARTURE</th>\n",
              "      <th>SCHEDULED_TIME</th>\n",
              "      <th>DISTANCE</th>\n",
              "      <th>SCHEDULED_ARRIVAL</th>\n",
              "    </tr>\n",
              "  </thead>\n",
              "  <tbody>\n",
              "    <tr>\n",
              "      <th>0</th>\n",
              "      <td>2015</td>\n",
              "      <td>2</td>\n",
              "      <td>25</td>\n",
              "      <td>3</td>\n",
              "      <td>WN</td>\n",
              "      <td>1046</td>\n",
              "      <td>N731SA</td>\n",
              "      <td>LAS</td>\n",
              "      <td>PHX</td>\n",
              "      <td>700</td>\n",
              "      <td>65</td>\n",
              "      <td>255</td>\n",
              "      <td>905</td>\n",
              "    </tr>\n",
              "    <tr>\n",
              "      <th>1</th>\n",
              "      <td>2015</td>\n",
              "      <td>2</td>\n",
              "      <td>25</td>\n",
              "      <td>3</td>\n",
              "      <td>WN</td>\n",
              "      <td>2251</td>\n",
              "      <td>N279WN</td>\n",
              "      <td>LAS</td>\n",
              "      <td>RNO</td>\n",
              "      <td>700</td>\n",
              "      <td>80</td>\n",
              "      <td>345</td>\n",
              "      <td>820</td>\n",
              "    </tr>\n",
              "    <tr>\n",
              "      <th>2</th>\n",
              "      <td>2015</td>\n",
              "      <td>2</td>\n",
              "      <td>25</td>\n",
              "      <td>3</td>\n",
              "      <td>WN</td>\n",
              "      <td>857</td>\n",
              "      <td>N277WN</td>\n",
              "      <td>LAS</td>\n",
              "      <td>SMF</td>\n",
              "      <td>700</td>\n",
              "      <td>90</td>\n",
              "      <td>397</td>\n",
              "      <td>830</td>\n",
              "    </tr>\n",
              "    <tr>\n",
              "      <th>3</th>\n",
              "      <td>2015</td>\n",
              "      <td>2</td>\n",
              "      <td>25</td>\n",
              "      <td>3</td>\n",
              "      <td>WN</td>\n",
              "      <td>2864</td>\n",
              "      <td>N8632A</td>\n",
              "      <td>LAX</td>\n",
              "      <td>BWI</td>\n",
              "      <td>700</td>\n",
              "      <td>295</td>\n",
              "      <td>2329</td>\n",
              "      <td>1455</td>\n",
              "    </tr>\n",
              "    <tr>\n",
              "      <th>4</th>\n",
              "      <td>2015</td>\n",
              "      <td>2</td>\n",
              "      <td>25</td>\n",
              "      <td>3</td>\n",
              "      <td>WN</td>\n",
              "      <td>3220</td>\n",
              "      <td>N8659D</td>\n",
              "      <td>LAX</td>\n",
              "      <td>PHX</td>\n",
              "      <td>700</td>\n",
              "      <td>80</td>\n",
              "      <td>370</td>\n",
              "      <td>920</td>\n",
              "    </tr>\n",
              "  </tbody>\n",
              "</table>\n",
              "</div>"
            ],
            "text/plain": [
              "   YEAR  MONTH  DAY  ...  SCHEDULED_TIME DISTANCE  SCHEDULED_ARRIVAL\n",
              "0  2015      2   25  ...              65      255                905\n",
              "1  2015      2   25  ...              80      345                820\n",
              "2  2015      2   25  ...              90      397                830\n",
              "3  2015      2   25  ...             295     2329               1455\n",
              "4  2015      2   25  ...              80      370                920\n",
              "\n",
              "[5 rows x 13 columns]"
            ]
          },
          "metadata": {
            "tags": []
          },
          "execution_count": 54
        }
      ]
    },
    {
      "cell_type": "code",
      "metadata": {
        "colab": {
          "base_uri": "https://localhost:8080/",
          "height": 295
        },
        "id": "Noljgb_5Ge4I",
        "outputId": "b4c422d6-3cc6-471b-85ba-b0dc91f6566a"
      },
      "source": [
        "# Let's visualize the distribution of data\r\n",
        "count_classes = pd.value_counts(df_train['CANCELLED'], sort = True)\r\n",
        "count_classes.plot(kind = 'bar', rot = 0)\r\n",
        "plt.title(\"Cancelled Flights Distribution\")\r\n",
        "plt.xticks(range(2))\r\n",
        "plt.xlabel(\"CANCELLED\")\r\n",
        "plt.ylabel('Frequency')\r\n",
        "plt.show()"
      ],
      "execution_count": 55,
      "outputs": [
        {
          "output_type": "display_data",
          "data": {
            "image/png": "[encoded data removed]",
            "text/plain": [
              "<Figure size 360x288 with 1 Axes>"
            ]
          },
          "metadata": {
            "tags": [],
            "needs_background": "light"
          }
        }
      ]
    },
    {
      "cell_type": "code",
      "metadata": {
        "colab": {
          "base_uri": "https://localhost:8080/"
        },
        "id": "kyVnv5uNGoY0",
        "outputId": "86a6c0cb-f22f-4655-ad05-41626e77ced4"
      },
      "source": [
        "# gET THE CANCELLED AND NOT CANCEELED FLIFGTS\r\n",
        "Cancelled = df_train[df_train['CANCELLED']== 1]\r\n",
        "notCancelled = df_train[df_train['CANCELLED']== 0]\r\n",
        "\r\n",
        "print(Cancelled.shape, notCancelled.shape)"
      ],
      "execution_count": 56,
      "outputs": [
        {
          "output_type": "stream",
          "text": [
            "(22701, 14) (810176, 14)\n"
          ],
          "name": "stdout"
        }
      ]
    },
    {
      "cell_type": "code",
      "metadata": {
        "colab": {
          "base_uri": "https://localhost:8080/",
          "height": 304
        },
        "id": "88XekUiiHJQB",
        "outputId": "b95eb4f1-ab14-43f6-8113-fde61a447a7d"
      },
      "source": [
        "# Print dataframe statistics\r\n",
        "\r\n",
        "df_train.describe()"
      ],
      "execution_count": 57,
      "outputs": [
        {
          "output_type": "execute_result",
          "data": {
            "text/html": [
              "<div>\n",
              "<style scoped>\n",
              "    .dataframe tbody tr th:only-of-type {\n",
              "        vertical-align: middle;\n",
              "    }\n",
              "\n",
              "    .dataframe tbody tr th {\n",
              "        vertical-align: top;\n",
              "    }\n",
              "\n",
              "    .dataframe thead th {\n",
              "        text-align: right;\n",
              "    }\n",
              "</style>\n",
              "<table border=\"1\" class=\"dataframe\">\n",
              "  <thead>\n",
              "    <tr style=\"text-align: right;\">\n",
              "      <th></th>\n",
              "      <th>YEAR</th>\n",
              "      <th>MONTH</th>\n",
              "      <th>DAY</th>\n",
              "      <th>DAY_OF_WEEK</th>\n",
              "      <th>FLIGHT_NUMBER</th>\n",
              "      <th>SCHEDULED_DEPARTURE</th>\n",
              "      <th>SCHEDULED_TIME</th>\n",
              "      <th>DISTANCE</th>\n",
              "      <th>SCHEDULED_ARRIVAL</th>\n",
              "      <th>CANCELLED</th>\n",
              "    </tr>\n",
              "  </thead>\n",
              "  <tbody>\n",
              "    <tr>\n",
              "      <th>count</th>\n",
              "      <td>832877.0</td>\n",
              "      <td>832877.000000</td>\n",
              "      <td>832877.000000</td>\n",
              "      <td>832877.000000</td>\n",
              "      <td>832877.000000</td>\n",
              "      <td>832877.000000</td>\n",
              "      <td>832877.000000</td>\n",
              "      <td>832877.000000</td>\n",
              "      <td>832877.000000</td>\n",
              "      <td>832877.000000</td>\n",
              "    </tr>\n",
              "    <tr>\n",
              "      <th>mean</th>\n",
              "      <td>2015.0</td>\n",
              "      <td>1.439070</td>\n",
              "      <td>14.430232</td>\n",
              "      <td>3.939077</td>\n",
              "      <td>2268.461972</td>\n",
              "      <td>1323.100787</td>\n",
              "      <td>139.944058</td>\n",
              "      <td>800.685110</td>\n",
              "      <td>1506.587294</td>\n",
              "      <td>0.027256</td>\n",
              "    </tr>\n",
              "    <tr>\n",
              "      <th>std</th>\n",
              "      <td>0.0</td>\n",
              "      <td>0.496274</td>\n",
              "      <td>8.269950</td>\n",
              "      <td>1.995616</td>\n",
              "      <td>1803.899074</td>\n",
              "      <td>468.976270</td>\n",
              "      <td>74.518837</td>\n",
              "      <td>593.237961</td>\n",
              "      <td>484.175501</td>\n",
              "      <td>0.162829</td>\n",
              "    </tr>\n",
              "    <tr>\n",
              "      <th>min</th>\n",
              "      <td>2015.0</td>\n",
              "      <td>1.000000</td>\n",
              "      <td>1.000000</td>\n",
              "      <td>1.000000</td>\n",
              "      <td>1.000000</td>\n",
              "      <td>5.000000</td>\n",
              "      <td>20.000000</td>\n",
              "      <td>31.000000</td>\n",
              "      <td>1.000000</td>\n",
              "      <td>0.000000</td>\n",
              "    </tr>\n",
              "    <tr>\n",
              "      <th>25%</th>\n",
              "      <td>2015.0</td>\n",
              "      <td>1.000000</td>\n",
              "      <td>7.000000</td>\n",
              "      <td>2.000000</td>\n",
              "      <td>759.000000</td>\n",
              "      <td>925.000000</td>\n",
              "      <td>85.000000</td>\n",
              "      <td>365.000000</td>\n",
              "      <td>1123.000000</td>\n",
              "      <td>0.000000</td>\n",
              "    </tr>\n",
              "    <tr>\n",
              "      <th>50%</th>\n",
              "      <td>2015.0</td>\n",
              "      <td>1.000000</td>\n",
              "      <td>14.000000</td>\n",
              "      <td>4.000000</td>\n",
              "      <td>1734.000000</td>\n",
              "      <td>1320.000000</td>\n",
              "      <td>121.000000</td>\n",
              "      <td>641.000000</td>\n",
              "      <td>1525.000000</td>\n",
              "      <td>0.000000</td>\n",
              "    </tr>\n",
              "    <tr>\n",
              "      <th>75%</th>\n",
              "      <td>2015.0</td>\n",
              "      <td>2.000000</td>\n",
              "      <td>21.000000</td>\n",
              "      <td>6.000000</td>\n",
              "      <td>3497.000000</td>\n",
              "      <td>1720.000000</td>\n",
              "      <td>173.000000</td>\n",
              "      <td>1045.000000</td>\n",
              "      <td>1915.000000</td>\n",
              "      <td>0.000000</td>\n",
              "    </tr>\n",
              "    <tr>\n",
              "      <th>max</th>\n",
              "      <td>2015.0</td>\n",
              "      <td>2.000000</td>\n",
              "      <td>31.000000</td>\n",
              "      <td>7.000000</td>\n",
              "      <td>9793.000000</td>\n",
              "      <td>2359.000000</td>\n",
              "      <td>718.000000</td>\n",
              "      <td>4983.000000</td>\n",
              "      <td>2359.000000</td>\n",
              "      <td>1.000000</td>\n",
              "    </tr>\n",
              "  </tbody>\n",
              "</table>\n",
              "</div>"
            ],
            "text/plain": [
              "           YEAR          MONTH  ...  SCHEDULED_ARRIVAL      CANCELLED\n",
              "count  832877.0  832877.000000  ...      832877.000000  832877.000000\n",
              "mean     2015.0       1.439070  ...        1506.587294       0.027256\n",
              "std         0.0       0.496274  ...         484.175501       0.162829\n",
              "min      2015.0       1.000000  ...           1.000000       0.000000\n",
              "25%      2015.0       1.000000  ...        1123.000000       0.000000\n",
              "50%      2015.0       1.000000  ...        1525.000000       0.000000\n",
              "75%      2015.0       2.000000  ...        1915.000000       0.000000\n",
              "max      2015.0       2.000000  ...        2359.000000       1.000000\n",
              "\n",
              "[8 rows x 10 columns]"
            ]
          },
          "metadata": {
            "tags": []
          },
          "execution_count": 57
        }
      ]
    },
    {
      "cell_type": "code",
      "metadata": {
        "colab": {
          "base_uri": "https://localhost:8080/",
          "height": 215
        },
        "id": "TeeyRl6DIgI9",
        "outputId": "139c2ac1-45b0-4d53-ef85-af32fcc7d75b"
      },
      "source": [
        "# Extract features and target from train set dataframe\r\n",
        "y = df_train.CANCELLED.values\r\n",
        "X_train = df_train.drop(columns= ['CANCELLED'], axis = 1)\r\n",
        "\r\n",
        "X_train.head()"
      ],
      "execution_count": 58,
      "outputs": [
        {
          "output_type": "execute_result",
          "data": {
            "text/html": [
              "<div>\n",
              "<style scoped>\n",
              "    .dataframe tbody tr th:only-of-type {\n",
              "        vertical-align: middle;\n",
              "    }\n",
              "\n",
              "    .dataframe tbody tr th {\n",
              "        vertical-align: top;\n",
              "    }\n",
              "\n",
              "    .dataframe thead th {\n",
              "        text-align: right;\n",
              "    }\n",
              "</style>\n",
              "<table border=\"1\" class=\"dataframe\">\n",
              "  <thead>\n",
              "    <tr style=\"text-align: right;\">\n",
              "      <th></th>\n",
              "      <th>YEAR</th>\n",
              "      <th>MONTH</th>\n",
              "      <th>DAY</th>\n",
              "      <th>DAY_OF_WEEK</th>\n",
              "      <th>AIRLINE</th>\n",
              "      <th>FLIGHT_NUMBER</th>\n",
              "      <th>TAIL_NUMBER</th>\n",
              "      <th>ORIGIN_AIRPORT</th>\n",
              "      <th>DESTINATION_AIRPORT</th>\n",
              "      <th>SCHEDULED_DEPARTURE</th>\n",
              "      <th>SCHEDULED_TIME</th>\n",
              "      <th>DISTANCE</th>\n",
              "      <th>SCHEDULED_ARRIVAL</th>\n",
              "    </tr>\n",
              "  </thead>\n",
              "  <tbody>\n",
              "    <tr>\n",
              "      <th>0</th>\n",
              "      <td>2015</td>\n",
              "      <td>1</td>\n",
              "      <td>1</td>\n",
              "      <td>4</td>\n",
              "      <td>AS</td>\n",
              "      <td>98</td>\n",
              "      <td>N407AS</td>\n",
              "      <td>ANC</td>\n",
              "      <td>SEA</td>\n",
              "      <td>5</td>\n",
              "      <td>205.0</td>\n",
              "      <td>1448</td>\n",
              "      <td>430</td>\n",
              "    </tr>\n",
              "    <tr>\n",
              "      <th>1</th>\n",
              "      <td>2015</td>\n",
              "      <td>1</td>\n",
              "      <td>1</td>\n",
              "      <td>4</td>\n",
              "      <td>AA</td>\n",
              "      <td>2336</td>\n",
              "      <td>N3KUAA</td>\n",
              "      <td>LAX</td>\n",
              "      <td>PBI</td>\n",
              "      <td>10</td>\n",
              "      <td>280.0</td>\n",
              "      <td>2330</td>\n",
              "      <td>750</td>\n",
              "    </tr>\n",
              "    <tr>\n",
              "      <th>2</th>\n",
              "      <td>2015</td>\n",
              "      <td>1</td>\n",
              "      <td>1</td>\n",
              "      <td>4</td>\n",
              "      <td>US</td>\n",
              "      <td>840</td>\n",
              "      <td>N171US</td>\n",
              "      <td>SFO</td>\n",
              "      <td>CLT</td>\n",
              "      <td>20</td>\n",
              "      <td>286.0</td>\n",
              "      <td>2296</td>\n",
              "      <td>806</td>\n",
              "    </tr>\n",
              "    <tr>\n",
              "      <th>3</th>\n",
              "      <td>2015</td>\n",
              "      <td>1</td>\n",
              "      <td>1</td>\n",
              "      <td>4</td>\n",
              "      <td>AA</td>\n",
              "      <td>258</td>\n",
              "      <td>N3HYAA</td>\n",
              "      <td>LAX</td>\n",
              "      <td>MIA</td>\n",
              "      <td>20</td>\n",
              "      <td>285.0</td>\n",
              "      <td>2342</td>\n",
              "      <td>805</td>\n",
              "    </tr>\n",
              "    <tr>\n",
              "      <th>4</th>\n",
              "      <td>2015</td>\n",
              "      <td>1</td>\n",
              "      <td>1</td>\n",
              "      <td>4</td>\n",
              "      <td>AS</td>\n",
              "      <td>135</td>\n",
              "      <td>N527AS</td>\n",
              "      <td>SEA</td>\n",
              "      <td>ANC</td>\n",
              "      <td>25</td>\n",
              "      <td>235.0</td>\n",
              "      <td>1448</td>\n",
              "      <td>320</td>\n",
              "    </tr>\n",
              "  </tbody>\n",
              "</table>\n",
              "</div>"
            ],
            "text/plain": [
              "   YEAR  MONTH  DAY  ...  SCHEDULED_TIME DISTANCE  SCHEDULED_ARRIVAL\n",
              "0  2015      1    1  ...           205.0     1448                430\n",
              "1  2015      1    1  ...           280.0     2330                750\n",
              "2  2015      1    1  ...           286.0     2296                806\n",
              "3  2015      1    1  ...           285.0     2342                805\n",
              "4  2015      1    1  ...           235.0     1448                320\n",
              "\n",
              "[5 rows x 13 columns]"
            ]
          },
          "metadata": {
            "tags": []
          },
          "execution_count": 58
        }
      ]
    },
    {
      "cell_type": "code",
      "metadata": {
        "colab": {
          "base_uri": "https://localhost:8080/",
          "height": 195
        },
        "id": "UtIWEc3AG_OH",
        "outputId": "c448cdc2-173b-4e6a-f47c-f881026a6558"
      },
      "source": [
        "# Select numerical columns from X_train\r\n",
        "numerical_cols = [cname for cname in X_train.columns if\r\n",
        "                X_train[cname].dtype in ['int64', 'float64']]\r\n",
        "\r\n",
        "X_train[numerical_cols].head()"
      ],
      "execution_count": 59,
      "outputs": [
        {
          "output_type": "execute_result",
          "data": {
            "text/html": [
              "<div>\n",
              "<style scoped>\n",
              "    .dataframe tbody tr th:only-of-type {\n",
              "        vertical-align: middle;\n",
              "    }\n",
              "\n",
              "    .dataframe tbody tr th {\n",
              "        vertical-align: top;\n",
              "    }\n",
              "\n",
              "    .dataframe thead th {\n",
              "        text-align: right;\n",
              "    }\n",
              "</style>\n",
              "<table border=\"1\" class=\"dataframe\">\n",
              "  <thead>\n",
              "    <tr style=\"text-align: right;\">\n",
              "      <th></th>\n",
              "      <th>YEAR</th>\n",
              "      <th>MONTH</th>\n",
              "      <th>DAY</th>\n",
              "      <th>DAY_OF_WEEK</th>\n",
              "      <th>FLIGHT_NUMBER</th>\n",
              "      <th>SCHEDULED_DEPARTURE</th>\n",
              "      <th>SCHEDULED_TIME</th>\n",
              "      <th>DISTANCE</th>\n",
              "      <th>SCHEDULED_ARRIVAL</th>\n",
              "    </tr>\n",
              "  </thead>\n",
              "  <tbody>\n",
              "    <tr>\n",
              "      <th>0</th>\n",
              "      <td>2015</td>\n",
              "      <td>1</td>\n",
              "      <td>1</td>\n",
              "      <td>4</td>\n",
              "      <td>98</td>\n",
              "      <td>5</td>\n",
              "      <td>205.0</td>\n",
              "      <td>1448</td>\n",
              "      <td>430</td>\n",
              "    </tr>\n",
              "    <tr>\n",
              "      <th>1</th>\n",
              "      <td>2015</td>\n",
              "      <td>1</td>\n",
              "      <td>1</td>\n",
              "      <td>4</td>\n",
              "      <td>2336</td>\n",
              "      <td>10</td>\n",
              "      <td>280.0</td>\n",
              "      <td>2330</td>\n",
              "      <td>750</td>\n",
              "    </tr>\n",
              "    <tr>\n",
              "      <th>2</th>\n",
              "      <td>2015</td>\n",
              "      <td>1</td>\n",
              "      <td>1</td>\n",
              "      <td>4</td>\n",
              "      <td>840</td>\n",
              "      <td>20</td>\n",
              "      <td>286.0</td>\n",
              "      <td>2296</td>\n",
              "      <td>806</td>\n",
              "    </tr>\n",
              "    <tr>\n",
              "      <th>3</th>\n",
              "      <td>2015</td>\n",
              "      <td>1</td>\n",
              "      <td>1</td>\n",
              "      <td>4</td>\n",
              "      <td>258</td>\n",
              "      <td>20</td>\n",
              "      <td>285.0</td>\n",
              "      <td>2342</td>\n",
              "      <td>805</td>\n",
              "    </tr>\n",
              "    <tr>\n",
              "      <th>4</th>\n",
              "      <td>2015</td>\n",
              "      <td>1</td>\n",
              "      <td>1</td>\n",
              "      <td>4</td>\n",
              "      <td>135</td>\n",
              "      <td>25</td>\n",
              "      <td>235.0</td>\n",
              "      <td>1448</td>\n",
              "      <td>320</td>\n",
              "    </tr>\n",
              "  </tbody>\n",
              "</table>\n",
              "</div>"
            ],
            "text/plain": [
              "   YEAR  MONTH  DAY  ...  SCHEDULED_TIME  DISTANCE  SCHEDULED_ARRIVAL\n",
              "0  2015      1    1  ...           205.0      1448                430\n",
              "1  2015      1    1  ...           280.0      2330                750\n",
              "2  2015      1    1  ...           286.0      2296                806\n",
              "3  2015      1    1  ...           285.0      2342                805\n",
              "4  2015      1    1  ...           235.0      1448                320\n",
              "\n",
              "[5 rows x 9 columns]"
            ]
          },
          "metadata": {
            "tags": []
          },
          "execution_count": 59
        }
      ]
    },
    {
      "cell_type": "code",
      "metadata": {
        "colab": {
          "base_uri": "https://localhost:8080/"
        },
        "id": "QxPrwVydJqy4",
        "outputId": "54c214c5-b80d-45c5-f200-41efc5a799d9"
      },
      "source": [
        "# Select categorical columns from X_train i.e. All categorical columns\r\n",
        "category_cols = [col for col in X_train.columns if X_train[col].dtype == \"object\"]\r\n",
        "category_cols"
      ],
      "execution_count": 60,
      "outputs": [
        {
          "output_type": "execute_result",
          "data": {
            "text/plain": [
              "['AIRLINE', 'TAIL_NUMBER', 'ORIGIN_AIRPORT', 'DESTINATION_AIRPORT']"
            ]
          },
          "metadata": {
            "tags": []
          },
          "execution_count": 60
        }
      ]
    },
    {
      "cell_type": "code",
      "metadata": {
        "colab": {
          "base_uri": "https://localhost:8080/",
          "height": 195
        },
        "id": "9rk8WEHTJv-r",
        "outputId": "894b9944-0feb-4ea4-c60b-11f986131642"
      },
      "source": [
        "# Print object categories for X_full for inspection\r\n",
        "X_train[category_cols].head()"
      ],
      "execution_count": 61,
      "outputs": [
        {
          "output_type": "execute_result",
          "data": {
            "text/html": [
              "<div>\n",
              "<style scoped>\n",
              "    .dataframe tbody tr th:only-of-type {\n",
              "        vertical-align: middle;\n",
              "    }\n",
              "\n",
              "    .dataframe tbody tr th {\n",
              "        vertical-align: top;\n",
              "    }\n",
              "\n",
              "    .dataframe thead th {\n",
              "        text-align: right;\n",
              "    }\n",
              "</style>\n",
              "<table border=\"1\" class=\"dataframe\">\n",
              "  <thead>\n",
              "    <tr style=\"text-align: right;\">\n",
              "      <th></th>\n",
              "      <th>AIRLINE</th>\n",
              "      <th>TAIL_NUMBER</th>\n",
              "      <th>ORIGIN_AIRPORT</th>\n",
              "      <th>DESTINATION_AIRPORT</th>\n",
              "    </tr>\n",
              "  </thead>\n",
              "  <tbody>\n",
              "    <tr>\n",
              "      <th>0</th>\n",
              "      <td>AS</td>\n",
              "      <td>N407AS</td>\n",
              "      <td>ANC</td>\n",
              "      <td>SEA</td>\n",
              "    </tr>\n",
              "    <tr>\n",
              "      <th>1</th>\n",
              "      <td>AA</td>\n",
              "      <td>N3KUAA</td>\n",
              "      <td>LAX</td>\n",
              "      <td>PBI</td>\n",
              "    </tr>\n",
              "    <tr>\n",
              "      <th>2</th>\n",
              "      <td>US</td>\n",
              "      <td>N171US</td>\n",
              "      <td>SFO</td>\n",
              "      <td>CLT</td>\n",
              "    </tr>\n",
              "    <tr>\n",
              "      <th>3</th>\n",
              "      <td>AA</td>\n",
              "      <td>N3HYAA</td>\n",
              "      <td>LAX</td>\n",
              "      <td>MIA</td>\n",
              "    </tr>\n",
              "    <tr>\n",
              "      <th>4</th>\n",
              "      <td>AS</td>\n",
              "      <td>N527AS</td>\n",
              "      <td>SEA</td>\n",
              "      <td>ANC</td>\n",
              "    </tr>\n",
              "  </tbody>\n",
              "</table>\n",
              "</div>"
            ],
            "text/plain": [
              "  AIRLINE TAIL_NUMBER ORIGIN_AIRPORT DESTINATION_AIRPORT\n",
              "0      AS      N407AS            ANC                 SEA\n",
              "1      AA      N3KUAA            LAX                 PBI\n",
              "2      US      N171US            SFO                 CLT\n",
              "3      AA      N3HYAA            LAX                 MIA\n",
              "4      AS      N527AS            SEA                 ANC"
            ]
          },
          "metadata": {
            "tags": []
          },
          "execution_count": 61
        }
      ]
    },
    {
      "cell_type": "code",
      "metadata": {
        "colab": {
          "base_uri": "https://localhost:8080/"
        },
        "id": "aYgxb0zbJ16q",
        "outputId": "8cdf66b2-63a9-4b0f-f2f9-4a48a34f18e5"
      },
      "source": [
        "# Let us see the cardanilatity of each column for the categorical columns in X_full \r\n",
        "# Unique value sin each columns\r\n",
        "for cols in category_cols:\r\n",
        "    print(\"Unique values in\", cols,  \"column in training data:\", X_train[cols].nunique())"
      ],
      "execution_count": 62,
      "outputs": [
        {
          "output_type": "stream",
          "text": [
            "Unique values in AIRLINE column in training data: 14\n",
            "Unique values in TAIL_NUMBER column in training data: 4478\n",
            "Unique values in ORIGIN_AIRPORT column in training data: 315\n",
            "Unique values in DESTINATION_AIRPORT column in training data: 315\n"
          ],
          "name": "stdout"
        }
      ]
    },
    {
      "cell_type": "markdown",
      "metadata": {
        "id": "L0F78q0HJ7dF"
      },
      "source": [
        "##### We observe that the cardinality of the columns are all greater than 10 hence one-hot encoding will lead to a huge number of new columns and hence result in the curse of dimensionality problem. Hence in this project we proceed with dropping all columns except airline column and adopt count encoding for airline column for the baseline project. We hope to improve this assumption in future iterations o f the ML model."
      ]
    },
    {
      "cell_type": "code",
      "metadata": {
        "colab": {
          "base_uri": "https://localhost:8080/"
        },
        "id": "fwufiPQXLY_B",
        "outputId": "d5285f85-790f-4179-aa92-963773a26ca2"
      },
      "source": [
        "# Columns that can be safely label encoded in validation set\r\n",
        "good_label_cols = [col for col in category_cols if\r\n",
        "                   set(X_train[col]) == set(df_test[col])]\r\n",
        "\r\n",
        "\r\n",
        "# Problematic columns that will be dropped from the validation dataset\r\n",
        "bad_label_cols = list(set(category_cols) - set(good_label_cols)) \r\n",
        "\r\n",
        "print('Categorical columns that will be encoded:', good_label_cols)\r\n",
        "print('\\nCategorical columns that will be dropped from the dataset:', bad_label_cols)"
      ],
      "execution_count": 63,
      "outputs": [
        {
          "output_type": "stream",
          "text": [
            "Categorical columns that will be encoded: ['AIRLINE', 'ORIGIN_AIRPORT', 'DESTINATION_AIRPORT']\n",
            "\n",
            "Categorical columns that will be dropped from the dataset: ['TAIL_NUMBER']\n"
          ],
          "name": "stdout"
        }
      ]
    },
    {
      "cell_type": "code",
      "metadata": {
        "colab": {
          "base_uri": "https://localhost:8080/"
        },
        "id": "pBHxuEpWJ-r5",
        "outputId": "cdd8417e-682e-4587-98c2-45d0706342b2"
      },
      "source": [
        "# Select categorical columns with relatively high cardinality (convenient but arbitrary)\r\n",
        "high_cardinality = [cname for cname in good_label_cols if\r\n",
        "                    X_train[cname].nunique() > 15 and\r\n",
        "                    X_train[cname].dtype == \"object\"]\r\n",
        "high_cardinality"
      ],
      "execution_count": 64,
      "outputs": [
        {
          "output_type": "execute_result",
          "data": {
            "text/plain": [
              "['ORIGIN_AIRPORT', 'DESTINATION_AIRPORT']"
            ]
          },
          "metadata": {
            "tags": []
          },
          "execution_count": 64
        }
      ]
    },
    {
      "cell_type": "code",
      "metadata": {
        "colab": {
          "base_uri": "https://localhost:8080/"
        },
        "id": "XFzo_XIcKIQi",
        "outputId": "84bb5df1-02f6-4657-e9a5-288c6e2afc19"
      },
      "source": [
        "# Select categorical columns with relatively low cardinality (convenient but arbitrary)\r\n",
        "low_cardinality = [cname for cname in good_label_cols if\r\n",
        "                    X_train[cname].nunique() < 15 and\r\n",
        "                    X_train[cname].dtype == \"object\"]\r\n",
        "low_cardinality"
      ],
      "execution_count": 65,
      "outputs": [
        {
          "output_type": "execute_result",
          "data": {
            "text/plain": [
              "['AIRLINE']"
            ]
          },
          "metadata": {
            "tags": []
          },
          "execution_count": 65
        }
      ]
    },
    {
      "cell_type": "markdown",
      "metadata": {
        "id": "QR7oSB3rMFLX"
      },
      "source": [
        "##### We observe that the cardinality of the columns are all greater than 10 hence one-hot encoding will lead to a huge number of new columns and hence result in the curse of dimensionality problem. However, only the airline column will be considered further since the cardinality is reasonable. We hope to improve this assumption in future iterations o f the ML model."
      ]
    },
    {
      "cell_type": "code",
      "metadata": {
        "colab": {
          "base_uri": "https://localhost:8080/",
          "height": 195
        },
        "id": "NIL9GWAKMr_7",
        "outputId": "10623c84-5ee9-405d-fb6f-ccfbbccd1dad"
      },
      "source": [
        "# Drop categorical columns that will not be encoded/considered further\r\n",
        "X_train.drop(high_cardinality, axis=1, inplace= True)\r\n",
        "df_test.drop(high_cardinality, axis = 1, inplace= True)\r\n",
        "#label_X_valid = X_valid_full.drop(bad_label_cols, axis=1)\r\n",
        "#label_X_test = X_test_full.drop(bad_label_cols, axis=1)\r\n",
        "\r\n",
        "# print dataframe for inspection\r\n",
        "X_train.head()"
      ],
      "execution_count": 66,
      "outputs": [
        {
          "output_type": "execute_result",
          "data": {
            "text/html": [
              "<div>\n",
              "<style scoped>\n",
              "    .dataframe tbody tr th:only-of-type {\n",
              "        vertical-align: middle;\n",
              "    }\n",
              "\n",
              "    .dataframe tbody tr th {\n",
              "        vertical-align: top;\n",
              "    }\n",
              "\n",
              "    .dataframe thead th {\n",
              "        text-align: right;\n",
              "    }\n",
              "</style>\n",
              "<table border=\"1\" class=\"dataframe\">\n",
              "  <thead>\n",
              "    <tr style=\"text-align: right;\">\n",
              "      <th></th>\n",
              "      <th>YEAR</th>\n",
              "      <th>MONTH</th>\n",
              "      <th>DAY</th>\n",
              "      <th>DAY_OF_WEEK</th>\n",
              "      <th>AIRLINE</th>\n",
              "      <th>FLIGHT_NUMBER</th>\n",
              "      <th>TAIL_NUMBER</th>\n",
              "      <th>SCHEDULED_DEPARTURE</th>\n",
              "      <th>SCHEDULED_TIME</th>\n",
              "      <th>DISTANCE</th>\n",
              "      <th>SCHEDULED_ARRIVAL</th>\n",
              "    </tr>\n",
              "  </thead>\n",
              "  <tbody>\n",
              "    <tr>\n",
              "      <th>0</th>\n",
              "      <td>2015</td>\n",
              "      <td>1</td>\n",
              "      <td>1</td>\n",
              "      <td>4</td>\n",
              "      <td>AS</td>\n",
              "      <td>98</td>\n",
              "      <td>N407AS</td>\n",
              "      <td>5</td>\n",
              "      <td>205.0</td>\n",
              "      <td>1448</td>\n",
              "      <td>430</td>\n",
              "    </tr>\n",
              "    <tr>\n",
              "      <th>1</th>\n",
              "      <td>2015</td>\n",
              "      <td>1</td>\n",
              "      <td>1</td>\n",
              "      <td>4</td>\n",
              "      <td>AA</td>\n",
              "      <td>2336</td>\n",
              "      <td>N3KUAA</td>\n",
              "      <td>10</td>\n",
              "      <td>280.0</td>\n",
              "      <td>2330</td>\n",
              "      <td>750</td>\n",
              "    </tr>\n",
              "    <tr>\n",
              "      <th>2</th>\n",
              "      <td>2015</td>\n",
              "      <td>1</td>\n",
              "      <td>1</td>\n",
              "      <td>4</td>\n",
              "      <td>US</td>\n",
              "      <td>840</td>\n",
              "      <td>N171US</td>\n",
              "      <td>20</td>\n",
              "      <td>286.0</td>\n",
              "      <td>2296</td>\n",
              "      <td>806</td>\n",
              "    </tr>\n",
              "    <tr>\n",
              "      <th>3</th>\n",
              "      <td>2015</td>\n",
              "      <td>1</td>\n",
              "      <td>1</td>\n",
              "      <td>4</td>\n",
              "      <td>AA</td>\n",
              "      <td>258</td>\n",
              "      <td>N3HYAA</td>\n",
              "      <td>20</td>\n",
              "      <td>285.0</td>\n",
              "      <td>2342</td>\n",
              "      <td>805</td>\n",
              "    </tr>\n",
              "    <tr>\n",
              "      <th>4</th>\n",
              "      <td>2015</td>\n",
              "      <td>1</td>\n",
              "      <td>1</td>\n",
              "      <td>4</td>\n",
              "      <td>AS</td>\n",
              "      <td>135</td>\n",
              "      <td>N527AS</td>\n",
              "      <td>25</td>\n",
              "      <td>235.0</td>\n",
              "      <td>1448</td>\n",
              "      <td>320</td>\n",
              "    </tr>\n",
              "  </tbody>\n",
              "</table>\n",
              "</div>"
            ],
            "text/plain": [
              "   YEAR  MONTH  DAY  ...  SCHEDULED_TIME DISTANCE  SCHEDULED_ARRIVAL\n",
              "0  2015      1    1  ...           205.0     1448                430\n",
              "1  2015      1    1  ...           280.0     2330                750\n",
              "2  2015      1    1  ...           286.0     2296                806\n",
              "3  2015      1    1  ...           285.0     2342                805\n",
              "4  2015      1    1  ...           235.0     1448                320\n",
              "\n",
              "[5 rows x 11 columns]"
            ]
          },
          "metadata": {
            "tags": []
          },
          "execution_count": 66
        }
      ]
    },
    {
      "cell_type": "code",
      "metadata": {
        "colab": {
          "base_uri": "https://localhost:8080/",
          "height": 195
        },
        "id": "aXPx-SfgNWMN",
        "outputId": "8fb0a321-f0bb-4e86-9239-11bbfe7e078f"
      },
      "source": [
        "# Keep selected columns only\r\n",
        "categorical_cols = low_cardinality\r\n",
        "my_cols = categorical_cols + numerical_cols  # sometime use category_cols instead of good_label_cols for one-hot encoding\r\n",
        "X = X_train[my_cols].copy()\r\n",
        "X_testt = df_test[my_cols].copy()\r\n",
        "\r\n",
        "X.head()"
      ],
      "execution_count": 67,
      "outputs": [
        {
          "output_type": "execute_result",
          "data": {
            "text/html": [
              "<div>\n",
              "<style scoped>\n",
              "    .dataframe tbody tr th:only-of-type {\n",
              "        vertical-align: middle;\n",
              "    }\n",
              "\n",
              "    .dataframe tbody tr th {\n",
              "        vertical-align: top;\n",
              "    }\n",
              "\n",
              "    .dataframe thead th {\n",
              "        text-align: right;\n",
              "    }\n",
              "</style>\n",
              "<table border=\"1\" class=\"dataframe\">\n",
              "  <thead>\n",
              "    <tr style=\"text-align: right;\">\n",
              "      <th></th>\n",
              "      <th>AIRLINE</th>\n",
              "      <th>YEAR</th>\n",
              "      <th>MONTH</th>\n",
              "      <th>DAY</th>\n",
              "      <th>DAY_OF_WEEK</th>\n",
              "      <th>FLIGHT_NUMBER</th>\n",
              "      <th>SCHEDULED_DEPARTURE</th>\n",
              "      <th>SCHEDULED_TIME</th>\n",
              "      <th>DISTANCE</th>\n",
              "      <th>SCHEDULED_ARRIVAL</th>\n",
              "    </tr>\n",
              "  </thead>\n",
              "  <tbody>\n",
              "    <tr>\n",
              "      <th>0</th>\n",
              "      <td>AS</td>\n",
              "      <td>2015</td>\n",
              "      <td>1</td>\n",
              "      <td>1</td>\n",
              "      <td>4</td>\n",
              "      <td>98</td>\n",
              "      <td>5</td>\n",
              "      <td>205.0</td>\n",
              "      <td>1448</td>\n",
              "      <td>430</td>\n",
              "    </tr>\n",
              "    <tr>\n",
              "      <th>1</th>\n",
              "      <td>AA</td>\n",
              "      <td>2015</td>\n",
              "      <td>1</td>\n",
              "      <td>1</td>\n",
              "      <td>4</td>\n",
              "      <td>2336</td>\n",
              "      <td>10</td>\n",
              "      <td>280.0</td>\n",
              "      <td>2330</td>\n",
              "      <td>750</td>\n",
              "    </tr>\n",
              "    <tr>\n",
              "      <th>2</th>\n",
              "      <td>US</td>\n",
              "      <td>2015</td>\n",
              "      <td>1</td>\n",
              "      <td>1</td>\n",
              "      <td>4</td>\n",
              "      <td>840</td>\n",
              "      <td>20</td>\n",
              "      <td>286.0</td>\n",
              "      <td>2296</td>\n",
              "      <td>806</td>\n",
              "    </tr>\n",
              "    <tr>\n",
              "      <th>3</th>\n",
              "      <td>AA</td>\n",
              "      <td>2015</td>\n",
              "      <td>1</td>\n",
              "      <td>1</td>\n",
              "      <td>4</td>\n",
              "      <td>258</td>\n",
              "      <td>20</td>\n",
              "      <td>285.0</td>\n",
              "      <td>2342</td>\n",
              "      <td>805</td>\n",
              "    </tr>\n",
              "    <tr>\n",
              "      <th>4</th>\n",
              "      <td>AS</td>\n",
              "      <td>2015</td>\n",
              "      <td>1</td>\n",
              "      <td>1</td>\n",
              "      <td>4</td>\n",
              "      <td>135</td>\n",
              "      <td>25</td>\n",
              "      <td>235.0</td>\n",
              "      <td>1448</td>\n",
              "      <td>320</td>\n",
              "    </tr>\n",
              "  </tbody>\n",
              "</table>\n",
              "</div>"
            ],
            "text/plain": [
              "  AIRLINE  YEAR  MONTH  ...  SCHEDULED_TIME  DISTANCE  SCHEDULED_ARRIVAL\n",
              "0      AS  2015      1  ...           205.0      1448                430\n",
              "1      AA  2015      1  ...           280.0      2330                750\n",
              "2      US  2015      1  ...           286.0      2296                806\n",
              "3      AA  2015      1  ...           285.0      2342                805\n",
              "4      AS  2015      1  ...           235.0      1448                320\n",
              "\n",
              "[5 rows x 10 columns]"
            ]
          },
          "metadata": {
            "tags": []
          },
          "execution_count": 67
        }
      ]
    },
    {
      "cell_type": "code",
      "metadata": {
        "colab": {
          "base_uri": "https://localhost:8080/",
          "height": 195
        },
        "id": "r5mDnKiGNzfG",
        "outputId": "f48c1270-96ac-4ce1-b41e-821cb9277951"
      },
      "source": [
        "# print test set\r\n",
        "X_testt.head()"
      ],
      "execution_count": 68,
      "outputs": [
        {
          "output_type": "execute_result",
          "data": {
            "text/html": [
              "<div>\n",
              "<style scoped>\n",
              "    .dataframe tbody tr th:only-of-type {\n",
              "        vertical-align: middle;\n",
              "    }\n",
              "\n",
              "    .dataframe tbody tr th {\n",
              "        vertical-align: top;\n",
              "    }\n",
              "\n",
              "    .dataframe thead th {\n",
              "        text-align: right;\n",
              "    }\n",
              "</style>\n",
              "<table border=\"1\" class=\"dataframe\">\n",
              "  <thead>\n",
              "    <tr style=\"text-align: right;\">\n",
              "      <th></th>\n",
              "      <th>AIRLINE</th>\n",
              "      <th>YEAR</th>\n",
              "      <th>MONTH</th>\n",
              "      <th>DAY</th>\n",
              "      <th>DAY_OF_WEEK</th>\n",
              "      <th>FLIGHT_NUMBER</th>\n",
              "      <th>SCHEDULED_DEPARTURE</th>\n",
              "      <th>SCHEDULED_TIME</th>\n",
              "      <th>DISTANCE</th>\n",
              "      <th>SCHEDULED_ARRIVAL</th>\n",
              "    </tr>\n",
              "  </thead>\n",
              "  <tbody>\n",
              "    <tr>\n",
              "      <th>0</th>\n",
              "      <td>WN</td>\n",
              "      <td>2015</td>\n",
              "      <td>2</td>\n",
              "      <td>25</td>\n",
              "      <td>3</td>\n",
              "      <td>1046</td>\n",
              "      <td>700</td>\n",
              "      <td>65</td>\n",
              "      <td>255</td>\n",
              "      <td>905</td>\n",
              "    </tr>\n",
              "    <tr>\n",
              "      <th>1</th>\n",
              "      <td>WN</td>\n",
              "      <td>2015</td>\n",
              "      <td>2</td>\n",
              "      <td>25</td>\n",
              "      <td>3</td>\n",
              "      <td>2251</td>\n",
              "      <td>700</td>\n",
              "      <td>80</td>\n",
              "      <td>345</td>\n",
              "      <td>820</td>\n",
              "    </tr>\n",
              "    <tr>\n",
              "      <th>2</th>\n",
              "      <td>WN</td>\n",
              "      <td>2015</td>\n",
              "      <td>2</td>\n",
              "      <td>25</td>\n",
              "      <td>3</td>\n",
              "      <td>857</td>\n",
              "      <td>700</td>\n",
              "      <td>90</td>\n",
              "      <td>397</td>\n",
              "      <td>830</td>\n",
              "    </tr>\n",
              "    <tr>\n",
              "      <th>3</th>\n",
              "      <td>WN</td>\n",
              "      <td>2015</td>\n",
              "      <td>2</td>\n",
              "      <td>25</td>\n",
              "      <td>3</td>\n",
              "      <td>2864</td>\n",
              "      <td>700</td>\n",
              "      <td>295</td>\n",
              "      <td>2329</td>\n",
              "      <td>1455</td>\n",
              "    </tr>\n",
              "    <tr>\n",
              "      <th>4</th>\n",
              "      <td>WN</td>\n",
              "      <td>2015</td>\n",
              "      <td>2</td>\n",
              "      <td>25</td>\n",
              "      <td>3</td>\n",
              "      <td>3220</td>\n",
              "      <td>700</td>\n",
              "      <td>80</td>\n",
              "      <td>370</td>\n",
              "      <td>920</td>\n",
              "    </tr>\n",
              "  </tbody>\n",
              "</table>\n",
              "</div>"
            ],
            "text/plain": [
              "  AIRLINE  YEAR  MONTH  ...  SCHEDULED_TIME  DISTANCE  SCHEDULED_ARRIVAL\n",
              "0      WN  2015      2  ...              65       255                905\n",
              "1      WN  2015      2  ...              80       345                820\n",
              "2      WN  2015      2  ...              90       397                830\n",
              "3      WN  2015      2  ...             295      2329               1455\n",
              "4      WN  2015      2  ...              80       370                920\n",
              "\n",
              "[5 rows x 10 columns]"
            ]
          },
          "metadata": {
            "tags": []
          },
          "execution_count": 68
        }
      ]
    },
    {
      "cell_type": "markdown",
      "metadata": {
        "id": "x-0fqwwIN5mU"
      },
      "source": [
        "## Step 2 : Encode Categorical column"
      ]
    },
    {
      "cell_type": "code",
      "metadata": {
        "colab": {
          "base_uri": "https://localhost:8080/",
          "height": 249
        },
        "id": "Fgku89U5N_Po",
        "outputId": "dd93382d-7ce4-4e70-872e-7637e057022a"
      },
      "source": [
        "# Seperate numerical and categorical columns from train and test set\r\n",
        "X_train_num = X[numerical_cols]\r\n",
        "X_testt_num = X_testt[numerical_cols]\r\n",
        "X_train_cat = X[categorical_cols]\r\n",
        "X_testt_cat = X_testt[categorical_cols]\r\n",
        "\r\n",
        "# Create the  Target encoder object\r\n",
        "target_enc = ce.TargetEncoder(cols=categorical_cols)\r\n",
        "target_enc.fit(X_train_cat[categorical_cols],y )\r\n",
        "\r\n",
        "\r\n",
        "# Transform the features, rename the columns with _target suffix, and join to dataframe\r\n",
        "X_train_cat_encoded = target_enc.transform(X_train_cat[categorical_cols]).add_suffix('_target')\r\n",
        "\r\n",
        "# We collect all of these features (numerical and categorical) in a new dataframe that we can use to train a Target encoder-based model\r\n",
        "X_train_target = X_train_num.join(X_train_cat_encoded)\r\n",
        "\r\n",
        "X_train_target.head()\r\n"
      ],
      "execution_count": 71,
      "outputs": [
        {
          "output_type": "stream",
          "text": [
            "/usr/local/lib/python3.6/dist-packages/category_encoders/utils.py:21: FutureWarning: is_categorical is deprecated and will be removed in a future version.  Use is_categorical_dtype instead\n",
            "  elif pd.api.types.is_categorical(cols):\n"
          ],
          "name": "stderr"
        },
        {
          "output_type": "execute_result",
          "data": {
            "text/html": [
              "<div>\n",
              "<style scoped>\n",
              "    .dataframe tbody tr th:only-of-type {\n",
              "        vertical-align: middle;\n",
              "    }\n",
              "\n",
              "    .dataframe tbody tr th {\n",
              "        vertical-align: top;\n",
              "    }\n",
              "\n",
              "    .dataframe thead th {\n",
              "        text-align: right;\n",
              "    }\n",
              "</style>\n",
              "<table border=\"1\" class=\"dataframe\">\n",
              "  <thead>\n",
              "    <tr style=\"text-align: right;\">\n",
              "      <th></th>\n",
              "      <th>YEAR</th>\n",
              "      <th>MONTH</th>\n",
              "      <th>DAY</th>\n",
              "      <th>DAY_OF_WEEK</th>\n",
              "      <th>FLIGHT_NUMBER</th>\n",
              "      <th>SCHEDULED_DEPARTURE</th>\n",
              "      <th>SCHEDULED_TIME</th>\n",
              "      <th>DISTANCE</th>\n",
              "      <th>SCHEDULED_ARRIVAL</th>\n",
              "      <th>AIRLINE_target</th>\n",
              "    </tr>\n",
              "  </thead>\n",
              "  <tbody>\n",
              "    <tr>\n",
              "      <th>0</th>\n",
              "      <td>2015</td>\n",
              "      <td>1</td>\n",
              "      <td>1</td>\n",
              "      <td>4</td>\n",
              "      <td>98</td>\n",
              "      <td>5</td>\n",
              "      <td>205.0</td>\n",
              "      <td>1448</td>\n",
              "      <td>430</td>\n",
              "      <td>0.006148</td>\n",
              "    </tr>\n",
              "    <tr>\n",
              "      <th>1</th>\n",
              "      <td>2015</td>\n",
              "      <td>1</td>\n",
              "      <td>1</td>\n",
              "      <td>4</td>\n",
              "      <td>2336</td>\n",
              "      <td>10</td>\n",
              "      <td>280.0</td>\n",
              "      <td>2330</td>\n",
              "      <td>750</td>\n",
              "      <td>0.022445</td>\n",
              "    </tr>\n",
              "    <tr>\n",
              "      <th>2</th>\n",
              "      <td>2015</td>\n",
              "      <td>1</td>\n",
              "      <td>1</td>\n",
              "      <td>4</td>\n",
              "      <td>840</td>\n",
              "      <td>20</td>\n",
              "      <td>286.0</td>\n",
              "      <td>2296</td>\n",
              "      <td>806</td>\n",
              "      <td>0.001169</td>\n",
              "    </tr>\n",
              "    <tr>\n",
              "      <th>3</th>\n",
              "      <td>2015</td>\n",
              "      <td>1</td>\n",
              "      <td>1</td>\n",
              "      <td>4</td>\n",
              "      <td>258</td>\n",
              "      <td>20</td>\n",
              "      <td>285.0</td>\n",
              "      <td>2342</td>\n",
              "      <td>805</td>\n",
              "      <td>0.022445</td>\n",
              "    </tr>\n",
              "    <tr>\n",
              "      <th>4</th>\n",
              "      <td>2015</td>\n",
              "      <td>1</td>\n",
              "      <td>1</td>\n",
              "      <td>4</td>\n",
              "      <td>135</td>\n",
              "      <td>25</td>\n",
              "      <td>235.0</td>\n",
              "      <td>1448</td>\n",
              "      <td>320</td>\n",
              "      <td>0.006148</td>\n",
              "    </tr>\n",
              "  </tbody>\n",
              "</table>\n",
              "</div>"
            ],
            "text/plain": [
              "   YEAR  MONTH  DAY  ...  DISTANCE  SCHEDULED_ARRIVAL  AIRLINE_target\n",
              "0  2015      1    1  ...      1448                430        0.006148\n",
              "1  2015      1    1  ...      2330                750        0.022445\n",
              "2  2015      1    1  ...      2296                806        0.001169\n",
              "3  2015      1    1  ...      2342                805        0.022445\n",
              "4  2015      1    1  ...      1448                320        0.006148\n",
              "\n",
              "[5 rows x 10 columns]"
            ]
          },
          "metadata": {
            "tags": []
          },
          "execution_count": 71
        }
      ]
    },
    {
      "cell_type": "code",
      "metadata": {
        "colab": {
          "base_uri": "https://localhost:8080/",
          "height": 195
        },
        "id": "L2n52m1BSdOR",
        "outputId": "22ed1c4a-8560-4561-fe70-4a113c462575"
      },
      "source": [
        "# TRANSFORM test set\r\n",
        "\r\n",
        "# Transform the features, rename the columns with _target suffix, and join to dataframe\r\n",
        "X_test_cat_encoded = target_enc.transform(X_testt_cat[categorical_cols]).add_suffix('_target')\r\n",
        "\r\n",
        "# We collect all of these features (numerical and categorical) in a new dataframe that we can use to train a Target encoder-based model\r\n",
        "X_test_target = X_testt_num.join(X_test_cat_encoded)\r\n",
        "\r\n",
        "X_test_target.head()"
      ],
      "execution_count": 72,
      "outputs": [
        {
          "output_type": "execute_result",
          "data": {
            "text/html": [
              "<div>\n",
              "<style scoped>\n",
              "    .dataframe tbody tr th:only-of-type {\n",
              "        vertical-align: middle;\n",
              "    }\n",
              "\n",
              "    .dataframe tbody tr th {\n",
              "        vertical-align: top;\n",
              "    }\n",
              "\n",
              "    .dataframe thead th {\n",
              "        text-align: right;\n",
              "    }\n",
              "</style>\n",
              "<table border=\"1\" class=\"dataframe\">\n",
              "  <thead>\n",
              "    <tr style=\"text-align: right;\">\n",
              "      <th></th>\n",
              "      <th>YEAR</th>\n",
              "      <th>MONTH</th>\n",
              "      <th>DAY</th>\n",
              "      <th>DAY_OF_WEEK</th>\n",
              "      <th>FLIGHT_NUMBER</th>\n",
              "      <th>SCHEDULED_DEPARTURE</th>\n",
              "      <th>SCHEDULED_TIME</th>\n",
              "      <th>DISTANCE</th>\n",
              "      <th>SCHEDULED_ARRIVAL</th>\n",
              "      <th>AIRLINE_target</th>\n",
              "    </tr>\n",
              "  </thead>\n",
              "  <tbody>\n",
              "    <tr>\n",
              "      <th>0</th>\n",
              "      <td>2015</td>\n",
              "      <td>2</td>\n",
              "      <td>25</td>\n",
              "      <td>3</td>\n",
              "      <td>1046</td>\n",
              "      <td>700</td>\n",
              "      <td>65</td>\n",
              "      <td>255</td>\n",
              "      <td>905</td>\n",
              "      <td>0.02298</td>\n",
              "    </tr>\n",
              "    <tr>\n",
              "      <th>1</th>\n",
              "      <td>2015</td>\n",
              "      <td>2</td>\n",
              "      <td>25</td>\n",
              "      <td>3</td>\n",
              "      <td>2251</td>\n",
              "      <td>700</td>\n",
              "      <td>80</td>\n",
              "      <td>345</td>\n",
              "      <td>820</td>\n",
              "      <td>0.02298</td>\n",
              "    </tr>\n",
              "    <tr>\n",
              "      <th>2</th>\n",
              "      <td>2015</td>\n",
              "      <td>2</td>\n",
              "      <td>25</td>\n",
              "      <td>3</td>\n",
              "      <td>857</td>\n",
              "      <td>700</td>\n",
              "      <td>90</td>\n",
              "      <td>397</td>\n",
              "      <td>830</td>\n",
              "      <td>0.02298</td>\n",
              "    </tr>\n",
              "    <tr>\n",
              "      <th>3</th>\n",
              "      <td>2015</td>\n",
              "      <td>2</td>\n",
              "      <td>25</td>\n",
              "      <td>3</td>\n",
              "      <td>2864</td>\n",
              "      <td>700</td>\n",
              "      <td>295</td>\n",
              "      <td>2329</td>\n",
              "      <td>1455</td>\n",
              "      <td>0.02298</td>\n",
              "    </tr>\n",
              "    <tr>\n",
              "      <th>4</th>\n",
              "      <td>2015</td>\n",
              "      <td>2</td>\n",
              "      <td>25</td>\n",
              "      <td>3</td>\n",
              "      <td>3220</td>\n",
              "      <td>700</td>\n",
              "      <td>80</td>\n",
              "      <td>370</td>\n",
              "      <td>920</td>\n",
              "      <td>0.02298</td>\n",
              "    </tr>\n",
              "  </tbody>\n",
              "</table>\n",
              "</div>"
            ],
            "text/plain": [
              "   YEAR  MONTH  DAY  ...  DISTANCE  SCHEDULED_ARRIVAL  AIRLINE_target\n",
              "0  2015      2   25  ...       255                905         0.02298\n",
              "1  2015      2   25  ...       345                820         0.02298\n",
              "2  2015      2   25  ...       397                830         0.02298\n",
              "3  2015      2   25  ...      2329               1455         0.02298\n",
              "4  2015      2   25  ...       370                920         0.02298\n",
              "\n",
              "[5 rows x 10 columns]"
            ]
          },
          "metadata": {
            "tags": []
          },
          "execution_count": 72
        }
      ]
    },
    {
      "cell_type": "code",
      "metadata": {
        "colab": {
          "base_uri": "https://localhost:8080/"
        },
        "id": "jVpojbG9Tl5N",
        "outputId": "66dd169e-dd04-4f8f-fb26-fcedbadafd98"
      },
      "source": [
        "# Confirm the shape of X and y\r\n",
        "print(X_train_target.shape)\r\n",
        "print(y.shape)"
      ],
      "execution_count": 74,
      "outputs": [
        {
          "output_type": "stream",
          "text": [
            "(832877, 10)\n",
            "(832877,)\n"
          ],
          "name": "stdout"
        }
      ]
    },
    {
      "cell_type": "markdown",
      "metadata": {
        "id": "IBOJaYyVYu5j"
      },
      "source": [
        "## Step 5: Train Model Directly"
      ]
    },
    {
      "cell_type": "code",
      "metadata": {
        "colab": {
          "base_uri": "https://localhost:8080/"
        },
        "id": "6NTjXIiJY0FL",
        "outputId": "da40d019-1259-4635-f4be-b1552bbdf388"
      },
      "source": [
        "# To establish calss weights\r\n",
        "print(df_train['CANCELLED'].value_counts())"
      ],
      "execution_count": 81,
      "outputs": [
        {
          "output_type": "stream",
          "text": [
            "0    810176\n",
            "1     22701\n",
            "Name: CANCELLED, dtype: int64\n"
          ],
          "name": "stdout"
        }
      ]
    },
    {
      "cell_type": "code",
      "metadata": {
        "colab": {
          "base_uri": "https://localhost:8080/",
          "height": 195
        },
        "id": "kUrZPCFHbT2-",
        "outputId": "6a228add-3b66-4e61-aac7-e487ffeb0778"
      },
      "source": [
        "# Break off validation set from training data\r\n",
        "from sklearn.model_selection import train_test_split\r\n",
        "X_train, X_valid, y_train, y_valid = train_test_split(X_train_target, y,train_size=0.8, test_size=0.2, random_state=0)\r\n",
        "\r\n",
        "# Organize train set\r\n",
        "X_train.head()"
      ],
      "execution_count": 84,
      "outputs": [
        {
          "output_type": "execute_result",
          "data": {
            "text/html": [
              "<div>\n",
              "<style scoped>\n",
              "    .dataframe tbody tr th:only-of-type {\n",
              "        vertical-align: middle;\n",
              "    }\n",
              "\n",
              "    .dataframe tbody tr th {\n",
              "        vertical-align: top;\n",
              "    }\n",
              "\n",
              "    .dataframe thead th {\n",
              "        text-align: right;\n",
              "    }\n",
              "</style>\n",
              "<table border=\"1\" class=\"dataframe\">\n",
              "  <thead>\n",
              "    <tr style=\"text-align: right;\">\n",
              "      <th></th>\n",
              "      <th>YEAR</th>\n",
              "      <th>MONTH</th>\n",
              "      <th>DAY</th>\n",
              "      <th>DAY_OF_WEEK</th>\n",
              "      <th>FLIGHT_NUMBER</th>\n",
              "      <th>SCHEDULED_DEPARTURE</th>\n",
              "      <th>SCHEDULED_TIME</th>\n",
              "      <th>DISTANCE</th>\n",
              "      <th>SCHEDULED_ARRIVAL</th>\n",
              "      <th>AIRLINE_target</th>\n",
              "    </tr>\n",
              "  </thead>\n",
              "  <tbody>\n",
              "    <tr>\n",
              "      <th>822673</th>\n",
              "      <td>2015</td>\n",
              "      <td>2</td>\n",
              "      <td>24</td>\n",
              "      <td>2</td>\n",
              "      <td>1649</td>\n",
              "      <td>1245</td>\n",
              "      <td>135.0</td>\n",
              "      <td>936</td>\n",
              "      <td>1600</td>\n",
              "      <td>0.022445</td>\n",
              "    </tr>\n",
              "    <tr>\n",
              "      <th>723213</th>\n",
              "      <td>2015</td>\n",
              "      <td>2</td>\n",
              "      <td>18</td>\n",
              "      <td>3</td>\n",
              "      <td>972</td>\n",
              "      <td>600</td>\n",
              "      <td>155.0</td>\n",
              "      <td>1119</td>\n",
              "      <td>935</td>\n",
              "      <td>0.020009</td>\n",
              "    </tr>\n",
              "    <tr>\n",
              "      <th>694040</th>\n",
              "      <td>2015</td>\n",
              "      <td>2</td>\n",
              "      <td>16</td>\n",
              "      <td>1</td>\n",
              "      <td>448</td>\n",
              "      <td>840</td>\n",
              "      <td>75.0</td>\n",
              "      <td>342</td>\n",
              "      <td>955</td>\n",
              "      <td>0.022980</td>\n",
              "    </tr>\n",
              "    <tr>\n",
              "      <th>128867</th>\n",
              "      <td>2015</td>\n",
              "      <td>1</td>\n",
              "      <td>9</td>\n",
              "      <td>5</td>\n",
              "      <td>489</td>\n",
              "      <td>835</td>\n",
              "      <td>130.0</td>\n",
              "      <td>663</td>\n",
              "      <td>1045</td>\n",
              "      <td>0.022980</td>\n",
              "    </tr>\n",
              "    <tr>\n",
              "      <th>812203</th>\n",
              "      <td>2015</td>\n",
              "      <td>2</td>\n",
              "      <td>23</td>\n",
              "      <td>1</td>\n",
              "      <td>648</td>\n",
              "      <td>1810</td>\n",
              "      <td>105.0</td>\n",
              "      <td>655</td>\n",
              "      <td>1955</td>\n",
              "      <td>0.022980</td>\n",
              "    </tr>\n",
              "  </tbody>\n",
              "</table>\n",
              "</div>"
            ],
            "text/plain": [
              "        YEAR  MONTH  DAY  ...  DISTANCE  SCHEDULED_ARRIVAL  AIRLINE_target\n",
              "822673  2015      2   24  ...       936               1600        0.022445\n",
              "723213  2015      2   18  ...      1119                935        0.020009\n",
              "694040  2015      2   16  ...       342                955        0.022980\n",
              "128867  2015      1    9  ...       663               1045        0.022980\n",
              "812203  2015      2   23  ...       655               1955        0.022980\n",
              "\n",
              "[5 rows x 10 columns]"
            ]
          },
          "metadata": {
            "tags": []
          },
          "execution_count": 84
        }
      ]
    },
    {
      "cell_type": "code",
      "metadata": {
        "colab": {
          "base_uri": "https://localhost:8080/"
        },
        "id": "5ETX7fkVbi7N",
        "outputId": "9cf2a0ed-39a5-44e7-836e-a1ea1afd969a"
      },
      "source": [
        "# print Y_train\r\n",
        "y_train[0:10]"
      ],
      "execution_count": 85,
      "outputs": [
        {
          "output_type": "execute_result",
          "data": {
            "text/plain": [
              "array([0, 0, 0, 0, 0, 0, 0, 0, 0, 0])"
            ]
          },
          "metadata": {
            "tags": []
          },
          "execution_count": 85
        }
      ]
    },
    {
      "cell_type": "code",
      "metadata": {
        "colab": {
          "base_uri": "https://localhost:8080/"
        },
        "id": "eiuyw6KIaAZR",
        "outputId": "a03e1efd-e841-4c16-bd9a-f8900e4a2344"
      },
      "source": [
        "# Train Random Forest Classifier\r\n",
        "class_weight=dict({0:1,1:50})\r\n",
        "\r\n",
        "from sklearn.ensemble import RandomForestClassifier\r\n",
        "classifier=RandomForestClassifier(n_estimators=200, class_weight=class_weight)\r\n",
        "classifier.fit(X_train,y_train)"
      ],
      "execution_count": 93,
      "outputs": [
        {
          "output_type": "execute_result",
          "data": {
            "text/plain": [
              "RandomForestClassifier(bootstrap=True, ccp_alpha=0.0,\n",
              "                       class_weight={0: 1, 1: 50}, criterion='gini',\n",
              "                       max_depth=None, max_features='auto', max_leaf_nodes=None,\n",
              "                       max_samples=None, min_impurity_decrease=0.0,\n",
              "                       min_impurity_split=None, min_samples_leaf=1,\n",
              "                       min_samples_split=2, min_weight_fraction_leaf=0.0,\n",
              "                       n_estimators=200, n_jobs=None, oob_score=False,\n",
              "                       random_state=None, verbose=0, warm_start=False)"
            ]
          },
          "metadata": {
            "tags": []
          },
          "execution_count": 93
        }
      ]
    },
    {
      "cell_type": "code",
      "metadata": {
        "colab": {
          "base_uri": "https://localhost:8080/"
        },
        "id": "xokRTYbSabQT",
        "outputId": "085fe633-2c3e-4cc9-d430-d0899c8ba0af"
      },
      "source": [
        "# Make prediction and print metrics\r\n",
        "from sklearn.metrics import confusion_matrix, accuracy_score, classification_report, roc_auc_score\r\n",
        "y_pred=classifier.predict(X_valid)\r\n",
        "print( confusion_matrix(y_valid,y_pred))\r\n",
        "print(\"The accuracy score is :\", accuracy_score(y_valid,y_pred))\r\n",
        "print( classification_report(y_valid,y_pred))\r\n",
        "print(\"The roc_auc_score is :\", roc_auc_score(y_valid,y_pred))"
      ],
      "execution_count": 94,
      "outputs": [
        {
          "output_type": "stream",
          "text": [
            "[[161742    246]\n",
            " [  3953    635]]\n",
            "The accuracy score is : 0.9747922870041302\n",
            "              precision    recall  f1-score   support\n",
            "\n",
            "           0       0.98      1.00      0.99    161988\n",
            "           1       0.72      0.14      0.23      4588\n",
            "\n",
            "    accuracy                           0.97    166576\n",
            "   macro avg       0.85      0.57      0.61    166576\n",
            "weighted avg       0.97      0.97      0.97    166576\n",
            "\n",
            "The roc_auc_score is : 0.5684429512780598\n"
          ],
          "name": "stdout"
        }
      ]
    },
    {
      "cell_type": "markdown",
      "metadata": {
        "id": "kLcvcKzdTdUO"
      },
      "source": [
        "## Train Model Using Oversampling Techniques"
      ]
    },
    {
      "cell_type": "code",
      "metadata": {
        "colab": {
          "base_uri": "https://localhost:8080/"
        },
        "id": "e8JjGE_6T26m",
        "outputId": "e483ec2d-6de5-4ea6-de5b-eab0fcf5eb7e"
      },
      "source": [
        "# Oversampling method \r\n",
        "# Class to perform over-sampling using SMOTE and cleaning using Tomek links.\r\n",
        "\r\n",
        "from imblearn.combine import SMOTETomek\r\n",
        "smk = SMOTETomek(random_state=0)\r\n",
        "X_sm,y_sm = smk.fit_sample(X_train_target,y)\r\n",
        "\r\n",
        "# Confirm the shape of X and y\r\n",
        "print(X_train_target.shape)\r\n",
        "print(y.shape)\r\n",
        "\r\n",
        "# Confirm new shape of X _train_ov and y_ov\r\n",
        "print(X_sm.shape)\r\n",
        "print(y_sm.shape)"
      ],
      "execution_count": 95,
      "outputs": [
        {
          "output_type": "stream",
          "text": [
            "/usr/local/lib/python3.6/dist-packages/sklearn/utils/deprecation.py:87: FutureWarning: Function safe_indexing is deprecated; safe_indexing is deprecated in version 0.22 and will be removed in version 0.24.\n",
            "  warnings.warn(msg, category=FutureWarning)\n"
          ],
          "name": "stderr"
        },
        {
          "output_type": "stream",
          "text": [
            "(832877, 10)\n",
            "(832877,)\n",
            "(1600732, 10)\n",
            "(1600732,)\n"
          ],
          "name": "stdout"
        },
        {
          "output_type": "stream",
          "text": [
            "/usr/local/lib/python3.6/dist-packages/sklearn/utils/deprecation.py:87: FutureWarning: Function safe_indexing is deprecated; safe_indexing is deprecated in version 0.22 and will be removed in version 0.24.\n",
            "  warnings.warn(msg, category=FutureWarning)\n"
          ],
          "name": "stderr"
        }
      ]
    },
    {
      "cell_type": "code",
      "metadata": {
        "colab": {
          "base_uri": "https://localhost:8080/"
        },
        "id": "nc7tJHrQXAnQ",
        "outputId": "4ce5aab2-e445-45ef-8a42-39239a944712"
      },
      "source": [
        "# Inspect resampled dataset\r\n",
        "from collections import Counter\r\n",
        "print('Original dataset shape %s' % Counter(y))\r\n",
        "print('Resampled dataset shape %s' % Counter(y_sm))\r\n"
      ],
      "execution_count": 96,
      "outputs": [
        {
          "output_type": "stream",
          "text": [
            "Original dataset shape Counter({0: 810176, 1: 22701})\n",
            "Resampled dataset shape Counter({0: 800366, 1: 800366})\n"
          ],
          "name": "stdout"
        }
      ]
    },
    {
      "cell_type": "code",
      "metadata": {
        "id": "9Qvu0me4efDd"
      },
      "source": [
        "# Break off validation set from training data\r\n",
        "from sklearn.model_selection import train_test_split\r\n",
        "X_train_sm, X_valid_sm, y_train_sm, y_valid_sm = train_test_split(X_sm, y_sm,train_size=0.8, test_size=0.2, random_state=0)\r\n",
        "\r\n"
      ],
      "execution_count": 98,
      "outputs": []
    },
    {
      "cell_type": "code",
      "metadata": {
        "colab": {
          "base_uri": "https://localhost:8080/"
        },
        "id": "riwFTa0ie4iJ",
        "outputId": "a48fcece-719c-4861-a1c3-df6f98b121a5"
      },
      "source": [
        "# Train Random Forest Classifier\r\n",
        "from sklearn.ensemble import RandomForestClassifier\r\n",
        "classifier=RandomForestClassifier()\r\n",
        "classifier.fit(X_train_sm,y_train_sm)"
      ],
      "execution_count": 99,
      "outputs": [
        {
          "output_type": "execute_result",
          "data": {
            "text/plain": [
              "RandomForestClassifier(bootstrap=True, ccp_alpha=0.0, class_weight=None,\n",
              "                       criterion='gini', max_depth=None, max_features='auto',\n",
              "                       max_leaf_nodes=None, max_samples=None,\n",
              "                       min_impurity_decrease=0.0, min_impurity_split=None,\n",
              "                       min_samples_leaf=1, min_samples_split=2,\n",
              "                       min_weight_fraction_leaf=0.0, n_estimators=100,\n",
              "                       n_jobs=None, oob_score=False, random_state=None,\n",
              "                       verbose=0, warm_start=False)"
            ]
          },
          "metadata": {
            "tags": []
          },
          "execution_count": 99
        }
      ]
    },
    {
      "cell_type": "code",
      "metadata": {
        "colab": {
          "base_uri": "https://localhost:8080/"
        },
        "id": "lPDckqi5fApI",
        "outputId": "1a1546ce-d89a-4464-98f6-aaf6c360f361"
      },
      "source": [
        "# Make prediction and print metrics\r\n",
        "from sklearn.metrics import confusion_matrix, accuracy_score, classification_report, roc_auc_score\r\n",
        "y_pred_sm=classifier.predict(X_valid_sm)\r\n",
        "print( confusion_matrix(y_valid_sm,y_pred_sm))\r\n",
        "print(\"The accuracy score is :\", accuracy_score(y_valid_sm,y_pred_sm))\r\n",
        "print( classification_report(y_valid_sm,y_pred_sm))\r\n",
        "print(\"The roc_auc_score is :\", roc_auc_score(y_valid_sm,y_pred_sm))"
      ],
      "execution_count": 100,
      "outputs": [
        {
          "output_type": "stream",
          "text": [
            "[[159068    658]\n",
            " [  2888 157533]]\n",
            "The accuracy score is : 0.9889238381118673\n",
            "              precision    recall  f1-score   support\n",
            "\n",
            "           0       0.98      1.00      0.99    159726\n",
            "           1       1.00      0.98      0.99    160421\n",
            "\n",
            "    accuracy                           0.99    320147\n",
            "   macro avg       0.99      0.99      0.99    320147\n",
            "weighted avg       0.99      0.99      0.99    320147\n",
            "\n",
            "The roc_auc_score is : 0.9889389073421105\n"
          ],
          "name": "stdout"
        }
      ]
    },
    {
      "cell_type": "code",
      "metadata": {
        "colab": {
          "base_uri": "https://localhost:8080/"
        },
        "id": "ZdtsVbWZh9P2",
        "outputId": "94c23ac7-b391-40a6-fcc1-b2b56714ed26"
      },
      "source": [
        "# Random Oversampling method\r\n",
        "from imblearn.over_sampling import RandomOverSampler\r\n",
        "os=RandomOverSampler(0.75)\r\n",
        "X_os,y_os=os.fit_sample(X_train_target,y)\r\n",
        "\r\n",
        "print(\"The number of classes before fit {}\".format(Counter(y)))\r\n",
        "print(\"The number of classes after fit {}\".format(Counter(y_os)))"
      ],
      "execution_count": 102,
      "outputs": [
        {
          "output_type": "stream",
          "text": [
            "/usr/local/lib/python3.6/dist-packages/sklearn/utils/deprecation.py:87: FutureWarning: Function safe_indexing is deprecated; safe_indexing is deprecated in version 0.22 and will be removed in version 0.24.\n",
            "  warnings.warn(msg, category=FutureWarning)\n"
          ],
          "name": "stderr"
        },
        {
          "output_type": "stream",
          "text": [
            "The number of classes before fit Counter({0: 810176, 1: 22701})\n",
            "The number of classes after fit Counter({0: 810176, 1: 607632})\n"
          ],
          "name": "stdout"
        }
      ]
    },
    {
      "cell_type": "code",
      "metadata": {
        "colab": {
          "base_uri": "https://localhost:8080/"
        },
        "id": "K6dJkQwviVlC",
        "outputId": "bfe89fb0-e975-4666-ad7e-a1eb2e90a8f0"
      },
      "source": [
        "# Break off validation set from training data\r\n",
        "from sklearn.model_selection import train_test_split\r\n",
        "X_train_os, X_valid_os, y_train_os, y_valid_os = train_test_split(X_os, y_os,train_size=0.8, test_size=0.2, random_state=0)\r\n",
        "\r\n",
        "# Train Random Forest Classifier\r\n",
        "from sklearn.ensemble import RandomForestClassifier\r\n",
        "classifier2=RandomForestClassifier()\r\n",
        "classifier2.fit(X_train_os,y_train_os)"
      ],
      "execution_count": 105,
      "outputs": [
        {
          "output_type": "execute_result",
          "data": {
            "text/plain": [
              "RandomForestClassifier(bootstrap=True, ccp_alpha=0.0, class_weight=None,\n",
              "                       criterion='gini', max_depth=None, max_features='auto',\n",
              "                       max_leaf_nodes=None, max_samples=None,\n",
              "                       min_impurity_decrease=0.0, min_impurity_split=None,\n",
              "                       min_samples_leaf=1, min_samples_split=2,\n",
              "                       min_weight_fraction_leaf=0.0, n_estimators=100,\n",
              "                       n_jobs=None, oob_score=False, random_state=None,\n",
              "                       verbose=0, warm_start=False)"
            ]
          },
          "metadata": {
            "tags": []
          },
          "execution_count": 105
        }
      ]
    },
    {
      "cell_type": "code",
      "metadata": {
        "colab": {
          "base_uri": "https://localhost:8080/"
        },
        "id": "GBqT6-Ruinn4",
        "outputId": "f65fb9ef-6da4-4d64-bc62-61236b33684a"
      },
      "source": [
        "# Make prediction and print metrics\r\n",
        "from sklearn.metrics import confusion_matrix, accuracy_score, classification_report, roc_auc_score\r\n",
        "y_pred_os=classifier2.predict(X_valid_os)\r\n",
        "print( confusion_matrix(y_valid_os,y_pred_os))\r\n",
        "print(\"The accuracy score is :\", accuracy_score(y_valid_os,y_pred_os))\r\n",
        "print( classification_report(y_valid_os,y_pred_os))\r\n",
        "print(\"The roc_auc_score is :\", roc_auc_score(y_valid_os,y_pred_os))"
      ],
      "execution_count": 107,
      "outputs": [
        {
          "output_type": "stream",
          "text": [
            "[[160590   1126]\n",
            " [     0 121846]]\n",
            "The accuracy score is : 0.9960290871132239\n",
            "              precision    recall  f1-score   support\n",
            "\n",
            "           0       1.00      0.99      1.00    161716\n",
            "           1       0.99      1.00      1.00    121846\n",
            "\n",
            "    accuracy                           1.00    283562\n",
            "   macro avg       1.00      1.00      1.00    283562\n",
            "weighted avg       1.00      1.00      1.00    283562\n",
            "\n",
            "The roc_auc_score is : 0.9965185881421752\n"
          ],
          "name": "stdout"
        }
      ]
    },
    {
      "cell_type": "code",
      "metadata": {
        "colab": {
          "base_uri": "https://localhost:8080/"
        },
        "id": "EaOpWAkrpZxX",
        "outputId": "d9d6f186-504f-4eb2-910a-ff282ccb4410"
      },
      "source": [
        "print(np.concatenate((y_pred_os.reshape(len(y_pred_os),1), y_valid_os.reshape(len(y_valid_os),1)),1))"
      ],
      "execution_count": 124,
      "outputs": [
        {
          "output_type": "stream",
          "text": [
            "[[1 1]\n",
            " [1 1]\n",
            " [1 1]\n",
            " ...\n",
            " [0 0]\n",
            " [1 1]\n",
            " [1 1]]\n"
          ],
          "name": "stdout"
        }
      ]
    },
    {
      "cell_type": "markdown",
      "metadata": {
        "id": "c4naz75JirsZ"
      },
      "source": [
        "## UnderSampling Methods"
      ]
    },
    {
      "cell_type": "code",
      "metadata": {
        "colab": {
          "base_uri": "https://localhost:8080/"
        },
        "id": "e4r4YpSGfulo",
        "outputId": "5dcbdd74-7e16-44cd-ea19-3116d44a0f90"
      },
      "source": [
        "# Undersampling method \r\n",
        "from collections import Counter\r\n",
        "from imblearn.under_sampling import NearMiss\r\n",
        "ns=NearMiss(0.8)\r\n",
        "X_ns,y_ns=ns.fit_sample(X_train_target,y)\r\n",
        "print(\"The number of classes before fit {}\".format(Counter(y)))\r\n",
        "print(\"The number of classes after fit {}\".format(Counter(y_ns)))"
      ],
      "execution_count": 108,
      "outputs": [
        {
          "output_type": "stream",
          "text": [
            "/usr/local/lib/python3.6/dist-packages/sklearn/utils/deprecation.py:87: FutureWarning: Function safe_indexing is deprecated; safe_indexing is deprecated in version 0.22 and will be removed in version 0.24.\n",
            "  warnings.warn(msg, category=FutureWarning)\n",
            "/usr/local/lib/python3.6/dist-packages/sklearn/utils/deprecation.py:87: FutureWarning: Function safe_indexing is deprecated; safe_indexing is deprecated in version 0.22 and will be removed in version 0.24.\n",
            "  warnings.warn(msg, category=FutureWarning)\n",
            "/usr/local/lib/python3.6/dist-packages/sklearn/utils/deprecation.py:87: FutureWarning: Function safe_indexing is deprecated; safe_indexing is deprecated in version 0.22 and will be removed in version 0.24.\n",
            "  warnings.warn(msg, category=FutureWarning)\n"
          ],
          "name": "stderr"
        },
        {
          "output_type": "stream",
          "text": [
            "The number of classes before fit Counter({0: 810176, 1: 22701})\n",
            "The number of classes after fit Counter({0: 28376, 1: 22701})\n"
          ],
          "name": "stdout"
        }
      ]
    },
    {
      "cell_type": "code",
      "metadata": {
        "colab": {
          "base_uri": "https://localhost:8080/"
        },
        "id": "R77guVVJgfOx",
        "outputId": "9d134114-19ab-4e50-e3d6-3c57dbdfc64a"
      },
      "source": [
        "# Break off validation set from training data\r\n",
        "from sklearn.model_selection import train_test_split\r\n",
        "X_train_ns, X_valid_ns, y_train_ns, y_valid_ns = train_test_split(X_ns, y_ns,train_size=0.8, test_size=0.2, random_state=0)\r\n",
        "\r\n",
        "# Train Random Forest Classifier\r\n",
        "from sklearn.ensemble import RandomForestClassifier\r\n",
        "classifier3=RandomForestClassifier()\r\n",
        "classifier3.fit(X_train_ns,y_train_ns)"
      ],
      "execution_count": 109,
      "outputs": [
        {
          "output_type": "execute_result",
          "data": {
            "text/plain": [
              "RandomForestClassifier(bootstrap=True, ccp_alpha=0.0, class_weight=None,\n",
              "                       criterion='gini', max_depth=None, max_features='auto',\n",
              "                       max_leaf_nodes=None, max_samples=None,\n",
              "                       min_impurity_decrease=0.0, min_impurity_split=None,\n",
              "                       min_samples_leaf=1, min_samples_split=2,\n",
              "                       min_weight_fraction_leaf=0.0, n_estimators=100,\n",
              "                       n_jobs=None, oob_score=False, random_state=None,\n",
              "                       verbose=0, warm_start=False)"
            ]
          },
          "metadata": {
            "tags": []
          },
          "execution_count": 109
        }
      ]
    },
    {
      "cell_type": "code",
      "metadata": {
        "colab": {
          "base_uri": "https://localhost:8080/"
        },
        "id": "NKkByllGgpGm",
        "outputId": "2f471fcd-1b83-4679-8b17-c22ee66e271d"
      },
      "source": [
        "# Make prediction and print metrics\r\n",
        "from sklearn.metrics import confusion_matrix, accuracy_score, classification_report, roc_auc_score\r\n",
        "y_pred_ns=classifier3.predict(X_valid_ns)\r\n",
        "print( confusion_matrix(y_valid_ns,y_pred_ns))\r\n",
        "print(\"The accuracy score is :\", accuracy_score(y_valid_ns,y_pred_ns))\r\n",
        "print( classification_report(y_valid_ns,y_pred_ns))\r\n",
        "print(\"The roc_auc_score is :\", roc_auc_score(y_valid_ns,y_pred_ns))"
      ],
      "execution_count": 110,
      "outputs": [
        {
          "output_type": "stream",
          "text": [
            "[[5088  552]\n",
            " [ 955 3621]]\n",
            "The accuracy score is : 0.8524862960062647\n",
            "              precision    recall  f1-score   support\n",
            "\n",
            "           0       0.84      0.90      0.87      5640\n",
            "           1       0.87      0.79      0.83      4576\n",
            "\n",
            "    accuracy                           0.85     10216\n",
            "   macro avg       0.85      0.85      0.85     10216\n",
            "weighted avg       0.85      0.85      0.85     10216\n",
            "\n",
            "The roc_auc_score is : 0.8467150535634578\n"
          ],
          "name": "stdout"
        }
      ]
    },
    {
      "cell_type": "markdown",
      "metadata": {
        "id": "zESZHK63jNIn"
      },
      "source": [
        "## Ensemble Techniques"
      ]
    },
    {
      "cell_type": "code",
      "metadata": {
        "colab": {
          "base_uri": "https://localhost:8080/"
        },
        "id": "gpM-ZOPxjQfn",
        "outputId": "48bc70c3-59a9-463e-cce7-397b56205085"
      },
      "source": [
        "# Break off validation set from training data\r\n",
        "from sklearn.model_selection import train_test_split\r\n",
        "X_train_ey, X_valid_ey, y_train_ey, y_valid_ey = train_test_split(X_train_target, y,train_size=0.8, test_size=0.2, random_state=0)\r\n",
        "\r\n",
        "from imblearn.ensemble import EasyEnsembleClassifier\r\n",
        "easy=EasyEnsembleClassifier()\r\n",
        "easy.fit(X_train_ey,y_train_ey)\r\n"
      ],
      "execution_count": 112,
      "outputs": [
        {
          "output_type": "stream",
          "text": [
            "/usr/local/lib/python3.6/dist-packages/sklearn/utils/deprecation.py:144: FutureWarning: The sklearn.ensemble.bagging module is  deprecated in version 0.22 and will be removed in version 0.24. The corresponding classes / functions should instead be imported from sklearn.ensemble. Anything that cannot be imported from sklearn.ensemble is now part of the private API.\n",
            "  warnings.warn(message, FutureWarning)\n",
            "/usr/local/lib/python3.6/dist-packages/sklearn/utils/deprecation.py:144: FutureWarning: The sklearn.ensemble.base module is  deprecated in version 0.22 and will be removed in version 0.24. The corresponding classes / functions should instead be imported from sklearn.ensemble. Anything that cannot be imported from sklearn.ensemble is now part of the private API.\n",
            "  warnings.warn(message, FutureWarning)\n",
            "/usr/local/lib/python3.6/dist-packages/sklearn/utils/deprecation.py:144: FutureWarning: The sklearn.ensemble.forest module is  deprecated in version 0.22 and will be removed in version 0.24. The corresponding classes / functions should instead be imported from sklearn.ensemble. Anything that cannot be imported from sklearn.ensemble is now part of the private API.\n",
            "  warnings.warn(message, FutureWarning)\n",
            "/usr/local/lib/python3.6/dist-packages/sklearn/externals/joblib/__init__.py:15: FutureWarning: sklearn.externals.joblib is deprecated in 0.21 and will be removed in 0.23. Please import this functionality directly from joblib, which can be installed with: pip install joblib. If this warning is raised when loading pickled models, you may need to re-serialize those models with scikit-learn 0.21+.\n",
            "  warnings.warn(msg, category=FutureWarning)\n",
            "/usr/local/lib/python3.6/dist-packages/sklearn/utils/deprecation.py:87: FutureWarning: Function safe_indexing is deprecated; safe_indexing is deprecated in version 0.22 and will be removed in version 0.24.\n",
            "  warnings.warn(msg, category=FutureWarning)\n",
            "/usr/local/lib/python3.6/dist-packages/sklearn/utils/deprecation.py:87: FutureWarning: Function safe_indexing is deprecated; safe_indexing is deprecated in version 0.22 and will be removed in version 0.24.\n",
            "  warnings.warn(msg, category=FutureWarning)\n",
            "/usr/local/lib/python3.6/dist-packages/sklearn/utils/deprecation.py:87: FutureWarning: Function safe_indexing is deprecated; safe_indexing is deprecated in version 0.22 and will be removed in version 0.24.\n",
            "  warnings.warn(msg, category=FutureWarning)\n",
            "/usr/local/lib/python3.6/dist-packages/sklearn/utils/deprecation.py:87: FutureWarning: Function safe_indexing is deprecated; safe_indexing is deprecated in version 0.22 and will be removed in version 0.24.\n",
            "  warnings.warn(msg, category=FutureWarning)\n",
            "/usr/local/lib/python3.6/dist-packages/sklearn/utils/deprecation.py:87: FutureWarning: Function safe_indexing is deprecated; safe_indexing is deprecated in version 0.22 and will be removed in version 0.24.\n",
            "  warnings.warn(msg, category=FutureWarning)\n",
            "/usr/local/lib/python3.6/dist-packages/sklearn/utils/deprecation.py:87: FutureWarning: Function safe_indexing is deprecated; safe_indexing is deprecated in version 0.22 and will be removed in version 0.24.\n",
            "  warnings.warn(msg, category=FutureWarning)\n",
            "/usr/local/lib/python3.6/dist-packages/sklearn/utils/deprecation.py:87: FutureWarning: Function safe_indexing is deprecated; safe_indexing is deprecated in version 0.22 and will be removed in version 0.24.\n",
            "  warnings.warn(msg, category=FutureWarning)\n",
            "/usr/local/lib/python3.6/dist-packages/sklearn/utils/deprecation.py:87: FutureWarning: Function safe_indexing is deprecated; safe_indexing is deprecated in version 0.22 and will be removed in version 0.24.\n",
            "  warnings.warn(msg, category=FutureWarning)\n",
            "/usr/local/lib/python3.6/dist-packages/sklearn/utils/deprecation.py:87: FutureWarning: Function safe_indexing is deprecated; safe_indexing is deprecated in version 0.22 and will be removed in version 0.24.\n",
            "  warnings.warn(msg, category=FutureWarning)\n",
            "/usr/local/lib/python3.6/dist-packages/sklearn/utils/deprecation.py:87: FutureWarning: Function safe_indexing is deprecated; safe_indexing is deprecated in version 0.22 and will be removed in version 0.24.\n",
            "  warnings.warn(msg, category=FutureWarning)\n"
          ],
          "name": "stderr"
        },
        {
          "output_type": "execute_result",
          "data": {
            "text/plain": [
              "EasyEnsembleClassifier(base_estimator=None, n_estimators=10, n_jobs=1,\n",
              "                       random_state=None, replacement=False,\n",
              "                       sampling_strategy='auto', verbose=0, warm_start=False)"
            ]
          },
          "metadata": {
            "tags": []
          },
          "execution_count": 112
        }
      ]
    },
    {
      "cell_type": "code",
      "metadata": {
        "colab": {
          "base_uri": "https://localhost:8080/"
        },
        "id": "UTLuhmYcjrdm",
        "outputId": "59dab5a3-9399-496c-88af-7d6334e7088b"
      },
      "source": [
        "# Make prediction and print metrics\r\n",
        "from sklearn.metrics import confusion_matrix, accuracy_score, classification_report, roc_auc_score\r\n",
        "y_pred_ey=easy.predict(X_valid_ey)\r\n",
        "print( confusion_matrix(y_valid_ey,y_pred_ey))\r\n",
        "print(\"The accuracy score is :\", accuracy_score(y_valid_ey,y_pred_ey))\r\n",
        "print( classification_report(y_valid_ey,y_pred_ey))\r\n",
        "print(\"The roc_auc_score is :\", roc_auc_score(y_valid_ey,y_pred_ey))"
      ],
      "execution_count": 113,
      "outputs": [
        {
          "output_type": "stream",
          "text": [
            "[[118737  43251]\n",
            " [  1059   3529]]\n",
            "The accuracy score is : 0.7339952934396312\n",
            "              precision    recall  f1-score   support\n",
            "\n",
            "           0       0.99      0.73      0.84    161988\n",
            "           1       0.08      0.77      0.14      4588\n",
            "\n",
            "    accuracy                           0.73    166576\n",
            "   macro avg       0.53      0.75      0.49    166576\n",
            "weighted avg       0.97      0.73      0.82    166576\n",
            "\n",
            "The roc_auc_score is : 0.7510896057204148\n"
          ],
          "name": "stdout"
        }
      ]
    },
    {
      "cell_type": "markdown",
      "metadata": {
        "id": "V7OW41GWlkj8"
      },
      "source": [
        "## Step 7: Save Best Model"
      ]
    },
    {
      "cell_type": "code",
      "metadata": {
        "id": "FrF9J7XBlon5"
      },
      "source": [
        "import pickle\r\n",
        "filename = 'Flight_Cancellation.pickle'\r\n",
        "pickle.dump(classifier2, open(filename, 'wb'))"
      ],
      "execution_count": 114,
      "outputs": []
    },
    {
      "cell_type": "markdown",
      "metadata": {
        "id": "kSrKGDXhm8DM"
      },
      "source": [
        "## Step 8: Make prediction on test set with best model"
      ]
    },
    {
      "cell_type": "code",
      "metadata": {
        "colab": {
          "base_uri": "https://localhost:8080/",
          "height": 195
        },
        "id": "lmHTW7ZgnCEv",
        "outputId": "f464fd8d-805d-48e6-a179-71d7098e4dbf"
      },
      "source": [
        "# Best model involves random over sampling\r\n",
        "\r\n",
        "X_df = X_test_target.copy()\r\n",
        "X_df.head()\r\n"
      ],
      "execution_count": 120,
      "outputs": [
        {
          "output_type": "execute_result",
          "data": {
            "text/html": [
              "<div>\n",
              "<style scoped>\n",
              "    .dataframe tbody tr th:only-of-type {\n",
              "        vertical-align: middle;\n",
              "    }\n",
              "\n",
              "    .dataframe tbody tr th {\n",
              "        vertical-align: top;\n",
              "    }\n",
              "\n",
              "    .dataframe thead th {\n",
              "        text-align: right;\n",
              "    }\n",
              "</style>\n",
              "<table border=\"1\" class=\"dataframe\">\n",
              "  <thead>\n",
              "    <tr style=\"text-align: right;\">\n",
              "      <th></th>\n",
              "      <th>YEAR</th>\n",
              "      <th>MONTH</th>\n",
              "      <th>DAY</th>\n",
              "      <th>DAY_OF_WEEK</th>\n",
              "      <th>FLIGHT_NUMBER</th>\n",
              "      <th>SCHEDULED_DEPARTURE</th>\n",
              "      <th>SCHEDULED_TIME</th>\n",
              "      <th>DISTANCE</th>\n",
              "      <th>SCHEDULED_ARRIVAL</th>\n",
              "      <th>AIRLINE_target</th>\n",
              "    </tr>\n",
              "  </thead>\n",
              "  <tbody>\n",
              "    <tr>\n",
              "      <th>0</th>\n",
              "      <td>2015</td>\n",
              "      <td>2</td>\n",
              "      <td>25</td>\n",
              "      <td>3</td>\n",
              "      <td>1046</td>\n",
              "      <td>700</td>\n",
              "      <td>65</td>\n",
              "      <td>255</td>\n",
              "      <td>905</td>\n",
              "      <td>0.02298</td>\n",
              "    </tr>\n",
              "    <tr>\n",
              "      <th>1</th>\n",
              "      <td>2015</td>\n",
              "      <td>2</td>\n",
              "      <td>25</td>\n",
              "      <td>3</td>\n",
              "      <td>2251</td>\n",
              "      <td>700</td>\n",
              "      <td>80</td>\n",
              "      <td>345</td>\n",
              "      <td>820</td>\n",
              "      <td>0.02298</td>\n",
              "    </tr>\n",
              "    <tr>\n",
              "      <th>2</th>\n",
              "      <td>2015</td>\n",
              "      <td>2</td>\n",
              "      <td>25</td>\n",
              "      <td>3</td>\n",
              "      <td>857</td>\n",
              "      <td>700</td>\n",
              "      <td>90</td>\n",
              "      <td>397</td>\n",
              "      <td>830</td>\n",
              "      <td>0.02298</td>\n",
              "    </tr>\n",
              "    <tr>\n",
              "      <th>3</th>\n",
              "      <td>2015</td>\n",
              "      <td>2</td>\n",
              "      <td>25</td>\n",
              "      <td>3</td>\n",
              "      <td>2864</td>\n",
              "      <td>700</td>\n",
              "      <td>295</td>\n",
              "      <td>2329</td>\n",
              "      <td>1455</td>\n",
              "      <td>0.02298</td>\n",
              "    </tr>\n",
              "    <tr>\n",
              "      <th>4</th>\n",
              "      <td>2015</td>\n",
              "      <td>2</td>\n",
              "      <td>25</td>\n",
              "      <td>3</td>\n",
              "      <td>3220</td>\n",
              "      <td>700</td>\n",
              "      <td>80</td>\n",
              "      <td>370</td>\n",
              "      <td>920</td>\n",
              "      <td>0.02298</td>\n",
              "    </tr>\n",
              "  </tbody>\n",
              "</table>\n",
              "</div>"
            ],
            "text/plain": [
              "   YEAR  MONTH  DAY  ...  DISTANCE  SCHEDULED_ARRIVAL  AIRLINE_target\n",
              "0  2015      2   25  ...       255                905         0.02298\n",
              "1  2015      2   25  ...       345                820         0.02298\n",
              "2  2015      2   25  ...       397                830         0.02298\n",
              "3  2015      2   25  ...      2329               1455         0.02298\n",
              "4  2015      2   25  ...       370                920         0.02298\n",
              "\n",
              "[5 rows x 10 columns]"
            ]
          },
          "metadata": {
            "tags": []
          },
          "execution_count": 120
        }
      ]
    },
    {
      "cell_type": "code",
      "metadata": {
        "colab": {
          "base_uri": "https://localhost:8080/"
        },
        "id": "QopkGXwRnlIU",
        "outputId": "920ab860-e196-47d0-86c9-eb1f22406bd8"
      },
      "source": [
        "# Make prediction\r\n",
        "X_test = X_df.values\r\n",
        "# load trained model\r\n",
        "loaded_model = pickle.load(open('Flight_Cancellation.pickle', 'rb'))\r\n",
        "y_hat = loaded_model.predict(X_test)\r\n",
        "y_hat\r\n"
      ],
      "execution_count": 121,
      "outputs": [
        {
          "output_type": "execute_result",
          "data": {
            "text/plain": [
              "array([0, 0, 0, ..., 0, 0, 0])"
            ]
          },
          "metadata": {
            "tags": []
          },
          "execution_count": 121
        }
      ]
    },
    {
      "cell_type": "code",
      "metadata": {
        "id": "BwcwCsmfqlUg"
      },
      "source": [
        "np.savetxt('SeptemberChallenge_AbiolaObembe', y_hat, fmt='%d', delimiter=' ', newline='\\n', header='', footer='', comments='# ', encoding=None)"
      ],
      "execution_count": 128,
      "outputs": []
    }
  ]
}