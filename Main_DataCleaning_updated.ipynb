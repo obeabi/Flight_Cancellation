{
  "nbformat": 4,
  "nbformat_minor": 0,
  "metadata": {
    "colab": {
      "name": "Main_DataCleaning.ipynb",
      "provenance": [],
      "collapsed_sections": [
        "_XiUtgWGIOL4"
      ],
      "toc_visible": true,
      "include_colab_link": true
    },
    "kernelspec": {
      "name": "python3",
      "display_name": "Python 3"
    }
  },
  "cells": [
    {
      "cell_type": "markdown",
      "metadata": {
        "id": "view-in-github",
        "colab_type": "text"
      },
      "source": [
        "<a href=\"https://colab.research.google.com/github/obeabi/Flight_Cancellation/blob/main/Main_DataCleaning_updated.ipynb\" target=\"_parent\"><img src=\"https://colab.research.google.com/assets/colab-badge.svg\" alt=\"Open In Colab\"/></a>"
      ]
    },
    {
      "cell_type": "markdown",
      "metadata": {
        "id": "gW-CD9qPUXiR"
      },
      "source": [
        "# Written by Abiola Obembe\n",
        "# SDS Challenge #1 - Flight Cancellations\n",
        "## 2020-10-30\n",
        "\n",
        "## Stage 1: Data Cleaning"
      ]
    },
    {
      "cell_type": "markdown",
      "metadata": {
        "id": "BaT4o-v0Up4V"
      },
      "source": [
        "## Problem Statement\n",
        "I have been hired by the US Department of Transportation (DOT) to analyze data from multiple airline carriers in the United States. The DOT wants to help airline carriers reduce the number of flight cancellations and improve travelers' experiences. My job is to help the DOT predict whether or not a flight will be canceled based on the data provided."
      ]
    },
    {
      "cell_type": "markdown",
      "metadata": {
        "id": "Nvyy8tV7VEZ5"
      },
      "source": [
        "### Step 1: Data Preprocessing Tools"
      ]
    },
    {
      "cell_type": "code",
      "metadata": {
        "id": "UsUbaYb6VCZ_",
        "colab": {
          "base_uri": "https://localhost:8080/"
        },
        "outputId": "abe26ff7-dfc3-48e1-8554-bc4dcd7f8d8c"
      },
      "source": [
        "\n",
        "# Importing the libraries\n",
        "import numpy as np\n",
        "import matplotlib.pyplot as plt\n",
        "import pandas as pd\n",
        "import seaborn as sns\n",
        "\n",
        "\n",
        "%matplotlib inline\n",
        "plt.rcParams['figure.figsize'] = (5.0, 4.0) # set default size of plots\n",
        "plt.rcParams['image.interpolation'] = 'nearest'\n",
        "plt.rcParams['image.cmap'] = 'gray'\n",
        "\n",
        "print('Libraries installed successfully!')\n",
        "\n",
        "np.random.seed(0)"
      ],
      "execution_count": 1,
      "outputs": [
        {
          "output_type": "stream",
          "text": [
            "Libraries installed successfully!\n"
          ],
          "name": "stdout"
        }
      ]
    },
    {
      "cell_type": "code",
      "metadata": {
        "id": "IAN_VFooV8lb",
        "colab": {
          "base_uri": "https://localhost:8080/",
          "height": 215
        },
        "outputId": "5e454ba7-40ac-4aff-968b-ce8a8934565d"
      },
      "source": [
        "# Importing the dataset and check the shape and total number of missing values\n",
        "\n",
        "df_train = pd.read_csv('public_flights.csv', engine= 'python', encoding= 'latin1')\n",
        "\n",
        "df_train.head()\n",
        "\n"
      ],
      "execution_count": 2,
      "outputs": [
        {
          "output_type": "execute_result",
          "data": {
            "text/html": [
              "<div>\n",
              "<style scoped>\n",
              "    .dataframe tbody tr th:only-of-type {\n",
              "        vertical-align: middle;\n",
              "    }\n",
              "\n",
              "    .dataframe tbody tr th {\n",
              "        vertical-align: top;\n",
              "    }\n",
              "\n",
              "    .dataframe thead th {\n",
              "        text-align: right;\n",
              "    }\n",
              "</style>\n",
              "<table border=\"1\" class=\"dataframe\">\n",
              "  <thead>\n",
              "    <tr style=\"text-align: right;\">\n",
              "      <th></th>\n",
              "      <th>YEAR</th>\n",
              "      <th>MONTH</th>\n",
              "      <th>DAY</th>\n",
              "      <th>DAY_OF_WEEK</th>\n",
              "      <th>AIRLINE</th>\n",
              "      <th>FLIGHT_NUMBER</th>\n",
              "      <th>TAIL_NUMBER</th>\n",
              "      <th>ORIGIN_AIRPORT</th>\n",
              "      <th>DESTINATION_AIRPORT</th>\n",
              "      <th>SCHEDULED_DEPARTURE</th>\n",
              "      <th>SCHEDULED_TIME</th>\n",
              "      <th>DISTANCE</th>\n",
              "      <th>SCHEDULED_ARRIVAL</th>\n",
              "      <th>CANCELLED</th>\n",
              "    </tr>\n",
              "  </thead>\n",
              "  <tbody>\n",
              "    <tr>\n",
              "      <th>0</th>\n",
              "      <td>2015</td>\n",
              "      <td>1</td>\n",
              "      <td>1</td>\n",
              "      <td>4</td>\n",
              "      <td>AS</td>\n",
              "      <td>98</td>\n",
              "      <td>N407AS</td>\n",
              "      <td>ANC</td>\n",
              "      <td>SEA</td>\n",
              "      <td>5</td>\n",
              "      <td>205.0</td>\n",
              "      <td>1448</td>\n",
              "      <td>430</td>\n",
              "      <td>0</td>\n",
              "    </tr>\n",
              "    <tr>\n",
              "      <th>1</th>\n",
              "      <td>2015</td>\n",
              "      <td>1</td>\n",
              "      <td>1</td>\n",
              "      <td>4</td>\n",
              "      <td>AA</td>\n",
              "      <td>2336</td>\n",
              "      <td>N3KUAA</td>\n",
              "      <td>LAX</td>\n",
              "      <td>PBI</td>\n",
              "      <td>10</td>\n",
              "      <td>280.0</td>\n",
              "      <td>2330</td>\n",
              "      <td>750</td>\n",
              "      <td>0</td>\n",
              "    </tr>\n",
              "    <tr>\n",
              "      <th>2</th>\n",
              "      <td>2015</td>\n",
              "      <td>1</td>\n",
              "      <td>1</td>\n",
              "      <td>4</td>\n",
              "      <td>US</td>\n",
              "      <td>840</td>\n",
              "      <td>N171US</td>\n",
              "      <td>SFO</td>\n",
              "      <td>CLT</td>\n",
              "      <td>20</td>\n",
              "      <td>286.0</td>\n",
              "      <td>2296</td>\n",
              "      <td>806</td>\n",
              "      <td>0</td>\n",
              "    </tr>\n",
              "    <tr>\n",
              "      <th>3</th>\n",
              "      <td>2015</td>\n",
              "      <td>1</td>\n",
              "      <td>1</td>\n",
              "      <td>4</td>\n",
              "      <td>AA</td>\n",
              "      <td>258</td>\n",
              "      <td>N3HYAA</td>\n",
              "      <td>LAX</td>\n",
              "      <td>MIA</td>\n",
              "      <td>20</td>\n",
              "      <td>285.0</td>\n",
              "      <td>2342</td>\n",
              "      <td>805</td>\n",
              "      <td>0</td>\n",
              "    </tr>\n",
              "    <tr>\n",
              "      <th>4</th>\n",
              "      <td>2015</td>\n",
              "      <td>1</td>\n",
              "      <td>1</td>\n",
              "      <td>4</td>\n",
              "      <td>AS</td>\n",
              "      <td>135</td>\n",
              "      <td>N527AS</td>\n",
              "      <td>SEA</td>\n",
              "      <td>ANC</td>\n",
              "      <td>25</td>\n",
              "      <td>235.0</td>\n",
              "      <td>1448</td>\n",
              "      <td>320</td>\n",
              "      <td>0</td>\n",
              "    </tr>\n",
              "  </tbody>\n",
              "</table>\n",
              "</div>"
            ],
            "text/plain": [
              "   YEAR  MONTH  DAY  ...  DISTANCE SCHEDULED_ARRIVAL  CANCELLED\n",
              "0  2015      1    1  ...      1448               430          0\n",
              "1  2015      1    1  ...      2330               750          0\n",
              "2  2015      1    1  ...      2296               806          0\n",
              "3  2015      1    1  ...      2342               805          0\n",
              "4  2015      1    1  ...      1448               320          0\n",
              "\n",
              "[5 rows x 14 columns]"
            ]
          },
          "metadata": {
            "tags": []
          },
          "execution_count": 2
        }
      ]
    },
    {
      "cell_type": "code",
      "metadata": {
        "id": "B11R3A23b8os",
        "colab": {
          "base_uri": "https://localhost:8080/"
        },
        "outputId": "d3e08ae1-c5f7-461e-8653-f95863ef7d61"
      },
      "source": [
        "# print target column name as a list\n",
        "target_column = [df_train.columns[-1]]\n",
        "\n",
        "print(target_column)"
      ],
      "execution_count": 3,
      "outputs": [
        {
          "output_type": "stream",
          "text": [
            "['CANCELLED']\n"
          ],
          "name": "stdout"
        }
      ]
    },
    {
      "cell_type": "code",
      "metadata": {
        "id": "fW8EYUGAoUyz",
        "colab": {
          "base_uri": "https://localhost:8080/"
        },
        "outputId": "dc41776f-72fe-4a2a-e3ac-8a8eb0e201cc"
      },
      "source": [
        "# Examine target column for unbalanced data\n",
        "df_train[target_column].value_counts()"
      ],
      "execution_count": 4,
      "outputs": [
        {
          "output_type": "execute_result",
          "data": {
            "text/plain": [
              "CANCELLED\n",
              "0            810176\n",
              "1             28682\n",
              "dtype: int64"
            ]
          },
          "metadata": {
            "tags": []
          },
          "execution_count": 4
        }
      ]
    },
    {
      "cell_type": "code",
      "metadata": {
        "id": "h8P_OQlmKFLx",
        "colab": {
          "base_uri": "https://localhost:8080/",
          "height": 295
        },
        "outputId": "4310b085-3ed6-49d9-9671-74d40e811487"
      },
      "source": [
        "# Let's visualize the distribution of data\n",
        "count_classes = pd.value_counts(df_train['CANCELLED'], sort = True)\n",
        "count_classes.plot(kind = 'bar', rot = 0)\n",
        "plt.title(\"Cancelled Flights Distribution\")\n",
        "plt.xticks(range(2))\n",
        "plt.xlabel(\"CANCELLED\")\n",
        "plt.ylabel('Frequency')\n",
        "plt.show()"
      ],
      "execution_count": 5,
      "outputs": [
        {
          "output_type": "display_data",
          "data": {
            "image/png": "[encoded data removed]",
            "text/plain": [
              "<Figure size 432x288 with 1 Axes>"
            ]
          },
          "metadata": {
            "tags": [],
            "needs_background": "light"
          }
        }
      ]
    },
    {
      "cell_type": "code",
      "metadata": {
        "id": "Qy0G7oUKh0wV",
        "colab": {
          "base_uri": "https://localhost:8080/"
        },
        "outputId": "e7ed1deb-af61-487d-d4f0-1f3eee244985"
      },
      "source": [
        "# Importing the train-set nd check the shape and total number of missing values\n",
        "\n",
        "print(\"The shape of the train-set is:\", (df_train.shape))\n",
        "print(\"The number of rows in the train-set is:\", str(df_train.shape[0]))\n",
        "print(\"The number of columns in the train-set is:\", str(df_train.shape[1]))\n",
        "\n",
        "missing_valuestrain = df_train.isnull().sum().sum()\n",
        "percentMissing = (missing_valuestrain/np.product((df_train.shape)))*100\n",
        "print(\"The number of missing values in the train-set is:\", str(missing_valuestrain))\n",
        "print(\"The percentage of missing values in the train-set is:\", str(percentMissing))"
      ],
      "execution_count": 6,
      "outputs": [
        {
          "output_type": "stream",
          "text": [
            "The shape of the train-set is: (838858, 14)\n",
            "The number of rows in the train-set is: 838858\n",
            "The number of columns in the train-set is: 14\n",
            "The number of missing values in the train-set is: 5983\n",
            "The percentage of missing values in the train-set is: 0.05094511143210685\n"
          ],
          "name": "stdout"
        }
      ]
    },
    {
      "cell_type": "code",
      "metadata": {
        "id": "xCbWRNp_n7RS",
        "colab": {
          "base_uri": "https://localhost:8080/",
          "height": 195
        },
        "outputId": "336f4680-24c6-46ec-b07d-99c3c0dbf643"
      },
      "source": [
        "# create dataframe for test test\n",
        "df_test = pd.read_csv('pred_flights.csv')\n",
        "df_test.head()"
      ],
      "execution_count": 7,
      "outputs": [
        {
          "output_type": "execute_result",
          "data": {
            "text/html": [
              "<div>\n",
              "<style scoped>\n",
              "    .dataframe tbody tr th:only-of-type {\n",
              "        vertical-align: middle;\n",
              "    }\n",
              "\n",
              "    .dataframe tbody tr th {\n",
              "        vertical-align: top;\n",
              "    }\n",
              "\n",
              "    .dataframe thead th {\n",
              "        text-align: right;\n",
              "    }\n",
              "</style>\n",
              "<table border=\"1\" class=\"dataframe\">\n",
              "  <thead>\n",
              "    <tr style=\"text-align: right;\">\n",
              "      <th></th>\n",
              "      <th>2015</th>\n",
              "      <th>2</th>\n",
              "      <th>25</th>\n",
              "      <th>3</th>\n",
              "      <th>WN</th>\n",
              "      <th>1046</th>\n",
              "      <th>N731SA</th>\n",
              "      <th>LAS</th>\n",
              "      <th>PHX</th>\n",
              "      <th>700</th>\n",
              "      <th>65</th>\n",
              "      <th>255</th>\n",
              "      <th>905</th>\n",
              "    </tr>\n",
              "  </thead>\n",
              "  <tbody>\n",
              "    <tr>\n",
              "      <th>0</th>\n",
              "      <td>2015</td>\n",
              "      <td>2</td>\n",
              "      <td>25</td>\n",
              "      <td>3</td>\n",
              "      <td>WN</td>\n",
              "      <td>2251</td>\n",
              "      <td>N279WN</td>\n",
              "      <td>LAS</td>\n",
              "      <td>RNO</td>\n",
              "      <td>700</td>\n",
              "      <td>80</td>\n",
              "      <td>345</td>\n",
              "      <td>820</td>\n",
              "    </tr>\n",
              "    <tr>\n",
              "      <th>1</th>\n",
              "      <td>2015</td>\n",
              "      <td>2</td>\n",
              "      <td>25</td>\n",
              "      <td>3</td>\n",
              "      <td>WN</td>\n",
              "      <td>857</td>\n",
              "      <td>N277WN</td>\n",
              "      <td>LAS</td>\n",
              "      <td>SMF</td>\n",
              "      <td>700</td>\n",
              "      <td>90</td>\n",
              "      <td>397</td>\n",
              "      <td>830</td>\n",
              "    </tr>\n",
              "    <tr>\n",
              "      <th>2</th>\n",
              "      <td>2015</td>\n",
              "      <td>2</td>\n",
              "      <td>25</td>\n",
              "      <td>3</td>\n",
              "      <td>WN</td>\n",
              "      <td>2864</td>\n",
              "      <td>N8632A</td>\n",
              "      <td>LAX</td>\n",
              "      <td>BWI</td>\n",
              "      <td>700</td>\n",
              "      <td>295</td>\n",
              "      <td>2329</td>\n",
              "      <td>1455</td>\n",
              "    </tr>\n",
              "    <tr>\n",
              "      <th>3</th>\n",
              "      <td>2015</td>\n",
              "      <td>2</td>\n",
              "      <td>25</td>\n",
              "      <td>3</td>\n",
              "      <td>WN</td>\n",
              "      <td>3220</td>\n",
              "      <td>N8659D</td>\n",
              "      <td>LAX</td>\n",
              "      <td>PHX</td>\n",
              "      <td>700</td>\n",
              "      <td>80</td>\n",
              "      <td>370</td>\n",
              "      <td>920</td>\n",
              "    </tr>\n",
              "    <tr>\n",
              "      <th>4</th>\n",
              "      <td>2015</td>\n",
              "      <td>2</td>\n",
              "      <td>25</td>\n",
              "      <td>3</td>\n",
              "      <td>WN</td>\n",
              "      <td>2954</td>\n",
              "      <td>N789SW</td>\n",
              "      <td>LGA</td>\n",
              "      <td>HOU</td>\n",
              "      <td>700</td>\n",
              "      <td>265</td>\n",
              "      <td>1428</td>\n",
              "      <td>1025</td>\n",
              "    </tr>\n",
              "  </tbody>\n",
              "</table>\n",
              "</div>"
            ],
            "text/plain": [
              "   2015  2  25  3  WN  1046  N731SA  LAS  PHX  700   65   255   905\n",
              "0  2015  2  25  3  WN  2251  N279WN  LAS  RNO  700   80   345   820\n",
              "1  2015  2  25  3  WN   857  N277WN  LAS  SMF  700   90   397   830\n",
              "2  2015  2  25  3  WN  2864  N8632A  LAX  BWI  700  295  2329  1455\n",
              "3  2015  2  25  3  WN  3220  N8659D  LAX  PHX  700   80   370   920\n",
              "4  2015  2  25  3  WN  2954  N789SW  LGA  HOU  700  265  1428  1025"
            ]
          },
          "metadata": {
            "tags": []
          },
          "execution_count": 7
        }
      ]
    },
    {
      "cell_type": "code",
      "metadata": {
        "id": "IYQNQY7on7s3",
        "colab": {
          "base_uri": "https://localhost:8080/",
          "height": 215
        },
        "outputId": "df4f0f57-29d6-4434-dff9-735ae6b77e8f"
      },
      "source": [
        "# test set dataframe is missing headers information so we will re-initailize it, deleting the target column label\n",
        "labels = df_train.columns\n",
        "\n",
        "new_label= labels[:-1]  # select all column labels except the target column\n",
        "\n",
        "#new_label\n",
        "df_test = pd.read_csv('pred_flights.csv', header =None, names = new_label)\n",
        "\n",
        "df_test.head()"
      ],
      "execution_count": 8,
      "outputs": [
        {
          "output_type": "execute_result",
          "data": {
            "text/html": [
              "<div>\n",
              "<style scoped>\n",
              "    .dataframe tbody tr th:only-of-type {\n",
              "        vertical-align: middle;\n",
              "    }\n",
              "\n",
              "    .dataframe tbody tr th {\n",
              "        vertical-align: top;\n",
              "    }\n",
              "\n",
              "    .dataframe thead th {\n",
              "        text-align: right;\n",
              "    }\n",
              "</style>\n",
              "<table border=\"1\" class=\"dataframe\">\n",
              "  <thead>\n",
              "    <tr style=\"text-align: right;\">\n",
              "      <th></th>\n",
              "      <th>YEAR</th>\n",
              "      <th>MONTH</th>\n",
              "      <th>DAY</th>\n",
              "      <th>DAY_OF_WEEK</th>\n",
              "      <th>AIRLINE</th>\n",
              "      <th>FLIGHT_NUMBER</th>\n",
              "      <th>TAIL_NUMBER</th>\n",
              "      <th>ORIGIN_AIRPORT</th>\n",
              "      <th>DESTINATION_AIRPORT</th>\n",
              "      <th>SCHEDULED_DEPARTURE</th>\n",
              "      <th>SCHEDULED_TIME</th>\n",
              "      <th>DISTANCE</th>\n",
              "      <th>SCHEDULED_ARRIVAL</th>\n",
              "    </tr>\n",
              "  </thead>\n",
              "  <tbody>\n",
              "    <tr>\n",
              "      <th>0</th>\n",
              "      <td>2015</td>\n",
              "      <td>2</td>\n",
              "      <td>25</td>\n",
              "      <td>3</td>\n",
              "      <td>WN</td>\n",
              "      <td>1046</td>\n",
              "      <td>N731SA</td>\n",
              "      <td>LAS</td>\n",
              "      <td>PHX</td>\n",
              "      <td>700</td>\n",
              "      <td>65</td>\n",
              "      <td>255</td>\n",
              "      <td>905</td>\n",
              "    </tr>\n",
              "    <tr>\n",
              "      <th>1</th>\n",
              "      <td>2015</td>\n",
              "      <td>2</td>\n",
              "      <td>25</td>\n",
              "      <td>3</td>\n",
              "      <td>WN</td>\n",
              "      <td>2251</td>\n",
              "      <td>N279WN</td>\n",
              "      <td>LAS</td>\n",
              "      <td>RNO</td>\n",
              "      <td>700</td>\n",
              "      <td>80</td>\n",
              "      <td>345</td>\n",
              "      <td>820</td>\n",
              "    </tr>\n",
              "    <tr>\n",
              "      <th>2</th>\n",
              "      <td>2015</td>\n",
              "      <td>2</td>\n",
              "      <td>25</td>\n",
              "      <td>3</td>\n",
              "      <td>WN</td>\n",
              "      <td>857</td>\n",
              "      <td>N277WN</td>\n",
              "      <td>LAS</td>\n",
              "      <td>SMF</td>\n",
              "      <td>700</td>\n",
              "      <td>90</td>\n",
              "      <td>397</td>\n",
              "      <td>830</td>\n",
              "    </tr>\n",
              "    <tr>\n",
              "      <th>3</th>\n",
              "      <td>2015</td>\n",
              "      <td>2</td>\n",
              "      <td>25</td>\n",
              "      <td>3</td>\n",
              "      <td>WN</td>\n",
              "      <td>2864</td>\n",
              "      <td>N8632A</td>\n",
              "      <td>LAX</td>\n",
              "      <td>BWI</td>\n",
              "      <td>700</td>\n",
              "      <td>295</td>\n",
              "      <td>2329</td>\n",
              "      <td>1455</td>\n",
              "    </tr>\n",
              "    <tr>\n",
              "      <th>4</th>\n",
              "      <td>2015</td>\n",
              "      <td>2</td>\n",
              "      <td>25</td>\n",
              "      <td>3</td>\n",
              "      <td>WN</td>\n",
              "      <td>3220</td>\n",
              "      <td>N8659D</td>\n",
              "      <td>LAX</td>\n",
              "      <td>PHX</td>\n",
              "      <td>700</td>\n",
              "      <td>80</td>\n",
              "      <td>370</td>\n",
              "      <td>920</td>\n",
              "    </tr>\n",
              "  </tbody>\n",
              "</table>\n",
              "</div>"
            ],
            "text/plain": [
              "   YEAR  MONTH  DAY  ...  SCHEDULED_TIME DISTANCE  SCHEDULED_ARRIVAL\n",
              "0  2015      2   25  ...              65      255                905\n",
              "1  2015      2   25  ...              80      345                820\n",
              "2  2015      2   25  ...              90      397                830\n",
              "3  2015      2   25  ...             295     2329               1455\n",
              "4  2015      2   25  ...              80      370                920\n",
              "\n",
              "[5 rows x 13 columns]"
            ]
          },
          "metadata": {
            "tags": []
          },
          "execution_count": 8
        }
      ]
    },
    {
      "cell_type": "code",
      "metadata": {
        "id": "3dGjL3dCoEq0",
        "colab": {
          "base_uri": "https://localhost:8080/"
        },
        "outputId": "ccb86ef9-3f56-4eb1-99b8-efdd16d28332"
      },
      "source": [
        "# Importing the test-set and check the shape and total number of missing values\n",
        "\n",
        "print(\"The shape of the test-set is:\", (df_test.shape))\n",
        "print(\"The number of rows in the test-set is:\", str(df_test.shape[0]))\n",
        "print(\"The number of columns in the test-set is:\", str(df_test.shape[1]))\n",
        "\n",
        "\n",
        "missing_valuestest = df_test.isnull().sum().sum()\n",
        "percentMissing = (missing_valuestest/np.product((df_test.shape)))*100\n",
        "print(\"The number of missing values in the test-set is:\", str(missing_valuestest))\n",
        "print(\"The percentage of missing values in the test-set is:\", str(percentMissing))"
      ],
      "execution_count": 9,
      "outputs": [
        {
          "output_type": "stream",
          "text": [
            "The shape of the test-set is: (209717, 13)\n",
            "The number of rows in the test-set is: 209717\n",
            "The number of columns in the test-set is: 13\n",
            "The number of missing values in the test-set is: 1769\n",
            "The percentage of missing values in the test-set is: 0.06488597637622275\n"
          ],
          "name": "stdout"
        }
      ]
    },
    {
      "cell_type": "markdown",
      "metadata": {
        "id": "freCBOMxfXWO"
      },
      "source": [
        "#### The percentage of missing values in the training-set and test-set is less than 1%. Hence one easy altenative may be to drop na values but we would puruse an alternative strategy."
      ]
    },
    {
      "cell_type": "markdown",
      "metadata": {
        "id": "qDQCCXw1oIWW"
      },
      "source": [
        "### Step 2: Feature Engineering (Training and Test Set )"
      ]
    },
    {
      "cell_type": "code",
      "metadata": {
        "id": "7EuLlcgtk9IV",
        "colab": {
          "base_uri": "https://localhost:8080/"
        },
        "outputId": "ea2f596c-d90d-4cd2-a81b-17f1dc7639d2"
      },
      "source": [
        "# Examine the data types for train dataframe\n",
        "df_train.dtypes"
      ],
      "execution_count": 10,
      "outputs": [
        {
          "output_type": "execute_result",
          "data": {
            "text/plain": [
              "YEAR                     int64\n",
              "MONTH                    int64\n",
              "DAY                      int64\n",
              "DAY_OF_WEEK              int64\n",
              "AIRLINE                 object\n",
              "FLIGHT_NUMBER            int64\n",
              "TAIL_NUMBER             object\n",
              "ORIGIN_AIRPORT          object\n",
              "DESTINATION_AIRPORT     object\n",
              "SCHEDULED_DEPARTURE      int64\n",
              "SCHEDULED_TIME         float64\n",
              "DISTANCE                 int64\n",
              "SCHEDULED_ARRIVAL        int64\n",
              "CANCELLED                int64\n",
              "dtype: object"
            ]
          },
          "metadata": {
            "tags": []
          },
          "execution_count": 10
        }
      ]
    },
    {
      "cell_type": "code",
      "metadata": {
        "id": "veARPOxffHyz",
        "colab": {
          "base_uri": "https://localhost:8080/"
        },
        "outputId": "13360d06-a74d-4403-8ad2-d92e28c162ab"
      },
      "source": [
        "# Check for training set data frame info\n",
        "df_train.info()"
      ],
      "execution_count": 11,
      "outputs": [
        {
          "output_type": "stream",
          "text": [
            "<class 'pandas.core.frame.DataFrame'>\n",
            "RangeIndex: 838858 entries, 0 to 838857\n",
            "Data columns (total 14 columns):\n",
            " #   Column               Non-Null Count   Dtype  \n",
            "---  ------               --------------   -----  \n",
            " 0   YEAR                 838858 non-null  int64  \n",
            " 1   MONTH                838858 non-null  int64  \n",
            " 2   DAY                  838858 non-null  int64  \n",
            " 3   DAY_OF_WEEK          838858 non-null  int64  \n",
            " 4   AIRLINE              838858 non-null  object \n",
            " 5   FLIGHT_NUMBER        838858 non-null  int64  \n",
            " 6   TAIL_NUMBER          832877 non-null  object \n",
            " 7   ORIGIN_AIRPORT       838858 non-null  object \n",
            " 8   DESTINATION_AIRPORT  838858 non-null  object \n",
            " 9   SCHEDULED_DEPARTURE  838858 non-null  int64  \n",
            " 10  SCHEDULED_TIME       838856 non-null  float64\n",
            " 11  DISTANCE             838858 non-null  int64  \n",
            " 12  SCHEDULED_ARRIVAL    838858 non-null  int64  \n",
            " 13  CANCELLED            838858 non-null  int64  \n",
            "dtypes: float64(1), int64(9), object(4)\n",
            "memory usage: 89.6+ MB\n"
          ],
          "name": "stdout"
        }
      ]
    },
    {
      "cell_type": "code",
      "metadata": {
        "id": "iiFcG975h-XS",
        "colab": {
          "base_uri": "https://localhost:8080/"
        },
        "outputId": "1b7052c3-2a3b-422f-ed8c-ad5c25bfed77"
      },
      "source": [
        "# Dealing with missing values in the train-set\n",
        "\n",
        "df_train.isnull().sum()"
      ],
      "execution_count": 12,
      "outputs": [
        {
          "output_type": "execute_result",
          "data": {
            "text/plain": [
              "YEAR                      0\n",
              "MONTH                     0\n",
              "DAY                       0\n",
              "DAY_OF_WEEK               0\n",
              "AIRLINE                   0\n",
              "FLIGHT_NUMBER             0\n",
              "TAIL_NUMBER            5981\n",
              "ORIGIN_AIRPORT            0\n",
              "DESTINATION_AIRPORT       0\n",
              "SCHEDULED_DEPARTURE       0\n",
              "SCHEDULED_TIME            2\n",
              "DISTANCE                  0\n",
              "SCHEDULED_ARRIVAL         0\n",
              "CANCELLED                 0\n",
              "dtype: int64"
            ]
          },
          "metadata": {
            "tags": []
          },
          "execution_count": 12
        }
      ]
    },
    {
      "cell_type": "markdown",
      "metadata": {
        "id": "v47C0PRloUg1"
      },
      "source": [
        "#### (A) Dealing with Missing Values"
      ]
    },
    {
      "cell_type": "code",
      "metadata": {
        "id": "FbLaCRECJivv",
        "colab": {
          "base_uri": "https://localhost:8080/",
          "height": 215
        },
        "outputId": "bc394ceb-98d5-4cba-c461-1314ba956855"
      },
      "source": [
        "# Remove rows with missing target, separate target from predictors\n",
        "df_full = df_train.copy()\n",
        "df_full.dropna(axis=0, subset=['CANCELLED'], inplace=True)\n",
        "#y = X_full.CANCELLED\n",
        "#X_full.drop(['CANCELLED'], axis=1, inplace=True)\n",
        "\n",
        "# Show X_full dataframe representing predictors only\n",
        "df_full.head()"
      ],
      "execution_count": 13,
      "outputs": [
        {
          "output_type": "execute_result",
          "data": {
            "text/html": [
              "<div>\n",
              "<style scoped>\n",
              "    .dataframe tbody tr th:only-of-type {\n",
              "        vertical-align: middle;\n",
              "    }\n",
              "\n",
              "    .dataframe tbody tr th {\n",
              "        vertical-align: top;\n",
              "    }\n",
              "\n",
              "    .dataframe thead th {\n",
              "        text-align: right;\n",
              "    }\n",
              "</style>\n",
              "<table border=\"1\" class=\"dataframe\">\n",
              "  <thead>\n",
              "    <tr style=\"text-align: right;\">\n",
              "      <th></th>\n",
              "      <th>YEAR</th>\n",
              "      <th>MONTH</th>\n",
              "      <th>DAY</th>\n",
              "      <th>DAY_OF_WEEK</th>\n",
              "      <th>AIRLINE</th>\n",
              "      <th>FLIGHT_NUMBER</th>\n",
              "      <th>TAIL_NUMBER</th>\n",
              "      <th>ORIGIN_AIRPORT</th>\n",
              "      <th>DESTINATION_AIRPORT</th>\n",
              "      <th>SCHEDULED_DEPARTURE</th>\n",
              "      <th>SCHEDULED_TIME</th>\n",
              "      <th>DISTANCE</th>\n",
              "      <th>SCHEDULED_ARRIVAL</th>\n",
              "      <th>CANCELLED</th>\n",
              "    </tr>\n",
              "  </thead>\n",
              "  <tbody>\n",
              "    <tr>\n",
              "      <th>0</th>\n",
              "      <td>2015</td>\n",
              "      <td>1</td>\n",
              "      <td>1</td>\n",
              "      <td>4</td>\n",
              "      <td>AS</td>\n",
              "      <td>98</td>\n",
              "      <td>N407AS</td>\n",
              "      <td>ANC</td>\n",
              "      <td>SEA</td>\n",
              "      <td>5</td>\n",
              "      <td>205.0</td>\n",
              "      <td>1448</td>\n",
              "      <td>430</td>\n",
              "      <td>0</td>\n",
              "    </tr>\n",
              "    <tr>\n",
              "      <th>1</th>\n",
              "      <td>2015</td>\n",
              "      <td>1</td>\n",
              "      <td>1</td>\n",
              "      <td>4</td>\n",
              "      <td>AA</td>\n",
              "      <td>2336</td>\n",
              "      <td>N3KUAA</td>\n",
              "      <td>LAX</td>\n",
              "      <td>PBI</td>\n",
              "      <td>10</td>\n",
              "      <td>280.0</td>\n",
              "      <td>2330</td>\n",
              "      <td>750</td>\n",
              "      <td>0</td>\n",
              "    </tr>\n",
              "    <tr>\n",
              "      <th>2</th>\n",
              "      <td>2015</td>\n",
              "      <td>1</td>\n",
              "      <td>1</td>\n",
              "      <td>4</td>\n",
              "      <td>US</td>\n",
              "      <td>840</td>\n",
              "      <td>N171US</td>\n",
              "      <td>SFO</td>\n",
              "      <td>CLT</td>\n",
              "      <td>20</td>\n",
              "      <td>286.0</td>\n",
              "      <td>2296</td>\n",
              "      <td>806</td>\n",
              "      <td>0</td>\n",
              "    </tr>\n",
              "    <tr>\n",
              "      <th>3</th>\n",
              "      <td>2015</td>\n",
              "      <td>1</td>\n",
              "      <td>1</td>\n",
              "      <td>4</td>\n",
              "      <td>AA</td>\n",
              "      <td>258</td>\n",
              "      <td>N3HYAA</td>\n",
              "      <td>LAX</td>\n",
              "      <td>MIA</td>\n",
              "      <td>20</td>\n",
              "      <td>285.0</td>\n",
              "      <td>2342</td>\n",
              "      <td>805</td>\n",
              "      <td>0</td>\n",
              "    </tr>\n",
              "    <tr>\n",
              "      <th>4</th>\n",
              "      <td>2015</td>\n",
              "      <td>1</td>\n",
              "      <td>1</td>\n",
              "      <td>4</td>\n",
              "      <td>AS</td>\n",
              "      <td>135</td>\n",
              "      <td>N527AS</td>\n",
              "      <td>SEA</td>\n",
              "      <td>ANC</td>\n",
              "      <td>25</td>\n",
              "      <td>235.0</td>\n",
              "      <td>1448</td>\n",
              "      <td>320</td>\n",
              "      <td>0</td>\n",
              "    </tr>\n",
              "  </tbody>\n",
              "</table>\n",
              "</div>"
            ],
            "text/plain": [
              "   YEAR  MONTH  DAY  ...  DISTANCE SCHEDULED_ARRIVAL  CANCELLED\n",
              "0  2015      1    1  ...      1448               430          0\n",
              "1  2015      1    1  ...      2330               750          0\n",
              "2  2015      1    1  ...      2296               806          0\n",
              "3  2015      1    1  ...      2342               805          0\n",
              "4  2015      1    1  ...      1448               320          0\n",
              "\n",
              "[5 rows x 14 columns]"
            ]
          },
          "metadata": {
            "tags": []
          },
          "execution_count": 13
        }
      ]
    },
    {
      "cell_type": "markdown",
      "metadata": {
        "id": "pgqZolwu0pLw"
      },
      "source": [
        "## Step 3: Feature Engineering"
      ]
    },
    {
      "cell_type": "code",
      "metadata": {
        "colab": {
          "base_uri": "https://localhost:8080/"
        },
        "id": "ThZu1OXF0yAF",
        "outputId": "5204cf25-595e-427a-a0ab-68c9a44a22d3"
      },
      "source": [
        "# cHECK DATA DTYPES\r\n",
        "df_full.dtypes"
      ],
      "execution_count": 14,
      "outputs": [
        {
          "output_type": "execute_result",
          "data": {
            "text/plain": [
              "YEAR                     int64\n",
              "MONTH                    int64\n",
              "DAY                      int64\n",
              "DAY_OF_WEEK              int64\n",
              "AIRLINE                 object\n",
              "FLIGHT_NUMBER            int64\n",
              "TAIL_NUMBER             object\n",
              "ORIGIN_AIRPORT          object\n",
              "DESTINATION_AIRPORT     object\n",
              "SCHEDULED_DEPARTURE      int64\n",
              "SCHEDULED_TIME         float64\n",
              "DISTANCE                 int64\n",
              "SCHEDULED_ARRIVAL        int64\n",
              "CANCELLED                int64\n",
              "dtype: object"
            ]
          },
          "metadata": {
            "tags": []
          },
          "execution_count": 14
        }
      ]
    },
    {
      "cell_type": "code",
      "metadata": {
        "id": "YblaEOMm_Qu5",
        "colab": {
          "base_uri": "https://localhost:8080/"
        },
        "outputId": "0b193b8d-b9e5-49a8-a124-73d94edf8b97"
      },
      "source": [
        "# cHECK for missing values\r\n",
        "df_full.isnull().sum()"
      ],
      "execution_count": 15,
      "outputs": [
        {
          "output_type": "execute_result",
          "data": {
            "text/plain": [
              "YEAR                      0\n",
              "MONTH                     0\n",
              "DAY                       0\n",
              "DAY_OF_WEEK               0\n",
              "AIRLINE                   0\n",
              "FLIGHT_NUMBER             0\n",
              "TAIL_NUMBER            5981\n",
              "ORIGIN_AIRPORT            0\n",
              "DESTINATION_AIRPORT       0\n",
              "SCHEDULED_DEPARTURE       0\n",
              "SCHEDULED_TIME            2\n",
              "DISTANCE                  0\n",
              "SCHEDULED_ARRIVAL         0\n",
              "CANCELLED                 0\n",
              "dtype: int64"
            ]
          },
          "metadata": {
            "tags": []
          },
          "execution_count": 15
        }
      ]
    },
    {
      "cell_type": "code",
      "metadata": {
        "id": "ir-k87fz_jDS",
        "colab": {
          "base_uri": "https://localhost:8080/"
        },
        "outputId": "e1861de2-761f-46d1-f3e0-62c0536d5428"
      },
      "source": [
        "# Impute missing values in numerical column (SCHEDULED_TIME) with mean\r\n",
        "\r\n",
        "mean_scheduled_time = df_full.SCHEDULED_TIME.mean()\r\n",
        "mean_scheduled_time\r\n",
        "\r\n",
        "df_full['SCHEDULED_TIME'].replace(np.nan, mean_scheduled_time,inplace = True)\r\n",
        "\r\n",
        "df_full.isnull().sum()"
      ],
      "execution_count": 16,
      "outputs": [
        {
          "output_type": "execute_result",
          "data": {
            "text/plain": [
              "YEAR                      0\n",
              "MONTH                     0\n",
              "DAY                       0\n",
              "DAY_OF_WEEK               0\n",
              "AIRLINE                   0\n",
              "FLIGHT_NUMBER             0\n",
              "TAIL_NUMBER            5981\n",
              "ORIGIN_AIRPORT            0\n",
              "DESTINATION_AIRPORT       0\n",
              "SCHEDULED_DEPARTURE       0\n",
              "SCHEDULED_TIME            0\n",
              "DISTANCE                  0\n",
              "SCHEDULED_ARRIVAL         0\n",
              "CANCELLED                 0\n",
              "dtype: int64"
            ]
          },
          "metadata": {
            "tags": []
          },
          "execution_count": 16
        }
      ]
    },
    {
      "cell_type": "code",
      "metadata": {
        "id": "BfA1fv62BEZX",
        "colab": {
          "base_uri": "https://localhost:8080/"
        },
        "outputId": "6f4b07a1-3a8d-4286-f068-24b5a4a67244"
      },
      "source": [
        "# Drop entire categorical column Tail_Number \r\n",
        "#df_full[\"TAIL_NUMBER\"].mode().iloc[0]\r\n",
        "\r\n",
        "#df_full[\"TAIL_NUMBER\"].fillna(df_full[\"TAIL_NUMBER\"].mode().iloc[0], inplace = True)\r\n",
        "df_full.dropna(axis = 1, inplace= True)\r\n",
        "df_full.reset_index(drop= True)\r\n",
        "\r\n",
        "\r\n",
        "df_full.isnull().sum()"
      ],
      "execution_count": 17,
      "outputs": [
        {
          "output_type": "execute_result",
          "data": {
            "text/plain": [
              "YEAR                   0\n",
              "MONTH                  0\n",
              "DAY                    0\n",
              "DAY_OF_WEEK            0\n",
              "AIRLINE                0\n",
              "FLIGHT_NUMBER          0\n",
              "ORIGIN_AIRPORT         0\n",
              "DESTINATION_AIRPORT    0\n",
              "SCHEDULED_DEPARTURE    0\n",
              "SCHEDULED_TIME         0\n",
              "DISTANCE               0\n",
              "SCHEDULED_ARRIVAL      0\n",
              "CANCELLED              0\n",
              "dtype: int64"
            ]
          },
          "metadata": {
            "tags": []
          },
          "execution_count": 17
        }
      ]
    },
    {
      "cell_type": "code",
      "metadata": {
        "id": "7OXcmvGDC_pW",
        "colab": {
          "base_uri": "https://localhost:8080/"
        },
        "outputId": "70af9149-330e-4f38-fba0-90a7ce5295cb"
      },
      "source": [
        "# Examine modified dataframe\r\n",
        "df_full.shape"
      ],
      "execution_count": 18,
      "outputs": [
        {
          "output_type": "execute_result",
          "data": {
            "text/plain": [
              "(838858, 13)"
            ]
          },
          "metadata": {
            "tags": []
          },
          "execution_count": 18
        }
      ]
    },
    {
      "cell_type": "code",
      "metadata": {
        "id": "Ijof9zs6DZKI",
        "colab": {
          "base_uri": "https://localhost:8080/",
          "height": 215
        },
        "outputId": "61d3b417-276f-4f98-be87-d780f32e776f"
      },
      "source": [
        "df_full.head()"
      ],
      "execution_count": 19,
      "outputs": [
        {
          "output_type": "execute_result",
          "data": {
            "text/html": [
              "<div>\n",
              "<style scoped>\n",
              "    .dataframe tbody tr th:only-of-type {\n",
              "        vertical-align: middle;\n",
              "    }\n",
              "\n",
              "    .dataframe tbody tr th {\n",
              "        vertical-align: top;\n",
              "    }\n",
              "\n",
              "    .dataframe thead th {\n",
              "        text-align: right;\n",
              "    }\n",
              "</style>\n",
              "<table border=\"1\" class=\"dataframe\">\n",
              "  <thead>\n",
              "    <tr style=\"text-align: right;\">\n",
              "      <th></th>\n",
              "      <th>YEAR</th>\n",
              "      <th>MONTH</th>\n",
              "      <th>DAY</th>\n",
              "      <th>DAY_OF_WEEK</th>\n",
              "      <th>AIRLINE</th>\n",
              "      <th>FLIGHT_NUMBER</th>\n",
              "      <th>ORIGIN_AIRPORT</th>\n",
              "      <th>DESTINATION_AIRPORT</th>\n",
              "      <th>SCHEDULED_DEPARTURE</th>\n",
              "      <th>SCHEDULED_TIME</th>\n",
              "      <th>DISTANCE</th>\n",
              "      <th>SCHEDULED_ARRIVAL</th>\n",
              "      <th>CANCELLED</th>\n",
              "    </tr>\n",
              "  </thead>\n",
              "  <tbody>\n",
              "    <tr>\n",
              "      <th>0</th>\n",
              "      <td>2015</td>\n",
              "      <td>1</td>\n",
              "      <td>1</td>\n",
              "      <td>4</td>\n",
              "      <td>AS</td>\n",
              "      <td>98</td>\n",
              "      <td>ANC</td>\n",
              "      <td>SEA</td>\n",
              "      <td>5</td>\n",
              "      <td>205.0</td>\n",
              "      <td>1448</td>\n",
              "      <td>430</td>\n",
              "      <td>0</td>\n",
              "    </tr>\n",
              "    <tr>\n",
              "      <th>1</th>\n",
              "      <td>2015</td>\n",
              "      <td>1</td>\n",
              "      <td>1</td>\n",
              "      <td>4</td>\n",
              "      <td>AA</td>\n",
              "      <td>2336</td>\n",
              "      <td>LAX</td>\n",
              "      <td>PBI</td>\n",
              "      <td>10</td>\n",
              "      <td>280.0</td>\n",
              "      <td>2330</td>\n",
              "      <td>750</td>\n",
              "      <td>0</td>\n",
              "    </tr>\n",
              "    <tr>\n",
              "      <th>2</th>\n",
              "      <td>2015</td>\n",
              "      <td>1</td>\n",
              "      <td>1</td>\n",
              "      <td>4</td>\n",
              "      <td>US</td>\n",
              "      <td>840</td>\n",
              "      <td>SFO</td>\n",
              "      <td>CLT</td>\n",
              "      <td>20</td>\n",
              "      <td>286.0</td>\n",
              "      <td>2296</td>\n",
              "      <td>806</td>\n",
              "      <td>0</td>\n",
              "    </tr>\n",
              "    <tr>\n",
              "      <th>3</th>\n",
              "      <td>2015</td>\n",
              "      <td>1</td>\n",
              "      <td>1</td>\n",
              "      <td>4</td>\n",
              "      <td>AA</td>\n",
              "      <td>258</td>\n",
              "      <td>LAX</td>\n",
              "      <td>MIA</td>\n",
              "      <td>20</td>\n",
              "      <td>285.0</td>\n",
              "      <td>2342</td>\n",
              "      <td>805</td>\n",
              "      <td>0</td>\n",
              "    </tr>\n",
              "    <tr>\n",
              "      <th>4</th>\n",
              "      <td>2015</td>\n",
              "      <td>1</td>\n",
              "      <td>1</td>\n",
              "      <td>4</td>\n",
              "      <td>AS</td>\n",
              "      <td>135</td>\n",
              "      <td>SEA</td>\n",
              "      <td>ANC</td>\n",
              "      <td>25</td>\n",
              "      <td>235.0</td>\n",
              "      <td>1448</td>\n",
              "      <td>320</td>\n",
              "      <td>0</td>\n",
              "    </tr>\n",
              "  </tbody>\n",
              "</table>\n",
              "</div>"
            ],
            "text/plain": [
              "   YEAR  MONTH  DAY  ...  DISTANCE SCHEDULED_ARRIVAL  CANCELLED\n",
              "0  2015      1    1  ...      1448               430          0\n",
              "1  2015      1    1  ...      2330               750          0\n",
              "2  2015      1    1  ...      2296               806          0\n",
              "3  2015      1    1  ...      2342               805          0\n",
              "4  2015      1    1  ...      1448               320          0\n",
              "\n",
              "[5 rows x 13 columns]"
            ]
          },
          "metadata": {
            "tags": []
          },
          "execution_count": 19
        }
      ]
    },
    {
      "cell_type": "markdown",
      "metadata": {
        "id": "LG30cPmhEPPF"
      },
      "source": [
        "# Clean the test set"
      ]
    },
    {
      "cell_type": "code",
      "metadata": {
        "id": "EZo5_yvQEaLK",
        "colab": {
          "base_uri": "https://localhost:8080/"
        },
        "outputId": "bbb8bb63-8f04-4a64-96bf-5a2859908a2e"
      },
      "source": [
        "df_test.isnull().sum()"
      ],
      "execution_count": 20,
      "outputs": [
        {
          "output_type": "execute_result",
          "data": {
            "text/plain": [
              "YEAR                      0\n",
              "MONTH                     0\n",
              "DAY                       0\n",
              "DAY_OF_WEEK               0\n",
              "AIRLINE                   0\n",
              "FLIGHT_NUMBER             0\n",
              "TAIL_NUMBER            1769\n",
              "ORIGIN_AIRPORT            0\n",
              "DESTINATION_AIRPORT       0\n",
              "SCHEDULED_DEPARTURE       0\n",
              "SCHEDULED_TIME            0\n",
              "DISTANCE                  0\n",
              "SCHEDULED_ARRIVAL         0\n",
              "dtype: int64"
            ]
          },
          "metadata": {
            "tags": []
          },
          "execution_count": 20
        }
      ]
    },
    {
      "cell_type": "code",
      "metadata": {
        "id": "4jlaoiGdEN-H",
        "colab": {
          "base_uri": "https://localhost:8080/"
        },
        "outputId": "b0041624-837a-41da-b6cc-db865bd72fe9"
      },
      "source": [
        "# We again drop the entire column \"Tail_Number\" due to missing values in test dataframe\r\n",
        "df_test.dropna(axis = 1, inplace = True)\r\n",
        "\r\n",
        "df_test.isnull().sum()"
      ],
      "execution_count": 21,
      "outputs": [
        {
          "output_type": "execute_result",
          "data": {
            "text/plain": [
              "YEAR                   0\n",
              "MONTH                  0\n",
              "DAY                    0\n",
              "DAY_OF_WEEK            0\n",
              "AIRLINE                0\n",
              "FLIGHT_NUMBER          0\n",
              "ORIGIN_AIRPORT         0\n",
              "DESTINATION_AIRPORT    0\n",
              "SCHEDULED_DEPARTURE    0\n",
              "SCHEDULED_TIME         0\n",
              "DISTANCE               0\n",
              "SCHEDULED_ARRIVAL      0\n",
              "dtype: int64"
            ]
          },
          "metadata": {
            "tags": []
          },
          "execution_count": 21
        }
      ]
    },
    {
      "cell_type": "code",
      "metadata": {
        "id": "aFjq3FsmDlUB"
      },
      "source": [
        "# Save new dataframes as csv file\r\n",
        "df_full.to_csv('Clean_train.csv')\r\n",
        "df_test.to_csv('Clean_test.csv')"
      ],
      "execution_count": 22,
      "outputs": []
    }
  ]
}