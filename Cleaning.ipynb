{
  "nbformat": 4,
  "nbformat_minor": 0,
  "metadata": {
    "colab": {
      "name": "Main_DataCleaning.ipynb",
      "provenance": [],
      "collapsed_sections": [
        "_XiUtgWGIOL4"
      ],
      "toc_visible": true,
      "include_colab_link": true
    },
    "kernelspec": {
      "name": "python3",
      "display_name": "Python 3"
    }
  },
  "cells": [
    {
      "cell_type": "markdown",
      "metadata": {
        "id": "view-in-github",
        "colab_type": "text"
      },
      "source": [
        "<a href=\"https://colab.research.google.com/github/obeabi/Flight_Cancellation/blob/main/Cleaning.ipynb\" target=\"_parent\"><img src=\"https://colab.research.google.com/assets/colab-badge.svg\" alt=\"Open In Colab\"/></a>"
      ]
    },
    {
      "cell_type": "markdown",
      "metadata": {
        "id": "gW-CD9qPUXiR"
      },
      "source": [
        "# Written by Abiola Obembe\n",
        "# SDS Challenge #1 - Flight Cancellations\n",
        "## 2020-10-30\n",
        "\n"
      ]
    },
    {
      "cell_type": "markdown",
      "metadata": {
        "id": "BaT4o-v0Up4V"
      },
      "source": [
        "## Problem Statement\n",
        "I have been hired by the US Department of Transportation (DOT) to analyze data from multiple airline carriers in the United States. The DOT wants to help airline carriers reduce the number of flight cancellations and improve travelers' experiences. My job is to help the DOT predict whether or not a flight will be canceled based on the data provided."
      ]
    },
    {
      "cell_type": "markdown",
      "metadata": {
        "id": "Nvyy8tV7VEZ5"
      },
      "source": [
        "### Step 1: Data Preprocessing Tools"
      ]
    },
    {
      "cell_type": "code",
      "metadata": {
        "id": "UsUbaYb6VCZ_",
        "colab": {
          "base_uri": "https://localhost:8080/"
        },
        "outputId": "00689269-581e-45df-b2ee-daa50e489ab5"
      },
      "source": [
        "\n",
        "# Importing the libraries\n",
        "import numpy as np\n",
        "import matplotlib.pyplot as plt\n",
        "import pandas as pd\n",
        "import seaborn as sns\n",
        "!pip install imbalanced-learn\n",
        "!pip install category_encoders\n",
        "import category_encoders as ce\n",
        "\n",
        "%matplotlib inline\n",
        "plt.rcParams['figure.figsize'] = (5.0, 4.0) # set default size of plots\n",
        "plt.rcParams['image.interpolation'] = 'nearest'\n",
        "plt.rcParams['image.cmap'] = 'gray'\n",
        "\n",
        "print('Libraries installed successfully!')\n",
        "\n",
        "np.random.seed(0)"
      ],
      "execution_count": 1,
      "outputs": [
        {
          "output_type": "stream",
          "text": [
            "Requirement already satisfied: imbalanced-learn in /usr/local/lib/python3.6/dist-packages (0.4.3)\n",
            "Requirement already satisfied: numpy>=1.8.2 in /usr/local/lib/python3.6/dist-packages (from imbalanced-learn) (1.19.4)\n",
            "Requirement already satisfied: scikit-learn>=0.20 in /usr/local/lib/python3.6/dist-packages (from imbalanced-learn) (0.22.2.post1)\n",
            "Requirement already satisfied: scipy>=0.13.3 in /usr/local/lib/python3.6/dist-packages (from imbalanced-learn) (1.4.1)\n",
            "Requirement already satisfied: joblib>=0.11 in /usr/local/lib/python3.6/dist-packages (from scikit-learn>=0.20->imbalanced-learn) (1.0.0)\n",
            "Collecting category_encoders\n",
            "\u001b[?25l  Downloading https://files.pythonhosted.org/packages/44/57/fcef41c248701ee62e8325026b90c432adea35555cbc870aff9cfba23727/category_encoders-2.2.2-py2.py3-none-any.whl (80kB)\n",
            "\u001b[K     |████████████████████████████████| 81kB 3.3MB/s \n",
            "\u001b[?25hRequirement already satisfied: patsy>=0.5.1 in /usr/local/lib/python3.6/dist-packages (from category_encoders) (0.5.1)\n",
            "Requirement already satisfied: scikit-learn>=0.20.0 in /usr/local/lib/python3.6/dist-packages (from category_encoders) (0.22.2.post1)\n",
            "Requirement already satisfied: scipy>=1.0.0 in /usr/local/lib/python3.6/dist-packages (from category_encoders) (1.4.1)\n",
            "Requirement already satisfied: numpy>=1.14.0 in /usr/local/lib/python3.6/dist-packages (from category_encoders) (1.19.4)\n",
            "Requirement already satisfied: pandas>=0.21.1 in /usr/local/lib/python3.6/dist-packages (from category_encoders) (1.1.5)\n",
            "Requirement already satisfied: statsmodels>=0.9.0 in /usr/local/lib/python3.6/dist-packages (from category_encoders) (0.10.2)\n",
            "Requirement already satisfied: six in /usr/local/lib/python3.6/dist-packages (from patsy>=0.5.1->category_encoders) (1.15.0)\n",
            "Requirement already satisfied: joblib>=0.11 in /usr/local/lib/python3.6/dist-packages (from scikit-learn>=0.20.0->category_encoders) (1.0.0)\n",
            "Requirement already satisfied: python-dateutil>=2.7.3 in /usr/local/lib/python3.6/dist-packages (from pandas>=0.21.1->category_encoders) (2.8.1)\n",
            "Requirement already satisfied: pytz>=2017.2 in /usr/local/lib/python3.6/dist-packages (from pandas>=0.21.1->category_encoders) (2018.9)\n",
            "Installing collected packages: category-encoders\n",
            "Successfully installed category-encoders-2.2.2\n"
          ],
          "name": "stdout"
        },
        {
          "output_type": "stream",
          "text": [
            "/usr/local/lib/python3.6/dist-packages/statsmodels/tools/_testing.py:19: FutureWarning: pandas.util.testing is deprecated. Use the functions in the public API at pandas.testing instead.\n",
            "  import pandas.util.testing as tm\n"
          ],
          "name": "stderr"
        },
        {
          "output_type": "stream",
          "text": [
            "Libraries installed successfully!\n"
          ],
          "name": "stdout"
        }
      ]
    },
    {
      "cell_type": "code",
      "metadata": {
        "id": "IAN_VFooV8lb",
        "colab": {
          "base_uri": "https://localhost:8080/",
          "height": 215
        },
        "outputId": "631b8843-9996-4c9d-f4cb-f3cbc73a2fd5"
      },
      "source": [
        "# Importing the dataset and check the shape and total number of missing values\n",
        "\n",
        "df_train = pd.read_csv('public_flights.csv', engine= 'python', encoding= 'latin1')\n",
        "\n",
        "df_train.head()\n",
        "\n"
      ],
      "execution_count": 3,
      "outputs": [
        {
          "output_type": "execute_result",
          "data": {
            "text/html": [
              "<div>\n",
              "<style scoped>\n",
              "    .dataframe tbody tr th:only-of-type {\n",
              "        vertical-align: middle;\n",
              "    }\n",
              "\n",
              "    .dataframe tbody tr th {\n",
              "        vertical-align: top;\n",
              "    }\n",
              "\n",
              "    .dataframe thead th {\n",
              "        text-align: right;\n",
              "    }\n",
              "</style>\n",
              "<table border=\"1\" class=\"dataframe\">\n",
              "  <thead>\n",
              "    <tr style=\"text-align: right;\">\n",
              "      <th></th>\n",
              "      <th>YEAR</th>\n",
              "      <th>MONTH</th>\n",
              "      <th>DAY</th>\n",
              "      <th>DAY_OF_WEEK</th>\n",
              "      <th>AIRLINE</th>\n",
              "      <th>FLIGHT_NUMBER</th>\n",
              "      <th>TAIL_NUMBER</th>\n",
              "      <th>ORIGIN_AIRPORT</th>\n",
              "      <th>DESTINATION_AIRPORT</th>\n",
              "      <th>SCHEDULED_DEPARTURE</th>\n",
              "      <th>SCHEDULED_TIME</th>\n",
              "      <th>DISTANCE</th>\n",
              "      <th>SCHEDULED_ARRIVAL</th>\n",
              "      <th>CANCELLED</th>\n",
              "    </tr>\n",
              "  </thead>\n",
              "  <tbody>\n",
              "    <tr>\n",
              "      <th>0</th>\n",
              "      <td>2015</td>\n",
              "      <td>1</td>\n",
              "      <td>1</td>\n",
              "      <td>4</td>\n",
              "      <td>AS</td>\n",
              "      <td>98</td>\n",
              "      <td>N407AS</td>\n",
              "      <td>ANC</td>\n",
              "      <td>SEA</td>\n",
              "      <td>5</td>\n",
              "      <td>205.0</td>\n",
              "      <td>1448</td>\n",
              "      <td>430</td>\n",
              "      <td>0</td>\n",
              "    </tr>\n",
              "    <tr>\n",
              "      <th>1</th>\n",
              "      <td>2015</td>\n",
              "      <td>1</td>\n",
              "      <td>1</td>\n",
              "      <td>4</td>\n",
              "      <td>AA</td>\n",
              "      <td>2336</td>\n",
              "      <td>N3KUAA</td>\n",
              "      <td>LAX</td>\n",
              "      <td>PBI</td>\n",
              "      <td>10</td>\n",
              "      <td>280.0</td>\n",
              "      <td>2330</td>\n",
              "      <td>750</td>\n",
              "      <td>0</td>\n",
              "    </tr>\n",
              "    <tr>\n",
              "      <th>2</th>\n",
              "      <td>2015</td>\n",
              "      <td>1</td>\n",
              "      <td>1</td>\n",
              "      <td>4</td>\n",
              "      <td>US</td>\n",
              "      <td>840</td>\n",
              "      <td>N171US</td>\n",
              "      <td>SFO</td>\n",
              "      <td>CLT</td>\n",
              "      <td>20</td>\n",
              "      <td>286.0</td>\n",
              "      <td>2296</td>\n",
              "      <td>806</td>\n",
              "      <td>0</td>\n",
              "    </tr>\n",
              "    <tr>\n",
              "      <th>3</th>\n",
              "      <td>2015</td>\n",
              "      <td>1</td>\n",
              "      <td>1</td>\n",
              "      <td>4</td>\n",
              "      <td>AA</td>\n",
              "      <td>258</td>\n",
              "      <td>N3HYAA</td>\n",
              "      <td>LAX</td>\n",
              "      <td>MIA</td>\n",
              "      <td>20</td>\n",
              "      <td>285.0</td>\n",
              "      <td>2342</td>\n",
              "      <td>805</td>\n",
              "      <td>0</td>\n",
              "    </tr>\n",
              "    <tr>\n",
              "      <th>4</th>\n",
              "      <td>2015</td>\n",
              "      <td>1</td>\n",
              "      <td>1</td>\n",
              "      <td>4</td>\n",
              "      <td>AS</td>\n",
              "      <td>135</td>\n",
              "      <td>N527AS</td>\n",
              "      <td>SEA</td>\n",
              "      <td>ANC</td>\n",
              "      <td>25</td>\n",
              "      <td>235.0</td>\n",
              "      <td>1448</td>\n",
              "      <td>320</td>\n",
              "      <td>0</td>\n",
              "    </tr>\n",
              "  </tbody>\n",
              "</table>\n",
              "</div>"
            ],
            "text/plain": [
              "   YEAR  MONTH  DAY  ...  DISTANCE SCHEDULED_ARRIVAL  CANCELLED\n",
              "0  2015      1    1  ...      1448               430          0\n",
              "1  2015      1    1  ...      2330               750          0\n",
              "2  2015      1    1  ...      2296               806          0\n",
              "3  2015      1    1  ...      2342               805          0\n",
              "4  2015      1    1  ...      1448               320          0\n",
              "\n",
              "[5 rows x 14 columns]"
            ]
          },
          "metadata": {
            "tags": []
          },
          "execution_count": 3
        }
      ]
    },
    {
      "cell_type": "code",
      "metadata": {
        "id": "B11R3A23b8os",
        "colab": {
          "base_uri": "https://localhost:8080/"
        },
        "outputId": "d77459e4-8859-4966-b8e5-1b20a2184c4f"
      },
      "source": [
        "# print target column name as a list\n",
        "target_column = [df_train.columns[-1]]\n",
        "\n",
        "print(target_column)"
      ],
      "execution_count": 4,
      "outputs": [
        {
          "output_type": "stream",
          "text": [
            "['CANCELLED']\n"
          ],
          "name": "stdout"
        }
      ]
    },
    {
      "cell_type": "code",
      "metadata": {
        "id": "fW8EYUGAoUyz",
        "colab": {
          "base_uri": "https://localhost:8080/"
        },
        "outputId": "827b247d-84b2-4076-b77a-622ffdd92664"
      },
      "source": [
        "# Examine target column for unbalanced data\n",
        "df_train[target_column].value_counts()"
      ],
      "execution_count": 5,
      "outputs": [
        {
          "output_type": "execute_result",
          "data": {
            "text/plain": [
              "CANCELLED\n",
              "0            810176\n",
              "1             28682\n",
              "dtype: int64"
            ]
          },
          "metadata": {
            "tags": []
          },
          "execution_count": 5
        }
      ]
    },
    {
      "cell_type": "code",
      "metadata": {
        "id": "h8P_OQlmKFLx",
        "colab": {
          "base_uri": "https://localhost:8080/",
          "height": 295
        },
        "outputId": "7d1315a0-411a-4363-fc48-104e8b54a789"
      },
      "source": [
        "# Let's visualize the distribution of data\n",
        "count_classes = pd.value_counts(df_train['CANCELLED'], sort = True)\n",
        "count_classes.plot(kind = 'bar', rot = 0)\n",
        "plt.title(\"Cancelled Flights Distribution\")\n",
        "plt.xticks(range(2))\n",
        "plt.xlabel(\"CANCELLED\")\n",
        "plt.ylabel('Frequency')\n",
        "plt.show()"
      ],
      "execution_count": 6,
      "outputs": [
        {
          "output_type": "display_data",
          "data": {
            "image/png": "[encoded data removed]",
            "text/plain": [
              "<Figure size 432x288 with 1 Axes>"
            ]
          },
          "metadata": {
            "tags": [],
            "needs_background": "light"
          }
        }
      ]
    },
    {
      "cell_type": "code",
      "metadata": {
        "id": "NfjbSepuMJ0Q",
        "colab": {
          "base_uri": "https://localhost:8080/"
        },
        "outputId": "14b7c5e1-198c-4d3f-dbcc-d0d588f3d692"
      },
      "source": [
        "# gET THE CANCELLED AND NOT CANCEELED FLIFGTS\n",
        "Cancelled = df_train[df_train['CANCELLED']== 1]\n",
        "notCancelled = df_train[df_train['CANCELLED']== 0]\n",
        "\n",
        "print(Cancelled.shape, notCancelled.shape)"
      ],
      "execution_count": 7,
      "outputs": [
        {
          "output_type": "stream",
          "text": [
            "(28682, 14) (810176, 14)\n"
          ],
          "name": "stdout"
        }
      ]
    },
    {
      "cell_type": "code",
      "metadata": {
        "id": "Qy0G7oUKh0wV",
        "colab": {
          "base_uri": "https://localhost:8080/"
        },
        "outputId": "5329b90b-1f4f-4648-f827-a7adc8c6289c"
      },
      "source": [
        "# Importing the train-set nd check the shape and total number of missing values\n",
        "\n",
        "print(\"The shape of the train-set is:\", (df_train.shape))\n",
        "print(\"The number of rows in the train-set is:\", str(df_train.shape[0]))\n",
        "print(\"The number of columns in the train-set is:\", str(df_train.shape[1]))\n",
        "\n",
        "missing_valuestrain = df_train.isnull().sum().sum()\n",
        "percentMissing = (missing_valuestrain/np.product((df_train.shape)))*100\n",
        "print(\"The number of missing values in the train-set is:\", str(missing_valuestrain))\n",
        "print(\"The percentage of missing values in the train-set is:\", str(percentMissing))"
      ],
      "execution_count": 8,
      "outputs": [
        {
          "output_type": "stream",
          "text": [
            "The shape of the train-set is: (838858, 14)\n",
            "The number of rows in the train-set is: 838858\n",
            "The number of columns in the train-set is: 14\n",
            "The number of missing values in the train-set is: 5983\n",
            "The percentage of missing values in the train-set is: 0.05094511143210685\n"
          ],
          "name": "stdout"
        }
      ]
    },
    {
      "cell_type": "code",
      "metadata": {
        "id": "xCbWRNp_n7RS",
        "colab": {
          "base_uri": "https://localhost:8080/",
          "height": 195
        },
        "outputId": "8f5e67cb-e3cc-4c46-e84c-ae8c320f5265"
      },
      "source": [
        "# create dataframe for test test\n",
        "df_test = pd.read_csv('pred_flights.csv')\n",
        "df_test.head()"
      ],
      "execution_count": 9,
      "outputs": [
        {
          "output_type": "execute_result",
          "data": {
            "text/html": [
              "<div>\n",
              "<style scoped>\n",
              "    .dataframe tbody tr th:only-of-type {\n",
              "        vertical-align: middle;\n",
              "    }\n",
              "\n",
              "    .dataframe tbody tr th {\n",
              "        vertical-align: top;\n",
              "    }\n",
              "\n",
              "    .dataframe thead th {\n",
              "        text-align: right;\n",
              "    }\n",
              "</style>\n",
              "<table border=\"1\" class=\"dataframe\">\n",
              "  <thead>\n",
              "    <tr style=\"text-align: right;\">\n",
              "      <th></th>\n",
              "      <th>2015</th>\n",
              "      <th>2</th>\n",
              "      <th>25</th>\n",
              "      <th>3</th>\n",
              "      <th>WN</th>\n",
              "      <th>1046</th>\n",
              "      <th>N731SA</th>\n",
              "      <th>LAS</th>\n",
              "      <th>PHX</th>\n",
              "      <th>700</th>\n",
              "      <th>65</th>\n",
              "      <th>255</th>\n",
              "      <th>905</th>\n",
              "    </tr>\n",
              "  </thead>\n",
              "  <tbody>\n",
              "    <tr>\n",
              "      <th>0</th>\n",
              "      <td>2015</td>\n",
              "      <td>2</td>\n",
              "      <td>25</td>\n",
              "      <td>3</td>\n",
              "      <td>WN</td>\n",
              "      <td>2251</td>\n",
              "      <td>N279WN</td>\n",
              "      <td>LAS</td>\n",
              "      <td>RNO</td>\n",
              "      <td>700</td>\n",
              "      <td>80</td>\n",
              "      <td>345</td>\n",
              "      <td>820</td>\n",
              "    </tr>\n",
              "    <tr>\n",
              "      <th>1</th>\n",
              "      <td>2015</td>\n",
              "      <td>2</td>\n",
              "      <td>25</td>\n",
              "      <td>3</td>\n",
              "      <td>WN</td>\n",
              "      <td>857</td>\n",
              "      <td>N277WN</td>\n",
              "      <td>LAS</td>\n",
              "      <td>SMF</td>\n",
              "      <td>700</td>\n",
              "      <td>90</td>\n",
              "      <td>397</td>\n",
              "      <td>830</td>\n",
              "    </tr>\n",
              "    <tr>\n",
              "      <th>2</th>\n",
              "      <td>2015</td>\n",
              "      <td>2</td>\n",
              "      <td>25</td>\n",
              "      <td>3</td>\n",
              "      <td>WN</td>\n",
              "      <td>2864</td>\n",
              "      <td>N8632A</td>\n",
              "      <td>LAX</td>\n",
              "      <td>BWI</td>\n",
              "      <td>700</td>\n",
              "      <td>295</td>\n",
              "      <td>2329</td>\n",
              "      <td>1455</td>\n",
              "    </tr>\n",
              "    <tr>\n",
              "      <th>3</th>\n",
              "      <td>2015</td>\n",
              "      <td>2</td>\n",
              "      <td>25</td>\n",
              "      <td>3</td>\n",
              "      <td>WN</td>\n",
              "      <td>3220</td>\n",
              "      <td>N8659D</td>\n",
              "      <td>LAX</td>\n",
              "      <td>PHX</td>\n",
              "      <td>700</td>\n",
              "      <td>80</td>\n",
              "      <td>370</td>\n",
              "      <td>920</td>\n",
              "    </tr>\n",
              "    <tr>\n",
              "      <th>4</th>\n",
              "      <td>2015</td>\n",
              "      <td>2</td>\n",
              "      <td>25</td>\n",
              "      <td>3</td>\n",
              "      <td>WN</td>\n",
              "      <td>2954</td>\n",
              "      <td>N789SW</td>\n",
              "      <td>LGA</td>\n",
              "      <td>HOU</td>\n",
              "      <td>700</td>\n",
              "      <td>265</td>\n",
              "      <td>1428</td>\n",
              "      <td>1025</td>\n",
              "    </tr>\n",
              "  </tbody>\n",
              "</table>\n",
              "</div>"
            ],
            "text/plain": [
              "   2015  2  25  3  WN  1046  N731SA  LAS  PHX  700   65   255   905\n",
              "0  2015  2  25  3  WN  2251  N279WN  LAS  RNO  700   80   345   820\n",
              "1  2015  2  25  3  WN   857  N277WN  LAS  SMF  700   90   397   830\n",
              "2  2015  2  25  3  WN  2864  N8632A  LAX  BWI  700  295  2329  1455\n",
              "3  2015  2  25  3  WN  3220  N8659D  LAX  PHX  700   80   370   920\n",
              "4  2015  2  25  3  WN  2954  N789SW  LGA  HOU  700  265  1428  1025"
            ]
          },
          "metadata": {
            "tags": []
          },
          "execution_count": 9
        }
      ]
    },
    {
      "cell_type": "code",
      "metadata": {
        "id": "IYQNQY7on7s3",
        "colab": {
          "base_uri": "https://localhost:8080/",
          "height": 215
        },
        "outputId": "b7f5e48d-da8a-4ad3-905f-07baabdc23ec"
      },
      "source": [
        "# test set dataframe is missing headers information so we will re-initailize it, deleting the target column label\n",
        "labels = df_train.columns\n",
        "\n",
        "new_label= labels[:-1]  # select all column labels except the target column\n",
        "\n",
        "#new_label\n",
        "df_test = pd.read_csv('pred_flights.csv', header =None, names = new_label)\n",
        "\n",
        "df_test.head()"
      ],
      "execution_count": 10,
      "outputs": [
        {
          "output_type": "execute_result",
          "data": {
            "text/html": [
              "<div>\n",
              "<style scoped>\n",
              "    .dataframe tbody tr th:only-of-type {\n",
              "        vertical-align: middle;\n",
              "    }\n",
              "\n",
              "    .dataframe tbody tr th {\n",
              "        vertical-align: top;\n",
              "    }\n",
              "\n",
              "    .dataframe thead th {\n",
              "        text-align: right;\n",
              "    }\n",
              "</style>\n",
              "<table border=\"1\" class=\"dataframe\">\n",
              "  <thead>\n",
              "    <tr style=\"text-align: right;\">\n",
              "      <th></th>\n",
              "      <th>YEAR</th>\n",
              "      <th>MONTH</th>\n",
              "      <th>DAY</th>\n",
              "      <th>DAY_OF_WEEK</th>\n",
              "      <th>AIRLINE</th>\n",
              "      <th>FLIGHT_NUMBER</th>\n",
              "      <th>TAIL_NUMBER</th>\n",
              "      <th>ORIGIN_AIRPORT</th>\n",
              "      <th>DESTINATION_AIRPORT</th>\n",
              "      <th>SCHEDULED_DEPARTURE</th>\n",
              "      <th>SCHEDULED_TIME</th>\n",
              "      <th>DISTANCE</th>\n",
              "      <th>SCHEDULED_ARRIVAL</th>\n",
              "    </tr>\n",
              "  </thead>\n",
              "  <tbody>\n",
              "    <tr>\n",
              "      <th>0</th>\n",
              "      <td>2015</td>\n",
              "      <td>2</td>\n",
              "      <td>25</td>\n",
              "      <td>3</td>\n",
              "      <td>WN</td>\n",
              "      <td>1046</td>\n",
              "      <td>N731SA</td>\n",
              "      <td>LAS</td>\n",
              "      <td>PHX</td>\n",
              "      <td>700</td>\n",
              "      <td>65</td>\n",
              "      <td>255</td>\n",
              "      <td>905</td>\n",
              "    </tr>\n",
              "    <tr>\n",
              "      <th>1</th>\n",
              "      <td>2015</td>\n",
              "      <td>2</td>\n",
              "      <td>25</td>\n",
              "      <td>3</td>\n",
              "      <td>WN</td>\n",
              "      <td>2251</td>\n",
              "      <td>N279WN</td>\n",
              "      <td>LAS</td>\n",
              "      <td>RNO</td>\n",
              "      <td>700</td>\n",
              "      <td>80</td>\n",
              "      <td>345</td>\n",
              "      <td>820</td>\n",
              "    </tr>\n",
              "    <tr>\n",
              "      <th>2</th>\n",
              "      <td>2015</td>\n",
              "      <td>2</td>\n",
              "      <td>25</td>\n",
              "      <td>3</td>\n",
              "      <td>WN</td>\n",
              "      <td>857</td>\n",
              "      <td>N277WN</td>\n",
              "      <td>LAS</td>\n",
              "      <td>SMF</td>\n",
              "      <td>700</td>\n",
              "      <td>90</td>\n",
              "      <td>397</td>\n",
              "      <td>830</td>\n",
              "    </tr>\n",
              "    <tr>\n",
              "      <th>3</th>\n",
              "      <td>2015</td>\n",
              "      <td>2</td>\n",
              "      <td>25</td>\n",
              "      <td>3</td>\n",
              "      <td>WN</td>\n",
              "      <td>2864</td>\n",
              "      <td>N8632A</td>\n",
              "      <td>LAX</td>\n",
              "      <td>BWI</td>\n",
              "      <td>700</td>\n",
              "      <td>295</td>\n",
              "      <td>2329</td>\n",
              "      <td>1455</td>\n",
              "    </tr>\n",
              "    <tr>\n",
              "      <th>4</th>\n",
              "      <td>2015</td>\n",
              "      <td>2</td>\n",
              "      <td>25</td>\n",
              "      <td>3</td>\n",
              "      <td>WN</td>\n",
              "      <td>3220</td>\n",
              "      <td>N8659D</td>\n",
              "      <td>LAX</td>\n",
              "      <td>PHX</td>\n",
              "      <td>700</td>\n",
              "      <td>80</td>\n",
              "      <td>370</td>\n",
              "      <td>920</td>\n",
              "    </tr>\n",
              "  </tbody>\n",
              "</table>\n",
              "</div>"
            ],
            "text/plain": [
              "   YEAR  MONTH  DAY  ...  SCHEDULED_TIME DISTANCE  SCHEDULED_ARRIVAL\n",
              "0  2015      2   25  ...              65      255                905\n",
              "1  2015      2   25  ...              80      345                820\n",
              "2  2015      2   25  ...              90      397                830\n",
              "3  2015      2   25  ...             295     2329               1455\n",
              "4  2015      2   25  ...              80      370                920\n",
              "\n",
              "[5 rows x 13 columns]"
            ]
          },
          "metadata": {
            "tags": []
          },
          "execution_count": 10
        }
      ]
    },
    {
      "cell_type": "code",
      "metadata": {
        "id": "3dGjL3dCoEq0",
        "colab": {
          "base_uri": "https://localhost:8080/"
        },
        "outputId": "add8d31e-0ddf-4d30-a5f4-b54e0f456cb5"
      },
      "source": [
        "# Importing the test-set and check the shape and total number of missing values\n",
        "\n",
        "print(\"The shape of the test-set is:\", (df_test.shape))\n",
        "print(\"The number of rows in the test-set is:\", str(df_test.shape[0]))\n",
        "print(\"The number of columns in the test-set is:\", str(df_test.shape[1]))\n",
        "\n",
        "\n",
        "missing_valuestest = df_test.isnull().sum().sum()\n",
        "percentMissing = (missing_valuestest/np.product((df_test.shape)))*100\n",
        "print(\"The number of missing values in the test-set is:\", str(missing_valuestest))\n",
        "print(\"The percentage of missing values in the test-set is:\", str(percentMissing))"
      ],
      "execution_count": 11,
      "outputs": [
        {
          "output_type": "stream",
          "text": [
            "The shape of the test-set is: (209717, 13)\n",
            "The number of rows in the test-set is: 209717\n",
            "The number of columns in the test-set is: 13\n",
            "The number of missing values in the test-set is: 1769\n",
            "The percentage of missing values in the test-set is: 0.06488597637622275\n"
          ],
          "name": "stdout"
        }
      ]
    },
    {
      "cell_type": "markdown",
      "metadata": {
        "id": "freCBOMxfXWO"
      },
      "source": [
        "#### The percentage of missing values in the training-set and test-set is less than 1%. Hence one easy altenative may be to drop na values and this is the method chosen here in."
      ]
    },
    {
      "cell_type": "markdown",
      "metadata": {
        "id": "qDQCCXw1oIWW"
      },
      "source": [
        "### Step 2: Feature Engineering (Training and Test Set )"
      ]
    },
    {
      "cell_type": "code",
      "metadata": {
        "id": "7EuLlcgtk9IV",
        "colab": {
          "base_uri": "https://localhost:8080/"
        },
        "outputId": "dd7afdea-0a05-4cdc-a5c3-6b9ebb2bfc21"
      },
      "source": [
        "# Examine the data types for train dataframe\n",
        "df_train.dtypes"
      ],
      "execution_count": 12,
      "outputs": [
        {
          "output_type": "execute_result",
          "data": {
            "text/plain": [
              "YEAR                     int64\n",
              "MONTH                    int64\n",
              "DAY                      int64\n",
              "DAY_OF_WEEK              int64\n",
              "AIRLINE                 object\n",
              "FLIGHT_NUMBER            int64\n",
              "TAIL_NUMBER             object\n",
              "ORIGIN_AIRPORT          object\n",
              "DESTINATION_AIRPORT     object\n",
              "SCHEDULED_DEPARTURE      int64\n",
              "SCHEDULED_TIME         float64\n",
              "DISTANCE                 int64\n",
              "SCHEDULED_ARRIVAL        int64\n",
              "CANCELLED                int64\n",
              "dtype: object"
            ]
          },
          "metadata": {
            "tags": []
          },
          "execution_count": 12
        }
      ]
    },
    {
      "cell_type": "code",
      "metadata": {
        "id": "veARPOxffHyz",
        "colab": {
          "base_uri": "https://localhost:8080/"
        },
        "outputId": "a27acd35-8f7b-433d-8cd2-52d33bb3601b"
      },
      "source": [
        "# Check for training set data frame info\n",
        "df_train.info()"
      ],
      "execution_count": 13,
      "outputs": [
        {
          "output_type": "stream",
          "text": [
            "<class 'pandas.core.frame.DataFrame'>\n",
            "RangeIndex: 838858 entries, 0 to 838857\n",
            "Data columns (total 14 columns):\n",
            " #   Column               Non-Null Count   Dtype  \n",
            "---  ------               --------------   -----  \n",
            " 0   YEAR                 838858 non-null  int64  \n",
            " 1   MONTH                838858 non-null  int64  \n",
            " 2   DAY                  838858 non-null  int64  \n",
            " 3   DAY_OF_WEEK          838858 non-null  int64  \n",
            " 4   AIRLINE              838858 non-null  object \n",
            " 5   FLIGHT_NUMBER        838858 non-null  int64  \n",
            " 6   TAIL_NUMBER          832877 non-null  object \n",
            " 7   ORIGIN_AIRPORT       838858 non-null  object \n",
            " 8   DESTINATION_AIRPORT  838858 non-null  object \n",
            " 9   SCHEDULED_DEPARTURE  838858 non-null  int64  \n",
            " 10  SCHEDULED_TIME       838856 non-null  float64\n",
            " 11  DISTANCE             838858 non-null  int64  \n",
            " 12  SCHEDULED_ARRIVAL    838858 non-null  int64  \n",
            " 13  CANCELLED            838858 non-null  int64  \n",
            "dtypes: float64(1), int64(9), object(4)\n",
            "memory usage: 89.6+ MB\n"
          ],
          "name": "stdout"
        }
      ]
    },
    {
      "cell_type": "code",
      "metadata": {
        "id": "iiFcG975h-XS",
        "colab": {
          "base_uri": "https://localhost:8080/"
        },
        "outputId": "fe8861d6-1928-4a18-a16f-e22b87ba0359"
      },
      "source": [
        "# Dealing with missing values in the train-set\n",
        "\n",
        "df_train.isnull().sum()"
      ],
      "execution_count": 14,
      "outputs": [
        {
          "output_type": "execute_result",
          "data": {
            "text/plain": [
              "YEAR                      0\n",
              "MONTH                     0\n",
              "DAY                       0\n",
              "DAY_OF_WEEK               0\n",
              "AIRLINE                   0\n",
              "FLIGHT_NUMBER             0\n",
              "TAIL_NUMBER            5981\n",
              "ORIGIN_AIRPORT            0\n",
              "DESTINATION_AIRPORT       0\n",
              "SCHEDULED_DEPARTURE       0\n",
              "SCHEDULED_TIME            2\n",
              "DISTANCE                  0\n",
              "SCHEDULED_ARRIVAL         0\n",
              "CANCELLED                 0\n",
              "dtype: int64"
            ]
          },
          "metadata": {
            "tags": []
          },
          "execution_count": 14
        }
      ]
    },
    {
      "cell_type": "markdown",
      "metadata": {
        "id": "v47C0PRloUg1"
      },
      "source": [
        "#### (A) Dealing with Missing Values"
      ]
    },
    {
      "cell_type": "code",
      "metadata": {
        "id": "FbLaCRECJivv",
        "colab": {
          "base_uri": "https://localhost:8080/",
          "height": 215
        },
        "outputId": "a97b3c2c-93fb-4663-ad19-5559f712de68"
      },
      "source": [
        "# Remove rows with missing target, separate target from predictors\n",
        "X_full = df_train.copy()\n",
        "X_full.dropna(axis=0, subset=['CANCELLED'], inplace=True)\n",
        "y = X_full.CANCELLED\n",
        "X_full.drop(['CANCELLED'], axis=1, inplace=True)\n",
        "\n",
        "# Show X_full dataframe representing predictors only\n",
        "X_full.head()"
      ],
      "execution_count": 15,
      "outputs": [
        {
          "output_type": "execute_result",
          "data": {
            "text/html": [
              "<div>\n",
              "<style scoped>\n",
              "    .dataframe tbody tr th:only-of-type {\n",
              "        vertical-align: middle;\n",
              "    }\n",
              "\n",
              "    .dataframe tbody tr th {\n",
              "        vertical-align: top;\n",
              "    }\n",
              "\n",
              "    .dataframe thead th {\n",
              "        text-align: right;\n",
              "    }\n",
              "</style>\n",
              "<table border=\"1\" class=\"dataframe\">\n",
              "  <thead>\n",
              "    <tr style=\"text-align: right;\">\n",
              "      <th></th>\n",
              "      <th>YEAR</th>\n",
              "      <th>MONTH</th>\n",
              "      <th>DAY</th>\n",
              "      <th>DAY_OF_WEEK</th>\n",
              "      <th>AIRLINE</th>\n",
              "      <th>FLIGHT_NUMBER</th>\n",
              "      <th>TAIL_NUMBER</th>\n",
              "      <th>ORIGIN_AIRPORT</th>\n",
              "      <th>DESTINATION_AIRPORT</th>\n",
              "      <th>SCHEDULED_DEPARTURE</th>\n",
              "      <th>SCHEDULED_TIME</th>\n",
              "      <th>DISTANCE</th>\n",
              "      <th>SCHEDULED_ARRIVAL</th>\n",
              "    </tr>\n",
              "  </thead>\n",
              "  <tbody>\n",
              "    <tr>\n",
              "      <th>0</th>\n",
              "      <td>2015</td>\n",
              "      <td>1</td>\n",
              "      <td>1</td>\n",
              "      <td>4</td>\n",
              "      <td>AS</td>\n",
              "      <td>98</td>\n",
              "      <td>N407AS</td>\n",
              "      <td>ANC</td>\n",
              "      <td>SEA</td>\n",
              "      <td>5</td>\n",
              "      <td>205.0</td>\n",
              "      <td>1448</td>\n",
              "      <td>430</td>\n",
              "    </tr>\n",
              "    <tr>\n",
              "      <th>1</th>\n",
              "      <td>2015</td>\n",
              "      <td>1</td>\n",
              "      <td>1</td>\n",
              "      <td>4</td>\n",
              "      <td>AA</td>\n",
              "      <td>2336</td>\n",
              "      <td>N3KUAA</td>\n",
              "      <td>LAX</td>\n",
              "      <td>PBI</td>\n",
              "      <td>10</td>\n",
              "      <td>280.0</td>\n",
              "      <td>2330</td>\n",
              "      <td>750</td>\n",
              "    </tr>\n",
              "    <tr>\n",
              "      <th>2</th>\n",
              "      <td>2015</td>\n",
              "      <td>1</td>\n",
              "      <td>1</td>\n",
              "      <td>4</td>\n",
              "      <td>US</td>\n",
              "      <td>840</td>\n",
              "      <td>N171US</td>\n",
              "      <td>SFO</td>\n",
              "      <td>CLT</td>\n",
              "      <td>20</td>\n",
              "      <td>286.0</td>\n",
              "      <td>2296</td>\n",
              "      <td>806</td>\n",
              "    </tr>\n",
              "    <tr>\n",
              "      <th>3</th>\n",
              "      <td>2015</td>\n",
              "      <td>1</td>\n",
              "      <td>1</td>\n",
              "      <td>4</td>\n",
              "      <td>AA</td>\n",
              "      <td>258</td>\n",
              "      <td>N3HYAA</td>\n",
              "      <td>LAX</td>\n",
              "      <td>MIA</td>\n",
              "      <td>20</td>\n",
              "      <td>285.0</td>\n",
              "      <td>2342</td>\n",
              "      <td>805</td>\n",
              "    </tr>\n",
              "    <tr>\n",
              "      <th>4</th>\n",
              "      <td>2015</td>\n",
              "      <td>1</td>\n",
              "      <td>1</td>\n",
              "      <td>4</td>\n",
              "      <td>AS</td>\n",
              "      <td>135</td>\n",
              "      <td>N527AS</td>\n",
              "      <td>SEA</td>\n",
              "      <td>ANC</td>\n",
              "      <td>25</td>\n",
              "      <td>235.0</td>\n",
              "      <td>1448</td>\n",
              "      <td>320</td>\n",
              "    </tr>\n",
              "  </tbody>\n",
              "</table>\n",
              "</div>"
            ],
            "text/plain": [
              "   YEAR  MONTH  DAY  ...  SCHEDULED_TIME DISTANCE  SCHEDULED_ARRIVAL\n",
              "0  2015      1    1  ...           205.0     1448                430\n",
              "1  2015      1    1  ...           280.0     2330                750\n",
              "2  2015      1    1  ...           286.0     2296                806\n",
              "3  2015      1    1  ...           285.0     2342                805\n",
              "4  2015      1    1  ...           235.0     1448                320\n",
              "\n",
              "[5 rows x 13 columns]"
            ]
          },
          "metadata": {
            "tags": []
          },
          "execution_count": 15
        }
      ]
    },
    {
      "cell_type": "code",
      "metadata": {
        "id": "pcl3pplmKY1L",
        "colab": {
          "base_uri": "https://localhost:8080/"
        },
        "outputId": "12c5d122-980e-455e-9a4f-b2fb4e05cbf3"
      },
      "source": [
        "# Print first 10 entries of target column\n",
        "y[0:1000].value_counts()"
      ],
      "execution_count": 21,
      "outputs": [
        {
          "output_type": "execute_result",
          "data": {
            "text/plain": [
              "0    916\n",
              "1     84\n",
              "Name: CANCELLED, dtype: int64"
            ]
          },
          "metadata": {
            "tags": []
          },
          "execution_count": 21
        }
      ]
    },
    {
      "cell_type": "code",
      "metadata": {
        "id": "BbXo65rIzUWe",
        "outputId": "ebb369c4-6450-45c4-b262-47f61c2693d3",
        "colab": {
          "base_uri": "https://localhost:8080/"
        }
      },
      "source": [
        "# Drop all missing values\r\n",
        "X_full.dropna(axis = 0, inplace = True)\r\n",
        "\r\n",
        "X_full.isnull().sum()"
      ],
      "execution_count": 24,
      "outputs": [
        {
          "output_type": "execute_result",
          "data": {
            "text/plain": [
              "YEAR                   0\n",
              "MONTH                  0\n",
              "DAY                    0\n",
              "DAY_OF_WEEK            0\n",
              "AIRLINE                0\n",
              "FLIGHT_NUMBER          0\n",
              "TAIL_NUMBER            0\n",
              "ORIGIN_AIRPORT         0\n",
              "DESTINATION_AIRPORT    0\n",
              "SCHEDULED_DEPARTURE    0\n",
              "SCHEDULED_TIME         0\n",
              "DISTANCE               0\n",
              "SCHEDULED_ARRIVAL      0\n",
              "dtype: int64"
            ]
          },
          "metadata": {
            "tags": []
          },
          "execution_count": 24
        }
      ]
    },
    {
      "cell_type": "markdown",
      "metadata": {
        "id": "pgqZolwu0pLw"
      },
      "source": [
        "## Step 3 EDA"
      ]
    },
    {
      "cell_type": "code",
      "metadata": {
        "id": "ThZu1OXF0yAF",
        "outputId": "d1431c6c-b37b-4320-9583-efcf2da4a75e",
        "colab": {
          "base_uri": "https://localhost:8080/"
        }
      },
      "source": [
        "X_full.dtypes"
      ],
      "execution_count": 26,
      "outputs": [
        {
          "output_type": "execute_result",
          "data": {
            "text/plain": [
              "YEAR                     int64\n",
              "MONTH                    int64\n",
              "DAY                      int64\n",
              "DAY_OF_WEEK              int64\n",
              "AIRLINE                 object\n",
              "FLIGHT_NUMBER            int64\n",
              "TAIL_NUMBER             object\n",
              "ORIGIN_AIRPORT          object\n",
              "DESTINATION_AIRPORT     object\n",
              "SCHEDULED_DEPARTURE      int64\n",
              "SCHEDULED_TIME         float64\n",
              "DISTANCE                 int64\n",
              "SCHEDULED_ARRIVAL        int64\n",
              "dtype: object"
            ]
          },
          "metadata": {
            "tags": []
          },
          "execution_count": 26
        }
      ]
    },
    {
      "cell_type": "code",
      "metadata": {
        "id": "lJkFXT9IL1O1",
        "colab": {
          "base_uri": "https://localhost:8080/"
        },
        "outputId": "ac94ed50-a77d-4eb7-bf06-31649f9081d3"
      },
      "source": [
        "# Select categorical columns from X_full\n",
        "# All categorical columns\n",
        "category_cols = [col for col in X_full.columns if X_full[col].dtype == \"object\"]\n",
        "category_cols"
      ],
      "execution_count": 25,
      "outputs": [
        {
          "output_type": "execute_result",
          "data": {
            "text/plain": [
              "['AIRLINE', 'TAIL_NUMBER', 'ORIGIN_AIRPORT', 'DESTINATION_AIRPORT']"
            ]
          },
          "metadata": {
            "tags": []
          },
          "execution_count": 25
        }
      ]
    },
    {
      "cell_type": "code",
      "metadata": {
        "id": "6RbfVEU1NzR0",
        "colab": {
          "base_uri": "https://localhost:8080/",
          "height": 195
        },
        "outputId": "9153101a-6d7b-4078-b0ce-4eefc0d5f529"
      },
      "source": [
        "# Print object categories for X_full for inspection\n",
        "X_full[category_cols].head()"
      ],
      "execution_count": 27,
      "outputs": [
        {
          "output_type": "execute_result",
          "data": {
            "text/html": [
              "<div>\n",
              "<style scoped>\n",
              "    .dataframe tbody tr th:only-of-type {\n",
              "        vertical-align: middle;\n",
              "    }\n",
              "\n",
              "    .dataframe tbody tr th {\n",
              "        vertical-align: top;\n",
              "    }\n",
              "\n",
              "    .dataframe thead th {\n",
              "        text-align: right;\n",
              "    }\n",
              "</style>\n",
              "<table border=\"1\" class=\"dataframe\">\n",
              "  <thead>\n",
              "    <tr style=\"text-align: right;\">\n",
              "      <th></th>\n",
              "      <th>AIRLINE</th>\n",
              "      <th>TAIL_NUMBER</th>\n",
              "      <th>ORIGIN_AIRPORT</th>\n",
              "      <th>DESTINATION_AIRPORT</th>\n",
              "    </tr>\n",
              "  </thead>\n",
              "  <tbody>\n",
              "    <tr>\n",
              "      <th>0</th>\n",
              "      <td>AS</td>\n",
              "      <td>N407AS</td>\n",
              "      <td>ANC</td>\n",
              "      <td>SEA</td>\n",
              "    </tr>\n",
              "    <tr>\n",
              "      <th>1</th>\n",
              "      <td>AA</td>\n",
              "      <td>N3KUAA</td>\n",
              "      <td>LAX</td>\n",
              "      <td>PBI</td>\n",
              "    </tr>\n",
              "    <tr>\n",
              "      <th>2</th>\n",
              "      <td>US</td>\n",
              "      <td>N171US</td>\n",
              "      <td>SFO</td>\n",
              "      <td>CLT</td>\n",
              "    </tr>\n",
              "    <tr>\n",
              "      <th>3</th>\n",
              "      <td>AA</td>\n",
              "      <td>N3HYAA</td>\n",
              "      <td>LAX</td>\n",
              "      <td>MIA</td>\n",
              "    </tr>\n",
              "    <tr>\n",
              "      <th>4</th>\n",
              "      <td>AS</td>\n",
              "      <td>N527AS</td>\n",
              "      <td>SEA</td>\n",
              "      <td>ANC</td>\n",
              "    </tr>\n",
              "  </tbody>\n",
              "</table>\n",
              "</div>"
            ],
            "text/plain": [
              "  AIRLINE TAIL_NUMBER ORIGIN_AIRPORT DESTINATION_AIRPORT\n",
              "0      AS      N407AS            ANC                 SEA\n",
              "1      AA      N3KUAA            LAX                 PBI\n",
              "2      US      N171US            SFO                 CLT\n",
              "3      AA      N3HYAA            LAX                 MIA\n",
              "4      AS      N527AS            SEA                 ANC"
            ]
          },
          "metadata": {
            "tags": []
          },
          "execution_count": 27
        }
      ]
    },
    {
      "cell_type": "code",
      "metadata": {
        "id": "K9I3kH0uMH_n",
        "colab": {
          "base_uri": "https://localhost:8080/"
        },
        "outputId": "fa020220-6c2f-4770-cbf5-dbb118e5fc50"
      },
      "source": [
        "# Let us see the cardanilatity of each column for the categorical columns in X_train_full and X_valid_full\n",
        "# Unique value sin each columns\n",
        "for cols in category_cols:\n",
        "    print(\"Unique values in\", cols,  \"column in training data:\", X_full[cols].nunique())\n",
        "  "
      ],
      "execution_count": 28,
      "outputs": [
        {
          "output_type": "stream",
          "text": [
            "Unique values in AIRLINE column in training data: 14\n",
            "Unique values in TAIL_NUMBER column in training data: 4478\n",
            "Unique values in ORIGIN_AIRPORT column in training data: 315\n",
            "Unique values in DESTINATION_AIRPORT column in training data: 315\n"
          ],
          "name": "stdout"
        }
      ]
    },
    {
      "cell_type": "markdown",
      "metadata": {
        "id": "OMIsFnBAhNAt"
      },
      "source": [
        "##### We observe that the cardinality of the columns are all greater than 10 hence one-hot encoding will lead to a huge number of new columns and hence result in the curse of dimensionality problem. Hence in this project we proceed with dropping all columns except airline column and adopt count encoding for airline column for the baseline project. We hope to improve this assumption in future iterations o f the ML model."
      ]
    },
    {
      "cell_type": "code",
      "metadata": {
        "id": "PxH9EeOZO30A",
        "colab": {
          "base_uri": "https://localhost:8080/"
        },
        "outputId": "3bdbd3f6-0d04-495d-8156-5bba0ea8d69d"
      },
      "source": [
        "# Select categorical columns with relatively low cardinality (convenient but arbitrary)\n",
        "low_cardinality = [cname for cname in X_full.columns if\n",
        "                    X_full[cname].nunique() < 15 and\n",
        "                    X_full[cname].dtype == \"object\"]\n",
        "low_cardinality"
      ],
      "execution_count": 29,
      "outputs": [
        {
          "output_type": "execute_result",
          "data": {
            "text/plain": [
              "['AIRLINE']"
            ]
          },
          "metadata": {
            "tags": []
          },
          "execution_count": 29
        }
      ]
    },
    {
      "cell_type": "code",
      "metadata": {
        "id": "pQAbj6bjhv5R",
        "colab": {
          "base_uri": "https://localhost:8080/"
        },
        "outputId": "1bbd81a6-64de-44d3-91f4-dc35fbc06c44"
      },
      "source": [
        "# Select categorical columns with relatively low cardinality (convenient but arbitrary)\n",
        "high_cardinality = [cname for cname in X_full.columns if\n",
        "                    X_full[cname].nunique() > 15 and\n",
        "                    X_full[cname].dtype == \"object\"]\n",
        "high_cardinality"
      ],
      "execution_count": 30,
      "outputs": [
        {
          "output_type": "execute_result",
          "data": {
            "text/plain": [
              "['TAIL_NUMBER', 'ORIGIN_AIRPORT', 'DESTINATION_AIRPORT']"
            ]
          },
          "metadata": {
            "tags": []
          },
          "execution_count": 30
        }
      ]
    },
    {
      "cell_type": "code",
      "metadata": {
        "id": "eA_QbbKyPSAx",
        "colab": {
          "base_uri": "https://localhost:8080/"
        },
        "outputId": "a39b0866-3769-4913-e495-260c8d2759aa"
      },
      "source": [
        "# Columns that can be safely label encoded in validation set\n",
        "good_label_cols = [col for col in category_cols if\n",
        "                   set(X_train_full[col]) == set(X_valid_full[col]) and \n",
        "                   set(X_train_full[col]) == set(X_test_full[col])]\n",
        "\n",
        "\n",
        "# Problematic columns that will be dropped from the validation dataset\n",
        "bad_label_cols = list(set(category_cols) - set(good_label_cols))\n",
        "\n",
        "print('Categorical columns that will be label encoded:', good_label_cols)\n",
        "print('\\nCategorical columns that will be dropped from the dataset:', bad_label_cols)\n"
      ],
      "execution_count": null,
      "outputs": [
        {
          "output_type": "stream",
          "text": [
            "Categorical columns that will be label encoded: ['AIRLINE', 'ORIGIN_AIRPORT', 'DESTINATION_AIRPORT']\n",
            "\n",
            "Categorical columns that will be dropped from the dataset: ['TAIL_NUMBER']\n"
          ],
          "name": "stdout"
        }
      ]
    },
    {
      "cell_type": "code",
      "metadata": {
        "id": "Dw06sULQPlAY",
        "colab": {
          "base_uri": "https://localhost:8080/",
          "height": 215
        },
        "outputId": "3ebbeae0-547c-4851-ae65-9adb4c8b35a1"
      },
      "source": [
        "# Drop categorical columns that will not be encoded\n",
        "label_X_train = X_train_full.drop(bad_label_cols, axis=1)\n",
        "label_X_valid = X_valid_full.drop(bad_label_cols, axis=1)\n",
        "label_X_test = X_test_full.drop(bad_label_cols, axis=1)\n",
        "\n",
        "# print dataframe for inspection\n",
        "label_X_train.head()"
      ],
      "execution_count": null,
      "outputs": [
        {
          "output_type": "execute_result",
          "data": {
            "text/html": [
              "<div>\n",
              "<style scoped>\n",
              "    .dataframe tbody tr th:only-of-type {\n",
              "        vertical-align: middle;\n",
              "    }\n",
              "\n",
              "    .dataframe tbody tr th {\n",
              "        vertical-align: top;\n",
              "    }\n",
              "\n",
              "    .dataframe thead th {\n",
              "        text-align: right;\n",
              "    }\n",
              "</style>\n",
              "<table border=\"1\" class=\"dataframe\">\n",
              "  <thead>\n",
              "    <tr style=\"text-align: right;\">\n",
              "      <th></th>\n",
              "      <th>YEAR</th>\n",
              "      <th>MONTH</th>\n",
              "      <th>DAY</th>\n",
              "      <th>DAY_OF_WEEK</th>\n",
              "      <th>AIRLINE</th>\n",
              "      <th>FLIGHT_NUMBER</th>\n",
              "      <th>ORIGIN_AIRPORT</th>\n",
              "      <th>DESTINATION_AIRPORT</th>\n",
              "      <th>SCHEDULED_DEPARTURE</th>\n",
              "      <th>SCHEDULED_TIME</th>\n",
              "      <th>DISTANCE</th>\n",
              "      <th>SCHEDULED_ARRIVAL</th>\n",
              "    </tr>\n",
              "  </thead>\n",
              "  <tbody>\n",
              "    <tr>\n",
              "      <th>645400</th>\n",
              "      <td>2015</td>\n",
              "      <td>2</td>\n",
              "      <td>12</td>\n",
              "      <td>4</td>\n",
              "      <td>HA</td>\n",
              "      <td>26</td>\n",
              "      <td>HNL</td>\n",
              "      <td>PDX</td>\n",
              "      <td>1500</td>\n",
              "      <td>330.0</td>\n",
              "      <td>2603</td>\n",
              "      <td>2230</td>\n",
              "    </tr>\n",
              "    <tr>\n",
              "      <th>546962</th>\n",
              "      <td>2015</td>\n",
              "      <td>2</td>\n",
              "      <td>6</td>\n",
              "      <td>5</td>\n",
              "      <td>DL</td>\n",
              "      <td>1864</td>\n",
              "      <td>SAN</td>\n",
              "      <td>MSP</td>\n",
              "      <td>625</td>\n",
              "      <td>227.0</td>\n",
              "      <td>1532</td>\n",
              "      <td>1212</td>\n",
              "    </tr>\n",
              "    <tr>\n",
              "      <th>159193</th>\n",
              "      <td>2015</td>\n",
              "      <td>1</td>\n",
              "      <td>11</td>\n",
              "      <td>7</td>\n",
              "      <td>EV</td>\n",
              "      <td>4427</td>\n",
              "      <td>IAH</td>\n",
              "      <td>ATL</td>\n",
              "      <td>1125</td>\n",
              "      <td>119.0</td>\n",
              "      <td>689</td>\n",
              "      <td>1424</td>\n",
              "    </tr>\n",
              "    <tr>\n",
              "      <th>288445</th>\n",
              "      <td>2015</td>\n",
              "      <td>1</td>\n",
              "      <td>19</td>\n",
              "      <td>1</td>\n",
              "      <td>DL</td>\n",
              "      <td>1112</td>\n",
              "      <td>MCO</td>\n",
              "      <td>ATL</td>\n",
              "      <td>2030</td>\n",
              "      <td>87.0</td>\n",
              "      <td>404</td>\n",
              "      <td>2157</td>\n",
              "    </tr>\n",
              "    <tr>\n",
              "      <th>298874</th>\n",
              "      <td>2015</td>\n",
              "      <td>1</td>\n",
              "      <td>20</td>\n",
              "      <td>2</td>\n",
              "      <td>WN</td>\n",
              "      <td>4858</td>\n",
              "      <td>ALB</td>\n",
              "      <td>MCO</td>\n",
              "      <td>1505</td>\n",
              "      <td>195.0</td>\n",
              "      <td>1073</td>\n",
              "      <td>1820</td>\n",
              "    </tr>\n",
              "  </tbody>\n",
              "</table>\n",
              "</div>"
            ],
            "text/plain": [
              "        YEAR  MONTH  DAY  ...  SCHEDULED_TIME DISTANCE  SCHEDULED_ARRIVAL\n",
              "645400  2015      2   12  ...           330.0     2603               2230\n",
              "546962  2015      2    6  ...           227.0     1532               1212\n",
              "159193  2015      1   11  ...           119.0      689               1424\n",
              "288445  2015      1   19  ...            87.0      404               2157\n",
              "298874  2015      1   20  ...           195.0     1073               1820\n",
              "\n",
              "[5 rows x 12 columns]"
            ]
          },
          "metadata": {
            "tags": []
          },
          "execution_count": 23
        }
      ]
    },
    {
      "cell_type": "code",
      "metadata": {
        "id": "06IReH3NbH0C",
        "colab": {
          "base_uri": "https://localhost:8080/",
          "height": 363
        },
        "outputId": "f2493a47-ee60-49a3-9b92-2dd52d6cf583"
      },
      "source": [
        "# Apply label encoder to each column with categorical data\n",
        "from sklearn.preprocessing import LabelEncoder\n",
        "label_encoder = LabelEncoder()\n",
        "for col in good_label_cols:\n",
        "    label_X_train[col] = label_encoder.fit_transform(X_train_full[col])\n",
        "    label_X_valid[col] = label_encoder.transform(X_valid_full[col])\n",
        "    label_X_test[col] = label_encoder.transform(X_test_full[col])\n",
        "\n",
        "label_X_train.to_csv('train_set.csv')\n",
        "label_X_train.head(10)"
      ],
      "execution_count": null,
      "outputs": [
        {
          "output_type": "execute_result",
          "data": {
            "text/html": [
              "<div>\n",
              "<style scoped>\n",
              "    .dataframe tbody tr th:only-of-type {\n",
              "        vertical-align: middle;\n",
              "    }\n",
              "\n",
              "    .dataframe tbody tr th {\n",
              "        vertical-align: top;\n",
              "    }\n",
              "\n",
              "    .dataframe thead th {\n",
              "        text-align: right;\n",
              "    }\n",
              "</style>\n",
              "<table border=\"1\" class=\"dataframe\">\n",
              "  <thead>\n",
              "    <tr style=\"text-align: right;\">\n",
              "      <th></th>\n",
              "      <th>YEAR</th>\n",
              "      <th>MONTH</th>\n",
              "      <th>DAY</th>\n",
              "      <th>DAY_OF_WEEK</th>\n",
              "      <th>AIRLINE</th>\n",
              "      <th>FLIGHT_NUMBER</th>\n",
              "      <th>ORIGIN_AIRPORT</th>\n",
              "      <th>DESTINATION_AIRPORT</th>\n",
              "      <th>SCHEDULED_DEPARTURE</th>\n",
              "      <th>SCHEDULED_TIME</th>\n",
              "      <th>DISTANCE</th>\n",
              "      <th>SCHEDULED_ARRIVAL</th>\n",
              "    </tr>\n",
              "  </thead>\n",
              "  <tbody>\n",
              "    <tr>\n",
              "      <th>645400</th>\n",
              "      <td>2015</td>\n",
              "      <td>2</td>\n",
              "      <td>12</td>\n",
              "      <td>4</td>\n",
              "      <td>6</td>\n",
              "      <td>26</td>\n",
              "      <td>137</td>\n",
              "      <td>230</td>\n",
              "      <td>1500</td>\n",
              "      <td>330.0</td>\n",
              "      <td>2603</td>\n",
              "      <td>2230</td>\n",
              "    </tr>\n",
              "    <tr>\n",
              "      <th>546962</th>\n",
              "      <td>2015</td>\n",
              "      <td>2</td>\n",
              "      <td>6</td>\n",
              "      <td>5</td>\n",
              "      <td>3</td>\n",
              "      <td>1864</td>\n",
              "      <td>262</td>\n",
              "      <td>211</td>\n",
              "      <td>625</td>\n",
              "      <td>227.0</td>\n",
              "      <td>1532</td>\n",
              "      <td>1212</td>\n",
              "    </tr>\n",
              "    <tr>\n",
              "      <th>159193</th>\n",
              "      <td>2015</td>\n",
              "      <td>1</td>\n",
              "      <td>11</td>\n",
              "      <td>7</td>\n",
              "      <td>4</td>\n",
              "      <td>4427</td>\n",
              "      <td>146</td>\n",
              "      <td>18</td>\n",
              "      <td>1125</td>\n",
              "      <td>119.0</td>\n",
              "      <td>689</td>\n",
              "      <td>1424</td>\n",
              "    </tr>\n",
              "    <tr>\n",
              "      <th>288445</th>\n",
              "      <td>2015</td>\n",
              "      <td>1</td>\n",
              "      <td>19</td>\n",
              "      <td>1</td>\n",
              "      <td>3</td>\n",
              "      <td>1112</td>\n",
              "      <td>188</td>\n",
              "      <td>18</td>\n",
              "      <td>2030</td>\n",
              "      <td>87.0</td>\n",
              "      <td>404</td>\n",
              "      <td>2157</td>\n",
              "    </tr>\n",
              "    <tr>\n",
              "      <th>298874</th>\n",
              "      <td>2015</td>\n",
              "      <td>1</td>\n",
              "      <td>20</td>\n",
              "      <td>2</td>\n",
              "      <td>13</td>\n",
              "      <td>4858</td>\n",
              "      <td>12</td>\n",
              "      <td>188</td>\n",
              "      <td>1505</td>\n",
              "      <td>195.0</td>\n",
              "      <td>1073</td>\n",
              "      <td>1820</td>\n",
              "    </tr>\n",
              "    <tr>\n",
              "      <th>460756</th>\n",
              "      <td>2015</td>\n",
              "      <td>1</td>\n",
              "      <td>31</td>\n",
              "      <td>6</td>\n",
              "      <td>13</td>\n",
              "      <td>615</td>\n",
              "      <td>188</td>\n",
              "      <td>79</td>\n",
              "      <td>855</td>\n",
              "      <td>180.0</td>\n",
              "      <td>973</td>\n",
              "      <td>1055</td>\n",
              "    </tr>\n",
              "    <tr>\n",
              "      <th>783876</th>\n",
              "      <td>2015</td>\n",
              "      <td>2</td>\n",
              "      <td>21</td>\n",
              "      <td>6</td>\n",
              "      <td>13</td>\n",
              "      <td>2663</td>\n",
              "      <td>169</td>\n",
              "      <td>97</td>\n",
              "      <td>1330</td>\n",
              "      <td>95.0</td>\n",
              "      <td>583</td>\n",
              "      <td>1605</td>\n",
              "    </tr>\n",
              "    <tr>\n",
              "      <th>72002</th>\n",
              "      <td>2015</td>\n",
              "      <td>1</td>\n",
              "      <td>5</td>\n",
              "      <td>1</td>\n",
              "      <td>8</td>\n",
              "      <td>312</td>\n",
              "      <td>188</td>\n",
              "      <td>7</td>\n",
              "      <td>1438</td>\n",
              "      <td>127.0</td>\n",
              "      <td>852</td>\n",
              "      <td>1645</td>\n",
              "    </tr>\n",
              "    <tr>\n",
              "      <th>709158</th>\n",
              "      <td>2015</td>\n",
              "      <td>2</td>\n",
              "      <td>16</td>\n",
              "      <td>1</td>\n",
              "      <td>13</td>\n",
              "      <td>271</td>\n",
              "      <td>111</td>\n",
              "      <td>49</td>\n",
              "      <td>1855</td>\n",
              "      <td>150.0</td>\n",
              "      <td>925</td>\n",
              "      <td>2125</td>\n",
              "    </tr>\n",
              "    <tr>\n",
              "      <th>120068</th>\n",
              "      <td>2015</td>\n",
              "      <td>1</td>\n",
              "      <td>8</td>\n",
              "      <td>4</td>\n",
              "      <td>9</td>\n",
              "      <td>4592</td>\n",
              "      <td>280</td>\n",
              "      <td>130</td>\n",
              "      <td>1530</td>\n",
              "      <td>99.0</td>\n",
              "      <td>463</td>\n",
              "      <td>1709</td>\n",
              "    </tr>\n",
              "  </tbody>\n",
              "</table>\n",
              "</div>"
            ],
            "text/plain": [
              "        YEAR  MONTH  DAY  ...  SCHEDULED_TIME  DISTANCE  SCHEDULED_ARRIVAL\n",
              "645400  2015      2   12  ...           330.0      2603               2230\n",
              "546962  2015      2    6  ...           227.0      1532               1212\n",
              "159193  2015      1   11  ...           119.0       689               1424\n",
              "288445  2015      1   19  ...            87.0       404               2157\n",
              "298874  2015      1   20  ...           195.0      1073               1820\n",
              "460756  2015      1   31  ...           180.0       973               1055\n",
              "783876  2015      2   21  ...            95.0       583               1605\n",
              "72002   2015      1    5  ...           127.0       852               1645\n",
              "709158  2015      2   16  ...           150.0       925               2125\n",
              "120068  2015      1    8  ...            99.0       463               1709\n",
              "\n",
              "[10 rows x 12 columns]"
            ]
          },
          "metadata": {
            "tags": []
          },
          "execution_count": 24
        }
      ]
    },
    {
      "cell_type": "code",
      "metadata": {
        "id": "muODOQKC5ddx",
        "colab": {
          "base_uri": "https://localhost:8080/",
          "height": 215
        },
        "outputId": "d27c90ba-2e40-4fd9-af98-d7bb10a372e7"
      },
      "source": [
        "# print validation test set\n",
        "label_X_valid.to_csv('valid_set.csv')\n",
        "label_X_valid.head()"
      ],
      "execution_count": null,
      "outputs": [
        {
          "output_type": "execute_result",
          "data": {
            "text/html": [
              "<div>\n",
              "<style scoped>\n",
              "    .dataframe tbody tr th:only-of-type {\n",
              "        vertical-align: middle;\n",
              "    }\n",
              "\n",
              "    .dataframe tbody tr th {\n",
              "        vertical-align: top;\n",
              "    }\n",
              "\n",
              "    .dataframe thead th {\n",
              "        text-align: right;\n",
              "    }\n",
              "</style>\n",
              "<table border=\"1\" class=\"dataframe\">\n",
              "  <thead>\n",
              "    <tr style=\"text-align: right;\">\n",
              "      <th></th>\n",
              "      <th>YEAR</th>\n",
              "      <th>MONTH</th>\n",
              "      <th>DAY</th>\n",
              "      <th>DAY_OF_WEEK</th>\n",
              "      <th>AIRLINE</th>\n",
              "      <th>FLIGHT_NUMBER</th>\n",
              "      <th>ORIGIN_AIRPORT</th>\n",
              "      <th>DESTINATION_AIRPORT</th>\n",
              "      <th>SCHEDULED_DEPARTURE</th>\n",
              "      <th>SCHEDULED_TIME</th>\n",
              "      <th>DISTANCE</th>\n",
              "      <th>SCHEDULED_ARRIVAL</th>\n",
              "    </tr>\n",
              "  </thead>\n",
              "  <tbody>\n",
              "    <tr>\n",
              "      <th>49651</th>\n",
              "      <td>2015</td>\n",
              "      <td>1</td>\n",
              "      <td>4</td>\n",
              "      <td>7</td>\n",
              "      <td>13</td>\n",
              "      <td>297</td>\n",
              "      <td>20</td>\n",
              "      <td>97</td>\n",
              "      <td>855</td>\n",
              "      <td>100.0</td>\n",
              "      <td>528</td>\n",
              "      <td>935</td>\n",
              "    </tr>\n",
              "    <tr>\n",
              "      <th>252341</th>\n",
              "      <td>2015</td>\n",
              "      <td>1</td>\n",
              "      <td>17</td>\n",
              "      <td>6</td>\n",
              "      <td>3</td>\n",
              "      <td>1772</td>\n",
              "      <td>18</td>\n",
              "      <td>233</td>\n",
              "      <td>1103</td>\n",
              "      <td>262.0</td>\n",
              "      <td>1587</td>\n",
              "      <td>1325</td>\n",
              "    </tr>\n",
              "    <tr>\n",
              "      <th>231406</th>\n",
              "      <td>2015</td>\n",
              "      <td>1</td>\n",
              "      <td>15</td>\n",
              "      <td>4</td>\n",
              "      <td>11</td>\n",
              "      <td>782</td>\n",
              "      <td>171</td>\n",
              "      <td>232</td>\n",
              "      <td>2215</td>\n",
              "      <td>293.0</td>\n",
              "      <td>2402</td>\n",
              "      <td>608</td>\n",
              "    </tr>\n",
              "    <tr>\n",
              "      <th>601178</th>\n",
              "      <td>2015</td>\n",
              "      <td>2</td>\n",
              "      <td>9</td>\n",
              "      <td>1</td>\n",
              "      <td>1</td>\n",
              "      <td>201</td>\n",
              "      <td>277</td>\n",
              "      <td>271</td>\n",
              "      <td>1730</td>\n",
              "      <td>122.0</td>\n",
              "      <td>697</td>\n",
              "      <td>1932</td>\n",
              "    </tr>\n",
              "    <tr>\n",
              "      <th>688416</th>\n",
              "      <td>2015</td>\n",
              "      <td>2</td>\n",
              "      <td>15</td>\n",
              "      <td>7</td>\n",
              "      <td>3</td>\n",
              "      <td>490</td>\n",
              "      <td>161</td>\n",
              "      <td>212</td>\n",
              "      <td>1359</td>\n",
              "      <td>223.0</td>\n",
              "      <td>1182</td>\n",
              "      <td>1642</td>\n",
              "    </tr>\n",
              "  </tbody>\n",
              "</table>\n",
              "</div>"
            ],
            "text/plain": [
              "        YEAR  MONTH  DAY  ...  SCHEDULED_TIME  DISTANCE  SCHEDULED_ARRIVAL\n",
              "49651   2015      1    4  ...           100.0       528                935\n",
              "252341  2015      1   17  ...           262.0      1587               1325\n",
              "231406  2015      1   15  ...           293.0      2402                608\n",
              "601178  2015      2    9  ...           122.0       697               1932\n",
              "688416  2015      2   15  ...           223.0      1182               1642\n",
              "\n",
              "[5 rows x 12 columns]"
            ]
          },
          "metadata": {
            "tags": []
          },
          "execution_count": 25
        }
      ]
    },
    {
      "cell_type": "code",
      "metadata": {
        "id": "KV6z8dmb5sfS",
        "colab": {
          "base_uri": "https://localhost:8080/",
          "height": 215
        },
        "outputId": "d412586e-0d21-4352-b4cd-f3ceffbfbfbf"
      },
      "source": [
        "# print test set\n",
        "\n",
        "label_X_test.to_csv('test_set.csv')\n",
        "label_X_test.head()"
      ],
      "execution_count": null,
      "outputs": [
        {
          "output_type": "execute_result",
          "data": {
            "text/html": [
              "<div>\n",
              "<style scoped>\n",
              "    .dataframe tbody tr th:only-of-type {\n",
              "        vertical-align: middle;\n",
              "    }\n",
              "\n",
              "    .dataframe tbody tr th {\n",
              "        vertical-align: top;\n",
              "    }\n",
              "\n",
              "    .dataframe thead th {\n",
              "        text-align: right;\n",
              "    }\n",
              "</style>\n",
              "<table border=\"1\" class=\"dataframe\">\n",
              "  <thead>\n",
              "    <tr style=\"text-align: right;\">\n",
              "      <th></th>\n",
              "      <th>YEAR</th>\n",
              "      <th>MONTH</th>\n",
              "      <th>DAY</th>\n",
              "      <th>DAY_OF_WEEK</th>\n",
              "      <th>AIRLINE</th>\n",
              "      <th>FLIGHT_NUMBER</th>\n",
              "      <th>ORIGIN_AIRPORT</th>\n",
              "      <th>DESTINATION_AIRPORT</th>\n",
              "      <th>SCHEDULED_DEPARTURE</th>\n",
              "      <th>SCHEDULED_TIME</th>\n",
              "      <th>DISTANCE</th>\n",
              "      <th>SCHEDULED_ARRIVAL</th>\n",
              "    </tr>\n",
              "  </thead>\n",
              "  <tbody>\n",
              "    <tr>\n",
              "      <th>0</th>\n",
              "      <td>2015</td>\n",
              "      <td>2</td>\n",
              "      <td>25</td>\n",
              "      <td>3</td>\n",
              "      <td>13</td>\n",
              "      <td>1046</td>\n",
              "      <td>169</td>\n",
              "      <td>233</td>\n",
              "      <td>700</td>\n",
              "      <td>65</td>\n",
              "      <td>255</td>\n",
              "      <td>905</td>\n",
              "    </tr>\n",
              "    <tr>\n",
              "      <th>1</th>\n",
              "      <td>2015</td>\n",
              "      <td>2</td>\n",
              "      <td>25</td>\n",
              "      <td>3</td>\n",
              "      <td>13</td>\n",
              "      <td>2251</td>\n",
              "      <td>169</td>\n",
              "      <td>255</td>\n",
              "      <td>700</td>\n",
              "      <td>80</td>\n",
              "      <td>345</td>\n",
              "      <td>820</td>\n",
              "    </tr>\n",
              "    <tr>\n",
              "      <th>2</th>\n",
              "      <td>2015</td>\n",
              "      <td>2</td>\n",
              "      <td>25</td>\n",
              "      <td>3</td>\n",
              "      <td>13</td>\n",
              "      <td>857</td>\n",
              "      <td>169</td>\n",
              "      <td>281</td>\n",
              "      <td>700</td>\n",
              "      <td>90</td>\n",
              "      <td>397</td>\n",
              "      <td>830</td>\n",
              "    </tr>\n",
              "    <tr>\n",
              "      <th>3</th>\n",
              "      <td>2015</td>\n",
              "      <td>2</td>\n",
              "      <td>25</td>\n",
              "      <td>3</td>\n",
              "      <td>13</td>\n",
              "      <td>2864</td>\n",
              "      <td>171</td>\n",
              "      <td>49</td>\n",
              "      <td>700</td>\n",
              "      <td>295</td>\n",
              "      <td>2329</td>\n",
              "      <td>1455</td>\n",
              "    </tr>\n",
              "    <tr>\n",
              "      <th>4</th>\n",
              "      <td>2015</td>\n",
              "      <td>2</td>\n",
              "      <td>25</td>\n",
              "      <td>3</td>\n",
              "      <td>13</td>\n",
              "      <td>3220</td>\n",
              "      <td>171</td>\n",
              "      <td>233</td>\n",
              "      <td>700</td>\n",
              "      <td>80</td>\n",
              "      <td>370</td>\n",
              "      <td>920</td>\n",
              "    </tr>\n",
              "  </tbody>\n",
              "</table>\n",
              "</div>"
            ],
            "text/plain": [
              "   YEAR  MONTH  DAY  ...  SCHEDULED_TIME  DISTANCE  SCHEDULED_ARRIVAL\n",
              "0  2015      2   25  ...              65       255                905\n",
              "1  2015      2   25  ...              80       345                820\n",
              "2  2015      2   25  ...              90       397                830\n",
              "3  2015      2   25  ...             295      2329               1455\n",
              "4  2015      2   25  ...              80       370                920\n",
              "\n",
              "[5 rows x 12 columns]"
            ]
          },
          "metadata": {
            "tags": []
          },
          "execution_count": 26
        }
      ]
    },
    {
      "cell_type": "code",
      "metadata": {
        "id": "C9PIZeWiosjm",
        "colab": {
          "base_uri": "https://localhost:8080/"
        },
        "outputId": "4bc98dea-79e6-4b24-a10e-6b015f34f9c4"
      },
      "source": [
        "original_data = np.random.exponential(size=1000)\n",
        "original_data"
      ],
      "execution_count": null,
      "outputs": [
        {
          "output_type": "execute_result",
          "data": {
            "text/plain": [
              "array([3.13859583e+00, 1.95441208e+00, 7.77650126e-01, 2.06206893e-01,\n",
              "       6.51659394e-01, 3.85467125e-01, 4.04482881e-01, 5.56822231e-01,\n",
              "       2.62229430e-02, 7.75125618e-01, 1.21388290e+00, 1.35295491e-01,\n",
              "       2.25304641e+00, 9.05844854e-01, 5.58618623e-02, 3.78537136e+00,\n",
              "       7.25581823e-01, 3.85019812e+00, 1.05940124e+00, 8.40517822e-01,\n",
              "       6.00863915e-01, 1.02676799e-01, 3.49547412e-01, 5.50055585e+00,\n",
              "       2.56125331e-01, 5.54435920e-01, 1.40366704e-01, 1.35849318e-01,\n",
              "       9.66214875e-02, 5.15810394e-01, 5.20294108e+00, 2.68930286e-03,\n",
              "       4.30149236e-01, 5.17228773e-01, 1.21413961e+00, 9.30630379e-01,\n",
              "       5.11690798e+00, 1.55853575e-01, 1.08656205e+00, 3.16142790e+00,\n",
              "       1.32099096e+00, 8.40757880e-01, 2.03057322e+00, 5.81728958e-02,\n",
              "       2.15554217e-01, 2.84367780e-01, 1.65126563e-01, 2.14384976e+00,\n",
              "       2.60525364e+00, 8.59108947e-01, 1.49451361e+00, 4.77630471e-02,\n",
              "       6.77875951e-01, 5.84050323e-01, 5.52486447e-01, 3.70504574e-01,\n",
              "       2.08965840e+00, 8.16513682e-02, 1.81315799e-01, 7.30681774e-02,\n",
              "       4.53756780e-02, 1.76149585e-01, 2.47234751e-01, 3.68507291e-01,\n",
              "       4.15351692e-01, 4.74915653e-02, 5.69963656e-01, 3.05999838e-01,\n",
              "       8.73960607e-01, 2.29884739e-02, 1.45481732e-01, 1.79554920e+00,\n",
              "       2.11499576e-01, 8.67141555e-01, 1.73181475e+00, 5.48812481e-01,\n",
              "       1.27823299e+00, 1.81943661e-01, 2.27813368e+00, 1.19125981e-01,\n",
              "       7.54231083e-02, 1.14564257e+00, 1.60409363e-01, 1.34689514e-01,\n",
              "       7.81557052e-02, 2.31335967e+00, 1.38918856e+00, 1.33845211e+00,\n",
              "       8.34065280e-02, 8.87630522e-01, 2.25932071e+00, 1.39477199e-01,\n",
              "       2.60560959e-01, 1.98056506e-01, 1.06595479e-01, 2.77312471e-01,\n",
              "       3.21337374e-01, 9.70028844e-01, 4.71792939e-01, 6.48848413e-01,\n",
              "       4.89083841e-02, 6.35621315e-01, 4.22420896e-01, 1.51909116e+00,\n",
              "       9.36874349e-01, 2.61337985e-01, 3.23078091e+00, 9.84444826e-02,\n",
              "       9.41248490e-01, 2.74082182e-01, 1.48506864e+00, 2.07841198e-01,\n",
              "       1.26727040e+00, 4.93206598e-02, 9.51820896e-01, 6.84793618e-01,\n",
              "       5.79392122e-01, 2.70125610e-02, 2.66108605e+00, 3.84013663e-01,\n",
              "       1.04875939e+00, 1.07011370e+00, 1.24991794e+00, 1.20910529e+00,\n",
              "       1.09553128e+00, 2.66995854e+00, 1.08781427e+00, 7.01802810e-01,\n",
              "       1.12387792e+00, 2.85059515e-01, 4.65008517e+00, 7.91494853e-02,\n",
              "       2.08993129e+00, 4.92805247e-02, 2.96266761e+00, 1.10021122e+00,\n",
              "       8.00135835e-01, 4.90288814e-01, 7.43969855e-01, 4.61394684e-02,\n",
              "       1.04818701e+00, 2.37265968e-01, 3.03470901e-01, 2.51564227e+00,\n",
              "       2.08607244e+00, 8.27064839e-02, 2.26291540e+00, 1.27428962e+00,\n",
              "       5.28132158e-01, 2.16179419e+00, 2.62027005e+00, 4.43083087e-01,\n",
              "       9.56497577e-01, 3.58675103e-01, 5.85680320e-01, 7.87200381e-02,\n",
              "       3.23330824e-01, 2.23843904e+00, 3.12115077e-01, 1.19391312e-01,\n",
              "       3.35621894e-01, 9.03558333e-01, 3.20266412e-02, 3.04879484e+00,\n",
              "       1.08322974e-01, 9.72204776e-01, 1.22658178e-01, 5.09101185e-01,\n",
              "       6.08373290e-01, 5.76244022e-01, 1.03255941e+00, 1.94885838e-01,\n",
              "       6.51058457e-01, 1.08309974e-01, 5.37890416e-01, 1.04249014e+00,\n",
              "       7.44330762e-01, 9.07630082e-02, 1.50631484e-01, 8.70048018e-01,\n",
              "       1.64205138e-01, 5.23811411e-01, 6.17678670e-01, 2.37256382e-01,\n",
              "       6.44132908e-01, 3.69919033e-01, 1.33318260e-01, 6.25089947e-01,\n",
              "       2.77534975e-01, 9.33976507e-01, 3.74867653e-01, 1.74399859e+00,\n",
              "       2.05768175e+00, 1.01856711e+00, 8.53702410e-01, 2.75748509e+00,\n",
              "       2.66622125e+00, 7.46679308e-01, 2.65631237e-01, 2.51632503e+00,\n",
              "       5.75361200e-02, 3.75188465e+00, 1.37457743e+00, 1.10020485e+00,\n",
              "       3.14078448e-01, 2.43335192e-01, 1.33496005e+00, 8.43190294e-01,\n",
              "       8.10525031e-01, 3.54519005e-01, 3.41479632e-02, 1.86193182e+00,\n",
              "       7.88464655e-01, 1.28055806e+00, 1.93372543e+00, 4.55824510e-01,\n",
              "       3.51671738e+00, 3.59965871e-01, 8.20215247e-01, 1.47299142e-02,\n",
              "       7.58693337e-01, 2.76535169e+00, 1.22394566e+00, 1.11359758e-01,\n",
              "       5.45815458e-01, 5.81062361e-02, 1.53390767e+00, 7.55436077e-01,\n",
              "       1.36787653e+00, 1.81393573e+00, 9.88289001e-01, 2.07681737e-02,\n",
              "       2.09800451e+00, 5.63763242e-02, 7.86020971e-02, 2.68838245e-01,\n",
              "       3.70930238e+00, 3.78338835e-01, 5.64390115e-02, 5.79755401e-01,\n",
              "       1.87080320e-01, 1.17210121e-01, 5.12093143e-01, 1.46118593e+00,\n",
              "       1.16300911e-01, 3.78610896e-01, 4.17354842e+00, 5.63664852e-01,\n",
              "       2.11554075e-01, 6.69996683e-01, 5.43803689e-01, 7.84327895e-01,\n",
              "       3.87642057e-01, 9.18166518e-01, 1.74096232e+00, 3.67375919e+00,\n",
              "       4.36769488e-01, 7.42407634e-01, 1.52146892e+00, 5.86051998e-01,\n",
              "       1.09696550e+00, 1.51444213e+00, 1.17123802e-02, 7.18620592e-01,\n",
              "       5.81893986e+00, 4.29879738e-01, 4.73723793e+00, 1.28120976e+00,\n",
              "       9.09562333e-01, 8.74548843e-01, 4.40685719e-02, 9.19670843e-03,\n",
              "       3.53876538e+00, 1.51407333e+00, 4.32072761e-01, 2.67054342e-01,\n",
              "       4.39018730e-02, 2.02571070e+00, 6.18904867e-01, 2.82619848e-01,\n",
              "       6.97565100e-01, 1.61644706e+00, 1.02337466e+00, 8.89513287e-02,\n",
              "       5.35205314e-01, 4.20113141e+00, 6.34374137e-01, 2.57002427e-01,\n",
              "       7.90294666e-01, 3.01931819e+00, 6.66181204e-01, 3.45787732e+00,\n",
              "       1.87728216e+00, 1.31114996e+00, 4.90534557e-02, 7.62613131e-01,\n",
              "       6.04089691e-01, 4.24813482e-01, 1.92207606e+00, 2.28650595e+00,\n",
              "       1.70895993e-01, 8.66536839e-01, 2.30545070e-01, 1.05321351e-01,\n",
              "       1.96865798e-01, 5.51964339e-01, 1.56068182e+00, 2.23827758e+00,\n",
              "       1.11885434e+00, 6.03408958e-02, 1.57983612e-01, 1.85967717e+00,\n",
              "       2.43745244e+00, 9.48425850e-01, 9.86013684e-01, 6.35631262e-01,\n",
              "       1.97696979e-01, 3.08170484e-01, 3.08218036e+00, 1.35976328e-02,\n",
              "       1.56071599e-01, 5.23477050e-01, 7.13658850e-02, 8.27681541e-01,\n",
              "       4.46130709e-02, 4.88401759e-01, 1.42443087e-01, 2.34473686e+00,\n",
              "       1.99796956e+00, 1.11793536e+00, 1.09998461e+00, 4.21835907e+00,\n",
              "       2.69952745e-03, 4.70114498e-01, 1.36948734e+00, 2.27229258e+00,\n",
              "       7.50099458e-01, 1.00633039e+00, 3.37076945e-01, 9.15301805e-01,\n",
              "       1.92519021e-01, 4.54967910e-01, 2.93138414e+00, 1.35279965e+00,\n",
              "       2.39548249e-01, 1.73951417e+00, 4.68752157e-01, 4.51839995e-01,\n",
              "       1.64135725e-01, 2.38517870e+00, 2.32765888e-01, 1.14798435e+00,\n",
              "       1.03979593e+00, 7.56528155e-01, 5.83712955e-01, 9.52629074e-01,\n",
              "       4.40450149e-01, 6.41182468e-01, 1.60760375e+00, 2.04646644e-01,\n",
              "       1.99486776e+00, 3.17466358e-01, 2.69070570e-01, 9.91438554e-01,\n",
              "       9.13042217e-02, 2.20041437e+00, 1.36582232e-01, 2.88235320e-01,\n",
              "       3.63513742e-01, 2.75718795e-01, 4.72554991e-01, 1.23074186e+00,\n",
              "       1.64222072e+00, 4.89491806e-01, 1.05319473e-01, 3.55729117e-01,\n",
              "       1.33749657e+00, 9.16853030e-01, 4.43942828e-01, 1.57101479e-02,\n",
              "       3.31136530e-01, 3.30986356e+00, 4.32569708e-02, 2.20383642e+00,\n",
              "       1.13798680e+00, 4.57045446e-01, 9.66017219e-01, 9.12837681e-01,\n",
              "       4.01530321e+00, 1.50499932e+00, 6.12573885e-01, 2.83778480e+00,\n",
              "       4.11482139e-01, 6.60970387e-02, 3.15581162e-01, 2.20531893e+00,\n",
              "       2.97552920e-01, 2.17066629e-01, 4.76114749e-01, 2.84254139e-02,\n",
              "       1.35413564e+00, 2.56927339e+00, 2.17354536e+00, 8.00813464e-01,\n",
              "       9.71324898e-01, 2.86173466e+00, 2.22890658e+00, 3.59853531e+00,\n",
              "       5.78091934e-01, 6.31906343e-01, 1.02814072e+00, 1.53914131e+00,\n",
              "       1.27513367e+00, 2.79733919e+00, 7.45443126e-01, 2.76462195e-01,\n",
              "       1.15622466e-01, 6.92363831e-01, 5.16117805e-01, 1.23180121e-01,\n",
              "       4.57051036e-01, 2.28624950e-01, 8.92270632e-02, 3.39195473e-01,\n",
              "       5.30992489e-02, 5.29873063e-01, 1.26105559e+00, 1.35720571e+00,\n",
              "       3.16802363e+00, 3.26405014e-01, 1.75540301e+00, 1.04942800e+00,\n",
              "       3.39351268e-02, 1.78557900e+00, 2.21661437e-01, 3.96636537e-01,\n",
              "       1.86981717e+00, 1.12228254e+00, 5.82749985e-01, 3.85732204e-01,\n",
              "       6.16599218e-01, 7.06194897e-01, 6.69726333e-01, 2.24662320e+00,\n",
              "       4.18006116e-01, 9.71675643e-01, 4.65828551e-01, 2.42210825e-01,\n",
              "       1.56684919e+00, 1.19843596e-01, 5.02203002e-01, 1.15452823e+00,\n",
              "       3.12326068e+00, 1.02273455e+00, 2.27185220e+00, 9.27045081e-01,\n",
              "       7.27407001e-01, 1.96224840e+00, 1.83291570e+00, 1.47800728e+00,\n",
              "       4.59844321e-01, 1.15686756e+00, 1.91055614e+00, 8.62641225e-01,\n",
              "       2.89950746e-01, 7.90543263e-01, 2.45971012e-01, 1.53353022e+00,\n",
              "       3.34979474e-01, 6.34425548e-01, 2.56315834e+00, 2.38558270e+00,\n",
              "       2.73377304e+00, 2.59888815e+00, 3.69427810e+00, 2.75231340e-01,\n",
              "       8.46027314e-02, 1.42747322e+00, 2.69554667e-01, 9.85562379e-01,\n",
              "       9.25469973e-01, 7.22129647e-01, 1.57273860e+00, 1.02519584e+00,\n",
              "       8.25007490e-01, 2.23808902e-01, 1.21461589e-01, 8.09428891e-01,\n",
              "       3.82685568e-01, 3.33319671e-01, 7.86287789e-02, 9.42902707e-01,\n",
              "       5.05733566e-01, 6.46548345e-02, 6.40676158e-01, 2.92138286e-01,\n",
              "       4.75891594e-01, 6.00485636e+00, 2.89416161e-02, 2.08184012e+00,\n",
              "       8.22081507e-01, 1.97179001e-01, 6.12308954e-01, 2.12414460e+00,\n",
              "       1.23182628e+00, 6.03462444e-02, 7.78363641e-01, 2.72323279e-01,\n",
              "       1.57327717e+00, 1.00903822e+00, 2.04179326e+00, 5.90508927e-02,\n",
              "       1.33705946e-01, 3.89927179e-01, 2.49310852e-01, 9.53269262e-02,\n",
              "       9.92595215e-02, 4.00161967e-01, 1.25529520e+00, 2.71278146e-01,\n",
              "       2.76697432e-01, 4.44765402e+00, 3.99688947e-01, 1.23683901e-01,\n",
              "       1.90952250e+00, 6.93229202e-01, 2.29383609e-01, 9.46364170e-01,\n",
              "       3.95244355e+00, 2.93799799e-01, 4.44746956e-01, 2.83653770e+00,\n",
              "       9.34554536e-01, 2.72572067e-01, 3.72403723e-01, 9.27569315e-01,\n",
              "       5.03593486e-01, 1.71739256e+00, 1.13565633e+00, 9.90826259e-01,\n",
              "       6.78810534e+00, 1.19318867e+00, 8.90176939e-01, 6.27727468e-01,\n",
              "       1.84241723e-01, 1.76120971e+00, 1.02999309e-01, 3.39732827e+00,\n",
              "       5.83976830e-01, 8.47255332e-01, 1.19575304e-01, 7.21921896e-01,\n",
              "       1.40654215e+00, 3.73629725e-01, 1.86398492e+00, 1.99191216e-01,\n",
              "       4.11449412e-01, 2.35148445e+00, 2.31995959e-01, 9.79713884e-01,\n",
              "       2.65079626e+00, 8.33990310e-02, 9.79981576e-01, 4.02658684e-01,\n",
              "       8.92238210e-01, 2.29194152e+00, 4.33300451e+00, 1.49811283e+00,\n",
              "       2.80549821e-01, 4.68163670e+00, 1.22753952e-01, 9.59361820e-01,\n",
              "       2.64817844e+00, 2.72651703e-02, 1.29897466e+00, 5.16789750e-01,\n",
              "       4.71571430e-01, 2.02982309e-01, 9.21622301e-01, 1.17125287e+00,\n",
              "       1.56680904e+00, 9.02623464e-01, 4.87276336e-01, 2.10772450e+00,\n",
              "       2.00552824e+00, 1.10568748e-01, 1.08575873e+00, 6.90009461e-01,\n",
              "       6.12738162e-02, 5.94613131e-01, 7.47508515e-01, 6.95751266e-01,\n",
              "       1.33096809e+00, 3.87917666e-01, 9.27908630e-01, 2.38802031e+00,\n",
              "       1.59905676e-01, 1.06292189e+00, 1.27401754e-01, 1.45915840e+00,\n",
              "       2.11892326e-01, 4.30500008e+00, 1.21722944e-01, 3.01250476e-01,\n",
              "       1.29864562e+00, 6.70424814e-01, 1.02383228e+00, 1.93500026e-01,\n",
              "       9.03090248e-01, 8.05417612e-01, 2.08643467e-01, 8.17471493e-01,\n",
              "       1.45079808e-01, 8.01699975e-01, 1.01053547e+00, 6.82471864e-01,\n",
              "       3.90038089e-01, 1.73201499e-01, 2.31472260e+00, 1.89700146e+00,\n",
              "       4.96880616e-01, 1.84198308e+00, 9.04468139e-03, 9.14283994e-01,\n",
              "       1.06456620e+00, 2.17576200e+00, 1.68675348e-01, 4.12544163e+00,\n",
              "       5.44724304e-01, 1.12549852e-01, 3.67005744e-01, 8.25070650e-01,\n",
              "       1.97312446e+00, 1.42543088e-01, 3.65546139e+00, 1.29910756e+00,\n",
              "       3.70885013e-01, 1.51748324e-01, 2.82764158e-01, 3.09545577e-01,\n",
              "       2.26223879e+00, 5.56512781e-01, 4.05650171e+00, 2.19037664e+00,\n",
              "       1.33206339e+00, 2.87114936e-01, 2.88198142e+00, 2.02143183e+00,\n",
              "       1.67958703e+00, 1.99771097e-01, 2.37487476e-02, 8.58715217e-01,\n",
              "       4.75750486e-01, 1.01459214e+00, 2.98044155e+00, 5.59387992e-01,\n",
              "       7.15591212e-01, 3.01202584e-01, 1.98693842e-01, 2.27856623e+00,\n",
              "       8.21023478e-01, 1.71122156e-01, 1.94486509e-01, 2.12702259e-01,\n",
              "       5.47139925e-01, 1.27115147e+00, 1.17487406e+00, 1.24872341e+00,\n",
              "       1.50326939e+00, 3.36938684e+00, 8.37542073e-01, 1.52770653e+00,\n",
              "       5.32820419e-01, 1.37720264e-01, 1.00996532e-02, 2.76173262e-01,\n",
              "       5.26910614e-01, 5.64760563e-01, 2.11692911e-01, 1.94494940e-01,\n",
              "       8.62840996e-01, 1.01055026e+00, 8.48493508e-01, 1.37207137e+00,\n",
              "       4.24593653e+00, 1.06759415e+00, 4.34317631e-02, 3.91171269e-01,\n",
              "       3.82618563e-01, 1.61207022e+00, 2.19674150e-01, 1.06379169e+00,\n",
              "       1.76860060e+00, 7.07919882e-01, 3.37302198e+00, 2.10581630e-01,\n",
              "       3.69904429e+00, 7.85203174e-01, 5.43159587e-01, 1.96501108e-01,\n",
              "       1.04792672e+00, 5.56361319e-01, 8.89454538e-03, 2.07874125e+00,\n",
              "       1.64758221e-01, 4.57065784e-01, 1.77029543e+00, 9.29238294e-01,\n",
              "       1.33706282e+00, 4.47772972e-01, 4.03341725e-01, 7.31386869e-02,\n",
              "       2.45026722e+00, 1.10054967e+00, 2.07938282e+00, 7.70566481e-01,\n",
              "       3.20098177e-01, 1.06716874e+00, 2.64510793e-02, 7.30849317e-01,\n",
              "       1.91086086e+00, 1.65609652e+00, 4.08727330e-01, 3.03911228e+00,\n",
              "       2.56497424e-01, 1.99916654e-03, 7.45004354e-01, 1.98266341e+00,\n",
              "       1.03497752e-01, 6.47809785e-01, 1.54129100e+00, 2.65689707e-01,\n",
              "       1.50853185e+00, 1.13350881e+00, 8.24190781e-01, 2.09035753e-01,\n",
              "       2.65685743e-01, 1.49121148e+00, 8.85526463e-01, 5.62537256e-01,\n",
              "       4.02225471e-01, 1.50345288e+00, 9.21742798e-02, 9.67322443e-02,\n",
              "       2.98525422e-01, 1.81460313e-02, 2.01617918e+00, 8.18410555e-01,\n",
              "       2.90689951e+00, 1.88467298e-01, 7.90592288e-01, 7.92123599e-01,\n",
              "       4.24462011e-01, 1.39411721e-02, 5.15552705e-01, 3.24171318e+00,\n",
              "       1.32338632e+00, 2.07004184e+00, 7.82497211e-01, 1.15514629e+00,\n",
              "       7.98326000e-01, 1.69390372e-01, 2.32711330e-01, 4.29703276e-01,\n",
              "       4.85733061e-02, 5.82081557e-01, 2.69550581e-02, 1.50336043e+00,\n",
              "       2.70395782e-01, 5.56493076e-01, 2.47864625e-01, 2.51390253e-01,\n",
              "       6.37229366e-01, 2.21015639e+00, 2.59409883e-01, 2.50339881e+00,\n",
              "       4.79443471e-01, 6.53170943e-01, 1.40416756e+00, 9.49620588e-01,\n",
              "       1.33374128e+00, 7.30522217e-03, 1.15155271e-01, 2.62847638e+00,\n",
              "       1.40353316e+00, 1.75437697e-01, 3.77720655e-02, 2.12230045e+00,\n",
              "       9.12207866e-01, 2.59568114e-01, 6.23812124e-01, 4.36853024e-01,\n",
              "       4.55406900e-01, 1.38031161e-01, 3.25092671e+00, 3.44986810e-01,\n",
              "       1.10138478e+00, 6.36248666e-01, 2.15657503e-01, 1.74113970e+00,\n",
              "       1.29667196e+00, 1.34377472e+00, 5.23196869e-01, 1.30645395e+00,\n",
              "       2.89267214e-01, 9.96433988e-03, 2.38758246e-01, 1.96228907e+00,\n",
              "       1.25549492e-01, 7.03830669e+00, 1.71055856e+00, 6.67689772e-01,\n",
              "       1.19912999e+00, 1.61463156e-01, 1.11880433e+00, 2.68728155e-01,\n",
              "       1.52884089e-01, 3.32536586e+00, 1.57411568e+00, 1.47359979e+00,\n",
              "       1.59190742e-01, 1.98953822e+00, 7.53054960e-01, 3.09118267e-01,\n",
              "       1.95455398e+00, 5.94280391e-01, 6.77249794e-01, 3.27378226e+00,\n",
              "       8.22829183e-01, 3.23976476e-01, 1.00956617e+00, 3.00304196e-02,\n",
              "       6.38183701e-01, 7.84704132e-01, 9.03692520e-01, 9.50937772e-01,\n",
              "       4.78348755e-01, 3.62950075e-01, 2.05490718e+00, 6.08047561e-01,\n",
              "       8.85907915e-01, 5.39115782e+00, 4.57154173e-01, 2.67635038e-01,\n",
              "       5.73713969e-01, 1.78133138e+00, 8.24090006e-01, 2.89242057e+00,\n",
              "       6.14481685e+00, 5.01075056e-01, 1.31041597e-02, 1.73427174e+00,\n",
              "       3.33052503e-01, 5.08344281e-02, 3.22228223e+00, 3.47277023e-01,\n",
              "       2.25247846e+00, 2.02252625e+00, 1.18627232e-01, 5.50498509e-01,\n",
              "       1.30006221e+00, 1.88909530e+00, 3.21547694e-01, 7.07806396e-01,\n",
              "       8.22877932e-01, 8.79606660e-01, 6.04749040e-01, 1.20419184e+00,\n",
              "       4.25896603e+00, 1.13677100e-01, 1.54977714e-02, 2.92919612e-01,\n",
              "       5.20110904e+00, 3.98206813e-01, 1.38643270e+00, 4.21832949e+00,\n",
              "       3.75205658e+00, 4.78894158e-02, 3.99080247e-02, 2.39174106e+00,\n",
              "       2.73345895e-01, 1.00787624e+00, 3.73776348e-01, 2.15001448e+00,\n",
              "       6.92384386e-01, 5.42464961e-01, 3.27056806e-02, 2.28591087e+00,\n",
              "       2.59729849e+00, 6.06101935e-01, 2.90576677e+00, 4.29818614e+00,\n",
              "       5.59619286e-01, 4.29099359e-01, 7.18000692e-01, 3.77651449e-02,\n",
              "       6.25866767e-01, 2.60161938e-01, 3.05991684e-01, 7.13069476e-01,\n",
              "       9.13591219e-01, 3.93426413e+00, 1.52642979e+00, 1.38055728e-01,\n",
              "       1.28700329e-02, 9.82157822e-01, 1.25178933e-01, 1.62710175e+00,\n",
              "       2.44789238e-01, 9.41382777e-01, 2.88792838e+00, 2.43573719e+00,\n",
              "       1.50721404e+00, 2.89197316e-01, 1.65575562e-01, 1.16827686e+00,\n",
              "       1.30354488e+00, 2.15604092e+00, 7.33355753e-01, 3.36893106e+00,\n",
              "       4.39025394e-01, 2.43888873e+00, 2.32335411e+00, 5.04622144e-02,\n",
              "       6.64611693e-01, 1.79133103e-01, 4.53029625e-01, 2.76407902e+00,\n",
              "       3.38990789e+00, 1.34418524e+00, 2.74878183e-02, 1.17656839e+00,\n",
              "       3.74462608e-02, 7.85420832e-01, 7.86065240e-02, 1.01297564e+00,\n",
              "       3.39891061e-03, 9.11625538e-01, 1.07827450e+00, 3.52892107e-01,\n",
              "       3.53483478e-01, 4.83796968e-01, 3.71438905e-01, 9.32049770e-01,\n",
              "       2.25900343e+00, 4.24071050e+00, 8.60447374e-01, 3.46089522e-02,\n",
              "       2.09564335e+00, 9.86809577e-02, 1.64756547e+00, 1.36569758e+00,\n",
              "       5.06231109e-01, 1.68766335e+00, 1.42793622e+00, 5.75964307e-01,\n",
              "       5.31539512e-01, 1.01236548e+00, 3.99062139e-01, 6.41156315e-01,\n",
              "       2.74130186e-01, 1.55544947e+00, 2.01012990e-01, 1.95628288e+00,\n",
              "       2.31773442e-01, 3.05050659e-02, 1.68911698e-01, 5.02364619e-01,\n",
              "       1.37897691e+00, 6.62319018e-01, 1.53426929e+00, 6.43029368e-02,\n",
              "       1.76031989e-01, 1.73757632e-01, 9.83068036e-01, 1.37198459e-01,\n",
              "       1.06144565e+00, 6.50823045e-01, 2.18232383e-01, 1.82449294e+00,\n",
              "       5.72732829e-03, 1.64595301e+00, 6.30947527e-01, 2.06609514e+00,\n",
              "       3.06101235e-01, 7.91637326e-01, 3.52521281e-01, 1.60453358e+00,\n",
              "       9.72199320e-01, 1.50416228e+00, 2.19441772e-01, 1.95482808e+00,\n",
              "       5.50186971e-01, 1.03269933e+00, 1.36454641e+00, 1.75706135e+00,\n",
              "       1.56492523e+00, 1.86192488e-01, 1.18939866e+00, 7.06014369e-01])"
            ]
          },
          "metadata": {
            "tags": []
          },
          "execution_count": 30
        }
      ]
    },
    {
      "cell_type": "code",
      "metadata": {
        "id": "4576ya_MO2nU",
        "colab": {
          "base_uri": "https://localhost:8080/",
          "height": 215
        },
        "outputId": "8ae762ea-1941-4bee-d77c-0def54f3144e"
      },
      "source": [
        "# Select numerical columns\n",
        "numerical_cols = [cname for cname in label_X_train.columns if\n",
        "                label_X_train[cname].dtype in ['int64', 'float64']]\n",
        "\n",
        "label_X_train[numerical_cols].head()\n"
      ],
      "execution_count": null,
      "outputs": [
        {
          "output_type": "execute_result",
          "data": {
            "text/html": [
              "<div>\n",
              "<style scoped>\n",
              "    .dataframe tbody tr th:only-of-type {\n",
              "        vertical-align: middle;\n",
              "    }\n",
              "\n",
              "    .dataframe tbody tr th {\n",
              "        vertical-align: top;\n",
              "    }\n",
              "\n",
              "    .dataframe thead th {\n",
              "        text-align: right;\n",
              "    }\n",
              "</style>\n",
              "<table border=\"1\" class=\"dataframe\">\n",
              "  <thead>\n",
              "    <tr style=\"text-align: right;\">\n",
              "      <th></th>\n",
              "      <th>YEAR</th>\n",
              "      <th>MONTH</th>\n",
              "      <th>DAY</th>\n",
              "      <th>DAY_OF_WEEK</th>\n",
              "      <th>AIRLINE</th>\n",
              "      <th>FLIGHT_NUMBER</th>\n",
              "      <th>ORIGIN_AIRPORT</th>\n",
              "      <th>DESTINATION_AIRPORT</th>\n",
              "      <th>SCHEDULED_DEPARTURE</th>\n",
              "      <th>SCHEDULED_TIME</th>\n",
              "      <th>DISTANCE</th>\n",
              "      <th>SCHEDULED_ARRIVAL</th>\n",
              "    </tr>\n",
              "  </thead>\n",
              "  <tbody>\n",
              "    <tr>\n",
              "      <th>645400</th>\n",
              "      <td>2015</td>\n",
              "      <td>2</td>\n",
              "      <td>12</td>\n",
              "      <td>4</td>\n",
              "      <td>6</td>\n",
              "      <td>26</td>\n",
              "      <td>137</td>\n",
              "      <td>230</td>\n",
              "      <td>1500</td>\n",
              "      <td>330.0</td>\n",
              "      <td>2603</td>\n",
              "      <td>2230</td>\n",
              "    </tr>\n",
              "    <tr>\n",
              "      <th>546962</th>\n",
              "      <td>2015</td>\n",
              "      <td>2</td>\n",
              "      <td>6</td>\n",
              "      <td>5</td>\n",
              "      <td>3</td>\n",
              "      <td>1864</td>\n",
              "      <td>262</td>\n",
              "      <td>211</td>\n",
              "      <td>625</td>\n",
              "      <td>227.0</td>\n",
              "      <td>1532</td>\n",
              "      <td>1212</td>\n",
              "    </tr>\n",
              "    <tr>\n",
              "      <th>159193</th>\n",
              "      <td>2015</td>\n",
              "      <td>1</td>\n",
              "      <td>11</td>\n",
              "      <td>7</td>\n",
              "      <td>4</td>\n",
              "      <td>4427</td>\n",
              "      <td>146</td>\n",
              "      <td>18</td>\n",
              "      <td>1125</td>\n",
              "      <td>119.0</td>\n",
              "      <td>689</td>\n",
              "      <td>1424</td>\n",
              "    </tr>\n",
              "    <tr>\n",
              "      <th>288445</th>\n",
              "      <td>2015</td>\n",
              "      <td>1</td>\n",
              "      <td>19</td>\n",
              "      <td>1</td>\n",
              "      <td>3</td>\n",
              "      <td>1112</td>\n",
              "      <td>188</td>\n",
              "      <td>18</td>\n",
              "      <td>2030</td>\n",
              "      <td>87.0</td>\n",
              "      <td>404</td>\n",
              "      <td>2157</td>\n",
              "    </tr>\n",
              "    <tr>\n",
              "      <th>298874</th>\n",
              "      <td>2015</td>\n",
              "      <td>1</td>\n",
              "      <td>20</td>\n",
              "      <td>2</td>\n",
              "      <td>13</td>\n",
              "      <td>4858</td>\n",
              "      <td>12</td>\n",
              "      <td>188</td>\n",
              "      <td>1505</td>\n",
              "      <td>195.0</td>\n",
              "      <td>1073</td>\n",
              "      <td>1820</td>\n",
              "    </tr>\n",
              "  </tbody>\n",
              "</table>\n",
              "</div>"
            ],
            "text/plain": [
              "        YEAR  MONTH  DAY  ...  SCHEDULED_TIME  DISTANCE  SCHEDULED_ARRIVAL\n",
              "645400  2015      2   12  ...           330.0      2603               2230\n",
              "546962  2015      2    6  ...           227.0      1532               1212\n",
              "159193  2015      1   11  ...           119.0       689               1424\n",
              "288445  2015      1   19  ...            87.0       404               2157\n",
              "298874  2015      1   20  ...           195.0      1073               1820\n",
              "\n",
              "[5 rows x 12 columns]"
            ]
          },
          "metadata": {
            "tags": []
          },
          "execution_count": 28
        }
      ]
    },
    {
      "cell_type": "code",
      "metadata": {
        "id": "jmAfWPyulVxC"
      },
      "source": [
        "# Keep selected columns only\n",
        "categorical_cols = good_label_cols\n",
        "my_cols = categorical_cols + numerical_cols  # sometime use category_cols instead of good_label_cols for one-hot encoding\n",
        "X_train = label_X_train[my_cols].copy()\n",
        "X_valid = label_X_valid[my_cols].copy()\n",
        "X_test = label_X_test[my_cols].copy()"
      ],
      "execution_count": null,
      "outputs": []
    },
    {
      "cell_type": "code",
      "metadata": {
        "id": "Vrp4ORf2k5Bk",
        "colab": {
          "base_uri": "https://localhost:8080/",
          "height": 400
        },
        "outputId": "8da33d39-240e-441d-d6de-81e7c0d7f7f6"
      },
      "source": [
        "# print distribution of two numerical columns\n",
        "\n",
        "fig, ax = plt.subplots(1,2)\n",
        "sns.distplot(label_X_train.AIRLINE, ax = ax[0])\n",
        "ax[0].set_title('Airline Distribution')\n",
        "sns.distplot(label_X_train.FLIGHT_NUMBER, ax = ax[1])\n",
        "ax[1].set_title('Flight Number Distribution')"
      ],
      "execution_count": null,
      "outputs": [
        {
          "output_type": "stream",
          "text": [
            "/usr/local/lib/python3.6/dist-packages/seaborn/distributions.py:2551: FutureWarning: `distplot` is a deprecated function and will be removed in a future version. Please adapt your code to use either `displot` (a figure-level function with similar flexibility) or `histplot` (an axes-level function for histograms).\n",
            "  warnings.warn(msg, FutureWarning)\n",
            "/usr/local/lib/python3.6/dist-packages/seaborn/distributions.py:2551: FutureWarning: `distplot` is a deprecated function and will be removed in a future version. Please adapt your code to use either `displot` (a figure-level function with similar flexibility) or `histplot` (an axes-level function for histograms).\n",
            "  warnings.warn(msg, FutureWarning)\n"
          ],
          "name": "stderr"
        },
        {
          "output_type": "execute_result",
          "data": {
            "text/plain": [
              "Text(0.5, 1.0, 'Flight Number Distribution')"
            ]
          },
          "metadata": {
            "tags": []
          },
          "execution_count": 29
        },
        {
          "output_type": "display_data",
          "data": {
            "image/png": "[encoded data removed]",
            "text/plain": [
              "<Figure size 432x288 with 2 Axes>"
            ]
          },
          "metadata": {
            "tags": [],
            "needs_background": "light"
          }
        }
      ]
    },
    {
      "cell_type": "markdown",
      "metadata": {
        "id": "sufb0JL5sYDe"
      },
      "source": [
        "### Model using Decision Tree Classifier"
      ]
    },
    {
      "cell_type": "code",
      "metadata": {
        "id": "8LLDyhG1Dv8F"
      },
      "source": [
        "# Define Preprocessing Steps and import dependecies\n",
        "from sklearn.compose import ColumnTransformer\n",
        "from sklearn.pipeline import Pipeline\n",
        "from sklearn.impute import SimpleImputer, KNNImputer\n",
        "from sklearn.preprocessing import StandardScaler, OneHotEncoder\n",
        "\n",
        "\n",
        "# Preprocessing for numerical data\n",
        "numerical_transformer = KNNImputer(n_neighbors=3)\n",
        "\n",
        "# Preprocessing for categorical data\n",
        "categorical_transformer = Pipeline(steps=[('imputer', SimpleImputer(strategy='most_frequent'))])\n",
        "\n"
      ],
      "execution_count": null,
      "outputs": []
    },
    {
      "cell_type": "code",
      "metadata": {
        "id": "38Nl-6S8RlwQ",
        "colab": {
          "base_uri": "https://localhost:8080/"
        },
        "outputId": "288f7cbb-4a0d-4318-ef95-d6c4e7c2ead8"
      },
      "source": [
        "# Step 1 : Bundle preprocessing for numerical and categorical data\n",
        "\n",
        "preprocessor = ColumnTransformer(transformers=[ ('num', numerical_transformer, numerical_cols),\n",
        "                ('cat', categorical_transformer, categorical_cols) ])\n",
        "\n",
        "# Step 2: Define the Model\n",
        "from sklearn.tree import DecisionTreeClassifier\n",
        "model_1 = DecisionTreeClassifier(random_state=0)\n",
        "\n",
        "# Step 3: Create and Evaluate the Pipeline\n",
        "from sklearn.metrics import accuracy_score,average_precision_score,f1_score,roc_auc_score\n",
        "\n",
        "# Bundle preprocessing and modeling code in a pipeline\n",
        "my_pipeline = Pipeline(steps=[('preprocessor', preprocessor), ('model', model_1)])\n",
        "my_pipeline.fit(X_train, y_train)\n",
        "\n",
        "# Preprocessing of validation data, get predictions\n",
        "preds = my_pipeline.predict(X_valid)\n",
        "\n",
        "# Evaluate the model\n",
        "score = accuracy_score(y_valid, preds)\n",
        "avg_precisionScore = average_precision_score(y_valid, preds)\n",
        "\n",
        "print('Accuracy Score:', score)\n",
        "print('Average Precision Score:', avg_precisionScore)\n",
        "print(\"The roc_auc_score is :\", roc_auc_score(y_valid, preds))\n",
        "print(\"The mairo averaged f1_score is :\", f1_score(y_valid, preds, average='micro'))\n",
        "print(\"The weighted averaged f1_score is :\", f1_score(y_valid, preds, average='weighted'))\n",
        "print(\"The  f1_score is :\", f1_score(y_valid, preds, average='macro'))"
      ],
      "execution_count": null,
      "outputs": [
        {
          "output_type": "stream",
          "text": [
            "Accuracy Score: 0.9591111746894595\n",
            "Average Precision Score: 0.19727892054971788\n",
            "The roc_auc_score is : 0.7069283108834433\n",
            "The mairo averaged f1_score is : 0.9591111746894594\n",
            "The weighted averaged f1_score is : 0.9597686770597895\n",
            "The  f1_score is : 0.7002445217648174\n"
          ],
          "name": "stdout"
        }
      ]
    },
    {
      "cell_type": "code",
      "metadata": {
        "id": "c1xMwAiOn1sF",
        "colab": {
          "base_uri": "https://localhost:8080/"
        },
        "outputId": "919dfa49-9fc9-434c-9543-3a497f014b4a"
      },
      "source": [
        "# print classification report (confusion matrix)\n",
        "from sklearn.metrics import classification_report,confusion_matrix\n",
        "print (classification_report(y_valid, preds))\n",
        "print (confusion_matrix(y_valid, preds))\n"
      ],
      "execution_count": null,
      "outputs": [
        {
          "output_type": "stream",
          "text": [
            "              precision    recall  f1-score   support\n",
            "\n",
            "           0       0.98      0.98      0.98    162039\n",
            "           1       0.41      0.44      0.42      5733\n",
            "\n",
            "    accuracy                           0.96    167772\n",
            "   macro avg       0.69      0.71      0.70    167772\n",
            "weighted avg       0.96      0.96      0.96    167772\n",
            "\n",
            "[[158411   3628]\n",
            " [  3232   2501]]\n"
          ],
          "name": "stdout"
        }
      ]
    },
    {
      "cell_type": "code",
      "metadata": {
        "id": "rp8X4bygpc-k",
        "colab": {
          "base_uri": "https://localhost:8080/"
        },
        "outputId": "749b84ea-fb44-416a-b9fc-9fed576bb811"
      },
      "source": [
        "# Use imbalance library to calculate sensitiivty score  of model\n",
        "from imblearn.metrics import sensitivity_score\n",
        "print(sensitivity_score(y_valid, preds, average='macro'))\n",
        "print(sensitivity_score(y_valid, preds, average='micro'))\n",
        "print(sensitivity_score(y_valid, preds, average='weighted'))\n",
        "print(sensitivity_score(y_valid, preds, average=None))\n"
      ],
      "execution_count": null,
      "outputs": [
        {
          "output_type": "stream",
          "text": [
            "0.7069283108834434\n",
            "0.9591111746894595\n",
            "0.9591111746894595\n",
            "[0.97761033 0.43624629]\n"
          ],
          "name": "stdout"
        },
        {
          "output_type": "stream",
          "text": [
            "/usr/local/lib/python3.6/dist-packages/sklearn/externals/six.py:31: FutureWarning: The module is deprecated in version 0.21 and will be removed in version 0.23 since we've dropped support for Python 2.7. Please rely on the official version of six (https://pypi.org/project/six/).\n",
            "  \"(https://pypi.org/project/six/).\", FutureWarning)\n",
            "/usr/local/lib/python3.6/dist-packages/sklearn/utils/deprecation.py:144: FutureWarning: The sklearn.neighbors.base module is  deprecated in version 0.22 and will be removed in version 0.24. The corresponding classes / functions should instead be imported from sklearn.neighbors. Anything that cannot be imported from sklearn.neighbors is now part of the private API.\n",
            "  warnings.warn(message, FutureWarning)\n",
            "/usr/local/lib/python3.6/dist-packages/sklearn/utils/deprecation.py:144: FutureWarning: The sklearn.metrics.classification module is  deprecated in version 0.22 and will be removed in version 0.24. The corresponding classes / functions should instead be imported from sklearn.metrics. Anything that cannot be imported from sklearn.metrics is now part of the private API.\n",
            "  warnings.warn(message, FutureWarning)\n"
          ],
          "name": "stderr"
        }
      ]
    },
    {
      "cell_type": "code",
      "metadata": {
        "id": "WupO8eGFUfkd"
      },
      "source": [
        "# Preprocessing of test data, fit model\n",
        "preds_test = my_pipeline.predict(X_test)\n",
        "\n",
        "# Save test predictions to file\n",
        "output = pd.DataFrame({'Id': X_test.index,'CANCELLED': preds_test})\n",
        "output.to_csv('submission_DT.csv', index=False)"
      ],
      "execution_count": null,
      "outputs": []
    },
    {
      "cell_type": "markdown",
      "metadata": {
        "id": "4Fl7sOptd_zG"
      },
      "source": [
        "# Hyperparameter Tunning with Grid Search CV"
      ]
    },
    {
      "cell_type": "code",
      "metadata": {
        "id": "dg49UN5keEnG"
      },
      "source": [
        ""
      ],
      "execution_count": null,
      "outputs": []
    },
    {
      "cell_type": "code",
      "metadata": {
        "colab": {
          "base_uri": "https://localhost:8080/"
        },
        "id": "Ao5pFmEOeWjp",
        "outputId": "2e8fb612-8e73-4fc0-d51a-bea3a2c4e733"
      },
      "source": [
        "# import required libraries\n",
        "from sklearn.model_selection import GridSearchCV\n",
        "from sklearn.model_selection import KFold\n",
        "from sklearn.pipeline import Pipeline\n",
        "from sklearn.metrics import accuracy_score, average_precision_score, f1_score\n",
        "\n",
        "# Step 1 : Bundle preprocessing for numerical and categorical data\n",
        "preprocessor = ColumnTransformer(transformers=[ ('num', numerical_transformer, numerical_cols),\n",
        "                ('cat', categorical_transformer, categorical_cols) ])\n",
        "\n",
        "# Step 2: Define the Model\n",
        "from sklearn.linear_model import LogisticRegression\n",
        "clf = LogisticRegression()\n",
        "\n",
        "cv=KFold(n_splits=5,random_state=None,shuffle=False)\n",
        "\n",
        "# Bundle preprocessing and modeling code in a pipeline\n",
        "my_pipeline = Pipeline(steps=[('preprocessor', preprocessor), ('clf', clf)])\n",
        "grid={'clf__penalty': ['l1', 'l2']}\n",
        "parameters1 = { 'clf__C': [0.001, 0.01, 0.1,1,10],'clf__penalty': ['l1', 'l2'], 'clf__solver':['l1', 'l2', 'elasticnet', 'none']}\n",
        "Grid1 = GridSearchCV(my_pipeline, grid, cv = cv, scoring = 'f1_macro')\n",
        "\n",
        "Grid1.fit(X_train, y_train)\n",
        "\n",
        "#Get the best estimator and print out the estimator model\n",
        "best_clf = Grid1.best_estimator_\n",
        "print (best_clf)\n",
        "\n",
        "#Use best estimator to make predictions on the test set\n",
        "y_pred = best_clf.predict(X_valid)"
      ],
      "execution_count": null,
      "outputs": [
        {
          "output_type": "stream",
          "text": [
            "/usr/local/lib/python3.6/dist-packages/sklearn/model_selection/_validation.py:536: FitFailedWarning: Estimator fit failed. The score on this train-test partition for these parameters will be set to nan. Details: \n",
            "ValueError: Solver lbfgs supports only 'l2' or 'none' penalties, got l1 penalty.\n",
            "\n",
            "  FitFailedWarning)\n",
            "/usr/local/lib/python3.6/dist-packages/sklearn/model_selection/_validation.py:536: FitFailedWarning: Estimator fit failed. The score on this train-test partition for these parameters will be set to nan. Details: \n",
            "ValueError: Solver lbfgs supports only 'l2' or 'none' penalties, got l1 penalty.\n",
            "\n",
            "  FitFailedWarning)\n",
            "/usr/local/lib/python3.6/dist-packages/sklearn/model_selection/_validation.py:536: FitFailedWarning: Estimator fit failed. The score on this train-test partition for these parameters will be set to nan. Details: \n",
            "ValueError: Solver lbfgs supports only 'l2' or 'none' penalties, got l1 penalty.\n",
            "\n",
            "  FitFailedWarning)\n",
            "/usr/local/lib/python3.6/dist-packages/sklearn/model_selection/_validation.py:536: FitFailedWarning: Estimator fit failed. The score on this train-test partition for these parameters will be set to nan. Details: \n",
            "ValueError: Solver lbfgs supports only 'l2' or 'none' penalties, got l1 penalty.\n",
            "\n",
            "  FitFailedWarning)\n",
            "/usr/local/lib/python3.6/dist-packages/sklearn/model_selection/_validation.py:536: FitFailedWarning: Estimator fit failed. The score on this train-test partition for these parameters will be set to nan. Details: \n",
            "ValueError: Solver lbfgs supports only 'l2' or 'none' penalties, got l1 penalty.\n",
            "\n",
            "  FitFailedWarning)\n",
            "/usr/local/lib/python3.6/dist-packages/sklearn/linear_model/_logistic.py:940: ConvergenceWarning: lbfgs failed to converge (status=1):\n",
            "STOP: TOTAL NO. of ITERATIONS REACHED LIMIT.\n",
            "\n",
            "Increase the number of iterations (max_iter) or scale the data as shown in:\n",
            "    https://scikit-learn.org/stable/modules/preprocessing.html\n",
            "Please also refer to the documentation for alternative solver options:\n",
            "    https://scikit-learn.org/stable/modules/linear_model.html#logistic-regression\n",
            "  extra_warning_msg=_LOGISTIC_SOLVER_CONVERGENCE_MSG)\n",
            "/usr/local/lib/python3.6/dist-packages/sklearn/linear_model/_logistic.py:940: ConvergenceWarning: lbfgs failed to converge (status=1):\n",
            "STOP: TOTAL NO. of ITERATIONS REACHED LIMIT.\n",
            "\n",
            "Increase the number of iterations (max_iter) or scale the data as shown in:\n",
            "    https://scikit-learn.org/stable/modules/preprocessing.html\n",
            "Please also refer to the documentation for alternative solver options:\n",
            "    https://scikit-learn.org/stable/modules/linear_model.html#logistic-regression\n",
            "  extra_warning_msg=_LOGISTIC_SOLVER_CONVERGENCE_MSG)\n",
            "/usr/local/lib/python3.6/dist-packages/sklearn/linear_model/_logistic.py:940: ConvergenceWarning: lbfgs failed to converge (status=1):\n",
            "STOP: TOTAL NO. of ITERATIONS REACHED LIMIT.\n",
            "\n",
            "Increase the number of iterations (max_iter) or scale the data as shown in:\n",
            "    https://scikit-learn.org/stable/modules/preprocessing.html\n",
            "Please also refer to the documentation for alternative solver options:\n",
            "    https://scikit-learn.org/stable/modules/linear_model.html#logistic-regression\n",
            "  extra_warning_msg=_LOGISTIC_SOLVER_CONVERGENCE_MSG)\n",
            "/usr/local/lib/python3.6/dist-packages/sklearn/linear_model/_logistic.py:940: ConvergenceWarning: lbfgs failed to converge (status=1):\n",
            "STOP: TOTAL NO. of ITERATIONS REACHED LIMIT.\n",
            "\n",
            "Increase the number of iterations (max_iter) or scale the data as shown in:\n",
            "    https://scikit-learn.org/stable/modules/preprocessing.html\n",
            "Please also refer to the documentation for alternative solver options:\n",
            "    https://scikit-learn.org/stable/modules/linear_model.html#logistic-regression\n",
            "  extra_warning_msg=_LOGISTIC_SOLVER_CONVERGENCE_MSG)\n",
            "/usr/local/lib/python3.6/dist-packages/sklearn/linear_model/_logistic.py:940: ConvergenceWarning: lbfgs failed to converge (status=1):\n",
            "STOP: TOTAL NO. of ITERATIONS REACHED LIMIT.\n",
            "\n",
            "Increase the number of iterations (max_iter) or scale the data as shown in:\n",
            "    https://scikit-learn.org/stable/modules/preprocessing.html\n",
            "Please also refer to the documentation for alternative solver options:\n",
            "    https://scikit-learn.org/stable/modules/linear_model.html#logistic-regression\n",
            "  extra_warning_msg=_LOGISTIC_SOLVER_CONVERGENCE_MSG)\n"
          ],
          "name": "stderr"
        },
        {
          "output_type": "stream",
          "text": [
            "Pipeline(memory=None,\n",
            "         steps=[('preprocessor',\n",
            "                 ColumnTransformer(n_jobs=None, remainder='drop',\n",
            "                                   sparse_threshold=0.3,\n",
            "                                   transformer_weights=None,\n",
            "                                   transformers=[('num',\n",
            "                                                  Pipeline(memory=None,\n",
            "                                                           steps=[('imputer',\n",
            "                                                                   SimpleImputer(add_indicator=False,\n",
            "                                                                                 copy=True,\n",
            "                                                                                 fill_value=None,\n",
            "                                                                                 missing_values=nan,\n",
            "                                                                                 strategy='mean',\n",
            "                                                                                 verbose=0)),\n",
            "                                                                  ('scaler',\n",
            "                                                                   StandardScaler(copy=True,\n",
            "                                                                                  with_mean=T...\n",
            "                                                                                 verbose=0))],\n",
            "                                                           verbose=False),\n",
            "                                                  ['AIRLINE', 'ORIGIN_AIRPORT',\n",
            "                                                   'DESTINATION_AIRPORT'])],\n",
            "                                   verbose=False)),\n",
            "                ('clf',\n",
            "                 LogisticRegression(C=1.0, class_weight=None, dual=False,\n",
            "                                    fit_intercept=True, intercept_scaling=1,\n",
            "                                    l1_ratio=None, max_iter=100,\n",
            "                                    multi_class='auto', n_jobs=None,\n",
            "                                    penalty='l2', random_state=None,\n",
            "                                    solver='lbfgs', tol=0.0001, verbose=0,\n",
            "                                    warm_start=False))],\n",
            "         verbose=False)\n"
          ],
          "name": "stdout"
        },
        {
          "output_type": "stream",
          "text": [
            "/usr/local/lib/python3.6/dist-packages/sklearn/linear_model/_logistic.py:940: ConvergenceWarning: lbfgs failed to converge (status=1):\n",
            "STOP: TOTAL NO. of ITERATIONS REACHED LIMIT.\n",
            "\n",
            "Increase the number of iterations (max_iter) or scale the data as shown in:\n",
            "    https://scikit-learn.org/stable/modules/preprocessing.html\n",
            "Please also refer to the documentation for alternative solver options:\n",
            "    https://scikit-learn.org/stable/modules/linear_model.html#logistic-regression\n",
            "  extra_warning_msg=_LOGISTIC_SOLVER_CONVERGENCE_MSG)\n"
          ],
          "name": "stderr"
        }
      ]
    }
  ]
}